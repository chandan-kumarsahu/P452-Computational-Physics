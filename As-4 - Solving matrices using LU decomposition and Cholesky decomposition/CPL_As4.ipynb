{
 "cells": [
  {
   "cell_type": "code",
   "execution_count": 1,
   "metadata": {},
   "outputs": [],
   "source": [
    "\n",
    "%run CPL_Library.ipynb  # Running the entire library in one line because \n",
    "                        # importing does not work with JupyterLab\n"
   ]
  },
  {
   "cell_type": "markdown",
   "metadata": {},
   "source": [
    "# Question 1"
   ]
  },
  {
   "cell_type": "code",
   "execution_count": 2,
   "metadata": {},
   "outputs": [
    {
     "name": "stdout",
     "output_type": "stream",
     "text": [
      "The matrix is: \n",
      "\n",
      "1.0    0.0    1.0    2.0    \n",
      "\n",
      "0.0    1.0    -2.0    0.0    \n",
      "\n",
      "1.0    2.0    -1.0    0.0    \n",
      "\n",
      "2.0    1.0    3.0    -2.0    \n",
      "\n",
      "\n",
      "The transformed LU matrix is \n",
      "\n",
      "1.0    0.0    1.0    2.0    \n",
      "\n",
      "0.0    1.0    -2.0    0.0    \n",
      "\n",
      "1.0    2.0    2.0    -2.0    \n",
      "\n",
      "2.0    1.0    1.5    -3.0    \n",
      "\n",
      "\n",
      "Solutions are : \n",
      "x[0] = 1.0\n",
      "x[1] = -1.0\n",
      "x[2] = 1.0\n",
      "x[3] = 2.0\n"
     ]
    }
   ],
   "source": [
    "# LU decomposition using Doolittle's condition L[i][i]=1\n",
    "\n",
    "print(\"The matrix is: \")\n",
    "A1,ro,co = read_matrix('As4matrixA.txt')\n",
    "print_matrix(A1,ro,co)\n",
    "\n",
    "vector=[6,-3,-2,0]\n",
    "\n",
    "# partial pivoting to avoid division by zero at pivot place\n",
    "A1, vector = partial_pivot_LU(A1, vector, ro)\n",
    "A1 = LU_doolittle(A1,ro)\n",
    "print(\"The transformed LU matrix is \")\n",
    "print_matrix(A1,ro,ro)\n",
    "\n",
    "x = [0 for i in range(ro)]\n",
    "\n",
    "x = for_back_subs_doolittle(A1,ro,vector)\n",
    "\n",
    "print(\"Solutions are : \")\n",
    "for i in range(ro):\n",
    "    print(\"x[\"+str(i)+\"] = \"+str(x[i]))\n"
   ]
  },
  {
   "cell_type": "code",
   "execution_count": 3,
   "metadata": {},
   "outputs": [
    {
     "name": "stdout",
     "output_type": "stream",
     "text": [
      "The matrix is: \n",
      "\n",
      "1.0    0.0    1.0    2.0    \n",
      "\n",
      "0.0    1.0    -2.0    0.0    \n",
      "\n",
      "1.0    2.0    -1.0    0.0    \n",
      "\n",
      "2.0    1.0    3.0    -2.0    \n",
      "\n",
      "\n",
      "The transformed LU matrix is \n",
      "\n",
      "1.0    0.0    1.0    2.0    \n",
      "\n",
      "0.0    1.0    -2.0    0.0    \n",
      "\n",
      "1.0    2.0    2.0    -1.0    \n",
      "\n",
      "2.0    1.0    3.0    -3.0    \n",
      "\n",
      "\n",
      "Solutions are : \n",
      "x[0] = 1.0\n",
      "x[1] = -1.0\n",
      "x[2] = 1.0\n",
      "x[3] = 2.0\n"
     ]
    }
   ],
   "source": [
    "# LU decomposition using Crout's condition U[i][i]=1\n",
    "\n",
    "print(\"The matrix is: \")\n",
    "A2,ro,co=read_matrix('As4matrixA.txt')\n",
    "print_matrix(A2,ro,co)\n",
    "\n",
    "vector=[6,-3,-2,0]\n",
    "\n",
    "# partial pivoting to avoid division by zero at pivot place\n",
    "A1, vector = partial_pivot_LU(A1, vector, ro)\n",
    "A2=LU_crout(A2,ro)\n",
    "print(\"The transformed LU matrix is \")\n",
    "print_matrix(A2,ro,ro)\n",
    "\n",
    "x = [0 for i in range(ro)]\n",
    "\n",
    "x=for_back_subs_crout(A2,ro,vector)\n",
    "\n",
    "print(\"Solutions are : \")\n",
    "for i in range(ro):\n",
    "    print(\"x[\"+str(i)+\"] = \"+str(x[i]))\n"
   ]
  },
  {
   "cell_type": "markdown",
   "metadata": {},
   "source": [
    "# Question 2"
   ]
  },
  {
   "cell_type": "code",
   "execution_count": 4,
   "metadata": {},
   "outputs": [
    {
     "name": "stdout",
     "output_type": "stream",
     "text": [
      "The initial matrix is : \n",
      "\n",
      "0.0    2.0    8.0    6.0    \n",
      "\n",
      "0.0    0.0    1.0    2.0    \n",
      "\n",
      "0.0    1.0    0.0    1.0    \n",
      "\n",
      "3.0    7.0    1.0    0.0    \n",
      "\n",
      "\n",
      "The inverse is:\n",
      "\n",
      "-0.25000000000000006    1.6666666666666672    -1.8333333333333333    0.3333333333333333    \n",
      "\n",
      "0.08333333333333337    -0.666666666666667    0.8333333333333333    0.0    \n",
      "\n",
      "0.16666666666666666    -0.33333333333333326    -0.3333333333333333    0.0    \n",
      "\n",
      "-0.08333333333333333    0.6666666666666666    0.16666666666666666    0.0    \n",
      "\n",
      "\n",
      "Verification : \n",
      "\n",
      "1.0    0    0    0    \n",
      "\n",
      "0    1.0    0    0    \n",
      "\n",
      "0.0    -0.0    1.0    0    \n",
      "\n",
      "0.0    -0.0    -0.0    1.0    \n",
      "\n",
      "\n"
     ]
    }
   ],
   "source": [
    "print(\"The initial matrix is : \")\n",
    "B,ro,co=read_matrix('As4matrixB.txt')\n",
    "print_matrix(B,ro,ro)\n",
    "\n",
    "C=copy.deepcopy(B) # deepcopy for unchanged matrix required for inverse \n",
    "\n",
    "identity=get_identity(ro)\n",
    "\n",
    "# Then partial pivoting is done for both matrix and vector.\n",
    "# Then the decomposition algorithm is applied.\n",
    "B, identity = partial_pivot_LU(B, identity, ro)\n",
    "B=LU_doolittle(B,ro)\n",
    "\n",
    "#print(\"The transformed LU matrix is \")\n",
    "#print_matrix(B,ro,ro)\n",
    "\n",
    "#Checking if inverse exists\n",
    "det=determinant(B,ro)\n",
    "if det == 0:\n",
    "    print(\"Determinant = zero.\\nInverse doesn't exist.\")\n",
    "else:\n",
    "    print(\"The inverse is:\")\n",
    "\n",
    "    # Calculating and printing inverse\n",
    "    inverse= inverse_by_lu_decomposition(C, ro)\n",
    "    print_matrix(inverse,ro,ro)\n",
    "    \n",
    "    # Verification: gives indentity matrix on multiplication with original matrix\n",
    "    print(\"Verification : \")\n",
    "    mm,r,c=matrix_multiply(C,ro,ro,inverse,ro,ro)\n",
    "    print_matrix(round_matrix(mm),r,c)\n"
   ]
  },
  {
   "cell_type": "markdown",
   "metadata": {},
   "source": [
    "# Question 3"
   ]
  },
  {
   "cell_type": "code",
   "execution_count": 5,
   "metadata": {},
   "outputs": [
    {
     "name": "stdout",
     "output_type": "stream",
     "text": [
      "The matrix is: \n",
      "\n",
      "10.0    1.0    0.0    2.5    2.2    \n",
      "\n",
      "1.0    12.0    -0.3    1.1    2.85    \n",
      "\n",
      "0.0    -0.3    9.5    0.0    2.79    \n",
      "\n",
      "2.5    1.1    0.0    6.0    2.87    \n",
      "\n",
      "\n",
      "The transformed Cholesky matrix is \n",
      "\n",
      "3.16    0.32    0    0.79    \n",
      "\n",
      "0.32    3.45    -0.09    0.25    \n",
      "\n",
      "0    -0.09    3.08    0.01    \n",
      "\n",
      "0.79    0.25    0.01    2.31    \n",
      "\n",
      "\n",
      "Solutions are : \n",
      "0.10\n",
      "0.20\n",
      "0.30\n",
      "0.40\n"
     ]
    }
   ],
   "source": [
    "# Function for Cholesky decomposition\n",
    "\n",
    "print(\"The matrix is: \")\n",
    "C,ro,co=read_matrix('As4matrixC.txt')\n",
    "print_matrix(C,ro,co)\n",
    "\n",
    "vector=[2.20, 2.85, 2.79, 2.87]\n",
    "\n",
    "# partial pivoting to avoid division by zero at pivot place\n",
    "C, vector = partial_pivot_LU(C, vector, ro)\n",
    "C=LU_cho(C,ro)\n",
    "print(\"The transformed Cholesky matrix is \")\n",
    "round_matrix(C)\n",
    "print_matrix(C,ro,ro)\n",
    "\n",
    "x=for_back_subs_cho(C,ro,vector)\n",
    "\n",
    "print(\"Solutions are : \")\n",
    "for i in range(ro):\n",
    "    print('%.2f'%x[i])\n"
   ]
  },
  {
   "cell_type": "code",
   "execution_count": null,
   "metadata": {},
   "outputs": [],
   "source": []
  }
 ],
 "metadata": {
  "kernelspec": {
   "display_name": "Python 3",
   "language": "python",
   "name": "python3"
  },
  "language_info": {
   "codemirror_mode": {
    "name": "ipython",
    "version": 3
   },
   "file_extension": ".py",
   "mimetype": "text/x-python",
   "name": "python",
   "nbconvert_exporter": "python",
   "pygments_lexer": "ipython3",
   "version": "3.7.6"
  }
 },
 "nbformat": 4,
 "nbformat_minor": 4
}
