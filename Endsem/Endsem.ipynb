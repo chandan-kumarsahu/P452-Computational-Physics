{
 "cells": [
  {
   "cell_type": "markdown",
   "metadata": {},
   "source": [
    "# Computational physics P452 endsem\n",
    "\n",
    "### Chandan Kumar Sahu\n",
    "### Roll No. 1911055"
   ]
  },
  {
   "cell_type": "code",
   "execution_count": 1,
   "metadata": {},
   "outputs": [],
   "source": [
    "import math\n",
    "import matplotlib.pyplot as plt\n",
    "from Chandan_Library_Endsem import *\n",
    "import warnings\n",
    "warnings.filterwarnings(\"ignore\")\n"
   ]
  },
  {
   "cell_type": "markdown",
   "metadata": {},
   "source": [
    "# Question 1\n"
   ]
  },
  {
   "cell_type": "markdown",
   "metadata": {},
   "source": [
    "# Mine"
   ]
  },
  {
   "cell_type": "code",
   "execution_count": 2,
   "metadata": {},
   "outputs": [
    {
     "name": "stdout",
     "output_type": "stream",
     "text": [
      "\n",
      "Lifetime of the species: 96.36253898605258\n",
      "Error in lifetime: 12.185024789735728\n",
      "\n",
      "Degrees of freedom: 9\n",
      "Chi square: 17.891415256354072\n",
      "The fit is not acceptable at 95% level of significance.\n"
     ]
    },
    {
     "data": {
      "image/png": "[encoded data removed]",
      "text/plain": [
       "<Figure size 600x400 with 1 Axes>"
      ]
     },
     "metadata": {},
     "output_type": "display_data"
    }
   ],
   "source": [
    "\n",
    "def exponential_decay(x, a, b):\n",
    "    return a * np.exp(-b * x)\n",
    "\n",
    "def Line_fit(X, Y):\n",
    "    n = len(X) # or len(Y)\n",
    "    xbar = sum(X)/n\n",
    "    ybar = sum(Y)/n\n",
    "\n",
    "    # Calculating numerator and denominator\n",
    "    numer = sum([xi*yi for xi,yi in zip(X, Y)]) - n * xbar * ybar\n",
    "    denum = sum([xi**2 for xi in X]) - n * xbar**2\n",
    "\n",
    "    # calculation of slope and intercept\n",
    "    m = numer / denum\n",
    "    c = ybar - m * xbar\n",
    "    \n",
    "    # Calculation of error in the slope\n",
    "    std_dev_residuals = np.sqrt(sum(( Y - (c + m*X) )**2) / (n - 2))\n",
    "    std_dev_x = np.sqrt(sum([(xi - xbar)**2 for xi in X]) / (n - 1))\n",
    "    slope_error = std_dev_residuals / (std_dev_x * np.sqrt(n))\n",
    "    \n",
    "    return c, m, slope_error\n",
    "\n",
    "def calculate_expected_frequencies(x, y):\n",
    "    log_y = np.log(y)\n",
    "    intercept, slope, error = Line_fit(x, log_y)\n",
    "    expected_frequencies = np.exp(intercept + slope * x)\n",
    "    return expected_frequencies\n",
    "\n",
    "def calculate_chi_square(x, observed, std_dev):\n",
    "    expected = calculate_expected_frequencies(x, observed)\n",
    "    chi_square = np.sum(((observed - expected) / std_dev)**2)\n",
    "    df = len(observed) - 1  # degrees of freedom\n",
    "    return chi_square, df\n",
    "\n",
    "x, observed, std_dev = np.genfromtxt('endsemfit.txt', unpack=True)\n",
    "chi_square, degrees_of_freedom = calculate_chi_square(x, observed, std_dev)\n",
    "\n",
    "def calculate_lifetime_and_error(slope, slope_error):\n",
    "    decay_constant = -slope\n",
    "    lifetime = 1 / decay_constant\n",
    "    lifetime_error = slope_error / (decay_constant ** 2)\n",
    "    return lifetime, lifetime_error\n",
    "\n",
    "print()\n",
    "\n",
    "log_observed = np.log(observed)\n",
    "intercept, slope, error = Line_fit(x, log_observed)\n",
    "lifetime, lifetime_error = calculate_lifetime_and_error(slope, error)\n",
    "print(\"Lifetime of the species:\", lifetime)\n",
    "print(\"Error in lifetime:\", lifetime_error)\n",
    "\n",
    "print()\n",
    "\n",
    "print(\"Degrees of freedom:\", degrees_of_freedom)\n",
    "print('Chi square:', chi_square)\n",
    "critical_chi_square = 16.919\n",
    "\n",
    "# Determine if fit is acceptable at 95% level of significance\n",
    "if chi_square < critical_chi_square:\n",
    "    print(\"The fit is acceptable at 95% level of significance.\")\n",
    "else:\n",
    "    print(\"The fit is not acceptable at 95% level of significance.\")\n",
    "\n",
    "# Plot the data and the fit\n",
    "expected = calculate_expected_frequencies(x, observed)\n",
    "\n",
    "plt.figure(figsize=(6, 4))\n",
    "plt.plot(x, expected, label='Fitting')\n",
    "plt.errorbar(x, observed, yerr=std_dev, fmt='o', label='Data')\n",
    "plt.xlabel('Time (s)')\n",
    "plt.ylabel('ln(counts)')\n",
    "plt.legend()\n",
    "plt.show()\n"
   ]
  },
  {
   "cell_type": "markdown",
   "metadata": {},
   "source": [
    "# Question 2\n"
   ]
  },
  {
   "cell_type": "code",
   "execution_count": 3,
   "metadata": {},
   "outputs": [
    {
     "name": "stdout",
     "output_type": "stream",
     "text": [
      "Root of the given equation: 3.92995\n",
      "Number of iterations performed: 10\n",
      "\n",
      "Root of the given equation: 0.18566\n",
      "Number of iterations performed: 36\n"
     ]
    }
   ],
   "source": [
    "# Define the function g(x), this has to be input by the user\n",
    "def g1(V):\n",
    "    T = 300\n",
    "    p = 5.95\n",
    "    R = 0.0821\n",
    "    a = 6.254\n",
    "    b = 0.05422\n",
    "    return R*T/(p+(a/(V**2))) + b\n",
    "\n",
    "initial_guess = 1.0\n",
    "eps=1e-6\n",
    "root, Num_iter = fixed_point_method(g1, initial_guess, eps)\n",
    "\n",
    "print(f\"Root of the given equation: {ROUND(root, 5)}\")\n",
    "print(f\"Number of iterations performed: {Num_iter}\")\n",
    "print()\n",
    "\n",
    "# Define the function g(x), this has to be input by the user\n",
    "def g2(V):\n",
    "    T = 300\n",
    "    p = 5.95\n",
    "    R = 0.0821\n",
    "    a = 6.254\n",
    "    b = 0.05422\n",
    "    return math.sqrt(a/(R*T/(V-b) - p))\n",
    "\n",
    "initial_guess = 1.0\n",
    "eps=1e-6\n",
    "root, Num_iter = fixed_point_method(g2, initial_guess, eps)\n",
    "\n",
    "print(f\"Root of the given equation: {ROUND(root, 5)}\")\n",
    "print(f\"Number of iterations performed: {Num_iter}\")\n"
   ]
  },
  {
   "cell_type": "markdown",
   "metadata": {},
   "source": [
    "# Question 3\n",
    "Done in answer sheet\n"
   ]
  },
  {
   "cell_type": "markdown",
   "metadata": {},
   "source": [
    "# Question 4\n",
    "Done in answer sheet"
   ]
  },
  {
   "cell_type": "markdown",
   "metadata": {},
   "source": [
    "# Question 5\n",
    "\n"
   ]
  },
  {
   "cell_type": "code",
   "execution_count": 4,
   "metadata": {},
   "outputs": [
    {
     "name": "stdout",
     "output_type": "stream",
     "text": [
      "Matrix:\n",
      "[[ 2. -1.  0.  0.  0.]\n",
      " [-1.  2. -1.  0.  0.]\n",
      " [ 0. -1.  2. -1.  0.]\n",
      " [ 0.  0. -1.  2. -1.]\n",
      " [ 0.  0.  0. -1.  2.]]\n",
      "\n",
      "Comparison with expected values:\n",
      "\n",
      "Expected eigenvalue 1: 3.732051\n",
      "Computed eigenvalue 1: 3.732051\n",
      "\n",
      "Expected eigenvector 1: [0.288675 0.5      0.57735  0.5      0.288675]\n",
      "Computed eigenvector 1: [-0.288675  0.5      -0.57735   0.5      -0.288675]\n",
      "\n",
      "Expected eigenvalue 2: 3.0\n",
      "Computed eigenvalue 2: 3.0\n",
      "\n",
      "Expected eigenvector 2: [ 0.5  0.5  0.  -0.5 -0.5]\n",
      "Computed eigenvector 2: [ 0.5 -0.5  0.   0.5 -0.5]\n",
      "\n"
     ]
    }
   ],
   "source": [
    "matrix = np.loadtxt('endsemmat.txt')\n",
    "\n",
    "print(\"Matrix:\")\n",
    "print(matrix)\n",
    "print()\n",
    "\n",
    "# Get the first two largest eigenvalues and their corresponding eigenvectors\n",
    "eigenvalues = []\n",
    "eigenvectors = []\n",
    "matrix_n = matrix\n",
    "for _ in range(2):\n",
    "    eigenvalue, eigenvector = power_method_AR(matrix_n, 1000)\n",
    "    eigenvalues.append(eigenvalue)\n",
    "    eigenvectors.append(eigenvector)\n",
    "    # Deflate the matrix\n",
    "    matrix_n = matrix_n - eigenvalue * np.outer(eigenvector, eigenvector)\n",
    "\n",
    "# Constants\n",
    "a = c = -1\n",
    "b = 2\n",
    "n = 5\n",
    "\n",
    "# Calculate expected eigenvalues and eigenvectors\n",
    "expected_eigenvalues = [b + 2 * np.sqrt(a * c) * np.cos(k * np.pi / (n + 1)) for k in range(1, 6)]\n",
    "expected_eigenvectors = [[2 * (np.sqrt(c / a))**k * np.sin(i * k * np.pi / (n + 1)) for i in range(1, n + 1)] for k in range(1, 6)]\n",
    "\n",
    "# Normalizing \n",
    "expected_eigenvectors = np.array(expected_eigenvectors)\n",
    "expected_eigenvectors = expected_eigenvectors / np.linalg.norm(expected_eigenvectors, axis=1)[:, np.newaxis]\n",
    "\n",
    "\n",
    "print(\"Comparison with expected values:\\n\")\n",
    "# Print the expected and computed eigenvalues and eigenvectors\n",
    "for i in range(2):\n",
    "\tprint(f\"Expected eigenvalue {i+1}: {np.round(expected_eigenvalues[i],6)}\")\n",
    "\tprint(f\"Computed eigenvalue {i+1}: {np.round(eigenvalues[i],6)}\")\n",
    "\tprint()\n",
    "\tprint(f\"Expected eigenvector {i+1}: {np.round(expected_eigenvectors[i],6)}\")\n",
    "\tprint(f\"Computed eigenvector {i+1}: {np.round(eigenvectors[i],6)}\")\n",
    "\tprint()"
   ]
  },
  {
   "cell_type": "markdown",
   "metadata": {},
   "source": [
    "# Question 6"
   ]
  },
  {
   "cell_type": "code",
   "execution_count": 5,
   "metadata": {},
   "outputs": [
    {
     "name": "stdout",
     "output_type": "stream",
     "text": [
      "Probability of getting success: 0.48422398264541244\n"
     ]
    },
    {
     "data": {
      "image/png": "[encoded data removed]",
      "text/plain": [
       "<Figure size 640x480 with 1 Axes>"
      ]
     },
     "metadata": {},
     "output_type": "display_data"
    }
   ],
   "source": [
    "a = 2\n",
    "N = 100000\n",
    "\n",
    "# Target distribution\n",
    "def p(x):\n",
    "\treturn 0.5 * (a**2 - x**2) if abs(x) < a else 0\n",
    "\n",
    "# Generate samples\n",
    "samples = []\n",
    "num_rejected = 0\n",
    "while len(samples) < N:\n",
    "\t# sample from Gaussian distribution\n",
    "\tx = np.random.normal(0, a)  \n",
    "\t# uniform random number\n",
    "\tu = np.random.uniform(0, 0.5 * a**2)\n",
    "\tif u < p(x):\n",
    "\t\tsamples.append(x)\n",
    "\telse:\n",
    "\t\tnum_rejected += 1\n",
    "\n",
    "# Print success probability\n",
    "print(f\"Probability of getting success: {N / (N + num_rejected)}\")\n",
    "\n",
    "# Plot histogram of samples\n",
    "plt.hist(samples, bins=30, density=True, color='skyblue', edgecolor='black')\n",
    "plt.xlabel('x')\n",
    "plt.ylabel('p(x)')\n",
    "plt.title('Histogram of Samples')\n",
    "plt.show()\n"
   ]
  },
  {
   "cell_type": "markdown",
   "metadata": {},
   "source": [
    "# Question 7\n"
   ]
  },
  {
   "cell_type": "code",
   "execution_count": 6,
   "metadata": {},
   "outputs": [
    {
     "name": "stdout",
     "output_type": "stream",
     "text": [
      "Expectation value of Hamiltonian: \n",
      "\n",
      "a = 0.1: E = 2.55069228876626\n",
      "a = 0.2: E = 1.347919491987395\n",
      "a = 0.3: E = 0.7385381926044581\n",
      "a = 0.4: E = 0.6261490206797669\n",
      "a = 0.5: E = 0.49490597413492615\n",
      "a = 0.6: E = 0.4271283686733075\n",
      "a = 0.7: E = 0.3838315942770528\n",
      "a = 0.7999999999999999: E = 0.30668046716894587\n",
      "a = 0.8999999999999999: E = 0.2819553610787634\n",
      "a = 0.9999999999999999: E = 0.27625363129415903\n",
      "a = 1.0999999999999999: E = 0.20901600487575278\n",
      "a = 1.2: E = 0.20219033921725774\n",
      "a = 1.3: E = 0.1838629960135568\n",
      "a = 1.4: E = 0.21262283333959645\n",
      "a = 1.5: E = 0.17148072579621618\n",
      "a = 1.5999999999999999: E = 0.14760064849928808\n",
      "a = 1.7: E = 0.1904860822457878\n",
      "a = 1.8: E = 0.10607337133579017\n",
      "a = 1.9: E = 0.10283494004631971\n",
      "a = 2.0: E = 0.16386785932762865\n"
     ]
    },
    {
     "data": {
      "image/png": "[encoded data removed]",
      "text/plain": [
       "<Figure size 600x400 with 1 Axes>"
      ]
     },
     "metadata": {},
     "output_type": "display_data"
    }
   ],
   "source": [
    "m = 1  # mass\n",
    "omega = 1  # frequency\n",
    "N = 20000  # number of Monte Carlo steps\n",
    "a_values = np.linspace(0.1, 2.0, 20)  # variational parameters\n",
    "\n",
    "# Trial wavefunction and its derivative\n",
    "def psi_trial(x, a):\n",
    "    return np.exp(-a * x**2)\n",
    "\n",
    "def psi_trial_prime(x, a):\n",
    "    return -2 * a * x * np.exp(-a * x**2)\n",
    "\n",
    "# Hamiltonian\n",
    "def Hamiltonian(x, a):\n",
    "    kinetic_energy = -0.5 * psi_trial_prime(x, a) / psi_trial(x, a)\n",
    "    potential_energy = 0.5 * m * omega**2 * x**2\n",
    "    return kinetic_energy + potential_energy\n",
    "\n",
    "# Monte Carlo step\n",
    "def MC_step(x, delta=1.0):\n",
    "    return x + delta * (2 * np.random.rand() - 1)\n",
    "\n",
    "x = 0.0 \t# Initialize position\n",
    "\n",
    "E_a = []\n",
    "# Perform Monte Carlo simulation for each variational parameter\n",
    "for a in a_values:\n",
    "    total_energy = 0.0\n",
    "    for i in range(N):\n",
    "        x_new = MC_step(x)\n",
    "        if np.random.rand() < psi_trial(x_new, a) / psi_trial(x, a):\n",
    "            x = x_new\n",
    "        total_energy += Hamiltonian(x, a)\n",
    "\n",
    "    # Calculate expectation value of Hamiltonian\n",
    "    expectation_energy = total_energy / N\n",
    "    E_a.append(expectation_energy)\n",
    "\n",
    "print('Expectation value of Hamiltonian: \\n')\n",
    "for i in range(len(a_values)):\n",
    "    print(f\"a = {a_values[i]}: E = {E_a[i]}\")\n",
    "\n",
    "# Plot E_a vs a\n",
    "plt.figure(figsize=(6, 4))\n",
    "plt.plot(a_values, E_a)\n",
    "plt.plot(a_values, E_a, 'ro')\n",
    "plt.xlabel('a values')\n",
    "plt.ylabel('Expectation value of Hamiltonian')\n",
    "plt.show()\n"
   ]
  },
  {
   "cell_type": "code",
   "execution_count": null,
   "metadata": {},
   "outputs": [],
   "source": []
  }
 ],
 "metadata": {
  "kernelspec": {
   "display_name": "Python 3",
   "language": "python",
   "name": "python3"
  },
  "language_info": {
   "codemirror_mode": {
    "name": "ipython",
    "version": 3
   },
   "file_extension": ".py",
   "mimetype": "text/x-python",
   "name": "python",
   "nbconvert_exporter": "python",
   "pygments_lexer": "ipython3",
   "version": "3.10.12"
  }
 },
 "nbformat": 4,
 "nbformat_minor": 2
}
