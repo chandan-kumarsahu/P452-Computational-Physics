{
 "cells": [
  {
   "cell_type": "code",
   "execution_count": 175,
   "metadata": {},
   "outputs": [],
   "source": [
    "import numpy as np\n",
    "import matplotlib.pyplot as plt\n",
    "import pandas as pd\n",
    "import copy"
   ]
  },
  {
   "cell_type": "code",
   "execution_count": 176,
   "metadata": {},
   "outputs": [],
   "source": [
    "def Round(n, decimals = 0):    #customized round function.\n",
    "    multiplier = 10 ** decimals\n",
    "    if n>=0:\n",
    "        m=int(n*multiplier + 0.5) / multiplier\n",
    "    else:\n",
    "        m=int(n*multiplier - 0.5) / multiplier\n",
    "    return m"
   ]
  },
  {
   "cell_type": "markdown",
   "metadata": {},
   "source": [
    "# Functions for root finding"
   ]
  },
  {
   "cell_type": "code",
   "execution_count": 177,
   "metadata": {},
   "outputs": [],
   "source": [
    "def CheckInit(f, a, b, tol): #checking where does the root lies w.r.t the brackets.\n",
    "    f_a = f(a)\n",
    "    f_b = f(b)\n",
    "    \n",
    "    if f_a*f_b >= 0.0:\n",
    "        return 0\n",
    "    \n",
    "    if (abs(f_a)< tol):\n",
    "        return 1\n",
    "    \n",
    "    if (abs(f_b)< tol):\n",
    "        return 2\n",
    "    \n",
    "    return 3"
   ]
  },
  {
   "cell_type": "markdown",
   "metadata": {},
   "source": [
    "## Bisection method"
   ]
  },
  {
   "cell_type": "code",
   "execution_count": 178,
   "metadata": {},
   "outputs": [],
   "source": [
    "def Bisection(f, a_0, b_0, beta=2, tol=10**(-5)):   \n",
    "    a = a_0\n",
    "    b = b_0\n",
    "    a_i = 0.0\n",
    "    \n",
    "    f_a = f(a)\n",
    "    f_b = f(b)\n",
    "    f_ai = 0.0\n",
    "    x_B=[]\n",
    "    y_B=[]\n",
    "    z_B=[]\n",
    "    imax = 10000  #max number of times for finding the root\n",
    "    i = 0\n",
    "    \n",
    "    flag = CheckInit(f, a_0, b_0, tol)\n",
    "    \n",
    "    if (flag == 0):               #bracketing algoritm, i.e. moving of the bracket \n",
    "        if abs(f(a))<abs(f(b)):\n",
    "            a=a-beta*(b-a)       #default value of beta=2\n",
    "        else:\n",
    "            b=b+beta*(b-a)  \n",
    "    \n",
    "    if (flag ==1):\n",
    "        return a                 #if root lies at the bracketing vales\n",
    "    \n",
    "    if (flag ==2):\n",
    "        return b\n",
    "    \n",
    "    flag = 1\n",
    "    \n",
    "    while (flag):   #while flag value is still 1, we will run this loop\n",
    "        a_i = .5 * (a +b)     #new guess\n",
    "        f_ai = f(a_i)\n",
    "        \n",
    "        if (abs(f_ai)<tol) or (b-a)/2<tol:  #stopping loop exceeding tolerance\n",
    "            flag = 0\n",
    "        else:\n",
    "            if (f(a)*f(a_i)>0):        #moving bracket to converge\n",
    "                a = a_i\n",
    "            else:\n",
    "                b = a_i\n",
    "        \n",
    "        \n",
    "        z_B.append(a_i)\n",
    "        y_B.append(f(a_i))\n",
    "        i += 1\n",
    "        x_B.append(i)\n",
    "        if (i >= imax):                #stop interating when the limit is reached\n",
    "            raise StopIteration('stopped iterating')\n",
    "        \n",
    "    return(a_i,x_B,y_B,z_B)"
   ]
  },
  {
   "cell_type": "markdown",
   "metadata": {},
   "source": [
    "## Regula Falsi Method"
   ]
  },
  {
   "cell_type": "code",
   "execution_count": 179,
   "metadata": {},
   "outputs": [],
   "source": [
    "def RegulaFalsi(f, a_0, b_0, beta=0.05, tol=10**(-5)):\n",
    "    a = a_0\n",
    "    b = b_0\n",
    "    a_i = 0.0\n",
    "    \n",
    "    f_a = f(a)\n",
    "    f_b = f(b)\n",
    "    f_ai = 0.0\n",
    "    x_rf=[]\n",
    "    y_rf=[]\n",
    "    z_rf=[]\n",
    "    imax = 10000  #max number of times for finding the root\n",
    "    i = 0\n",
    "    \n",
    "    flag = CheckInit(f, a_0, b_0, tol)\n",
    "    \n",
    "    if (flag == 0):                     #bracketing algoritm, i.e. moving of the bracket\n",
    "        if abs(f(a))<abs(f(b)):\n",
    "            a=a-beta*(b-a)\n",
    "        else:\n",
    "            b=b+beta*(b-a)  \n",
    "    \n",
    "    if (flag ==1):                  #checking if root is at bracket\n",
    "        return a\n",
    "    \n",
    "    if (flag ==2):\n",
    "        return b\n",
    "    \n",
    "    flag = 1\n",
    "    \n",
    "    while (flag):   #while flag value is still 1, we will run this loop\n",
    "        a_i = b-((b-a)*f(b)/(f(b)-f(a)))\n",
    "        f_ai = f(a_i)\n",
    "        \n",
    "        if (abs(f_ai)<tol):\n",
    "            flag = 0\n",
    "        else:\n",
    "            if (f(a)*f(a_i)>0):       #converging step\n",
    "                a = a_i\n",
    "            else:\n",
    "                b = a_i\n",
    "        \n",
    "        \n",
    "        z_rf.append(a_i)\n",
    "        y_rf.append(f(a_i))\n",
    "        i += 1\n",
    "        x_rf.append(i)\n",
    "    \n",
    "        if (i >= imax):\n",
    "            raise StopIteration('stopped iterating')\n",
    "        \n",
    "    return(a_i,x_rf,z_rf,y_rf)"
   ]
  },
  {
   "cell_type": "markdown",
   "metadata": {},
   "source": [
    "## Newton-Raphson Method"
   ]
  },
  {
   "cell_type": "code",
   "execution_count": 180,
   "metadata": {},
   "outputs": [],
   "source": [
    "def df(f,x,dx=.001):             #function for derivation\n",
    "    return((f(x+dx)-f(x))/dx)\n",
    "\n",
    "def NR(f,x,dx=0.001,tol=10**(-5)): #newton raphson method\n",
    "    x_N=[]\n",
    "    y_N=[]\n",
    "    while abs(-f(x)/df(f,x,dx))>tol or f(x-f(x)/df(f,x,dx))>tol:  #tolerance check\n",
    "        x=x-f(x)/df(f,x,dx)\n",
    "        x_N.append(x)\n",
    "        y_N.append(f(x))\n",
    "    return(x,x_N,y_N)"
   ]
  },
  {
   "cell_type": "markdown",
   "metadata": {},
   "source": [
    "## Secant Method"
   ]
  },
  {
   "cell_type": "code",
   "execution_count": 181,
   "metadata": {},
   "outputs": [],
   "source": [
    "def secant_method(func, x0, x1, epsilon=0.0001, max_iter=1000):\n",
    "    x_prev = x0\n",
    "    x_curr = x1\n",
    "\n",
    "    for _ in range(max_iter):\n",
    "        f_prev = func(x_prev)\n",
    "        f_curr = func(x_curr)\n",
    "\n",
    "        if abs(f_curr) < epsilon:\n",
    "            return x_curr\n",
    "\n",
    "        x_next = x_curr - f_curr * (x_curr - x_prev) / (f_curr - f_prev)\n",
    "\n",
    "        if abs(x_next - x_curr) < epsilon:\n",
    "            return x_next\n",
    "\n",
    "        x_prev = x_curr\n",
    "        x_curr = x_next\n",
    "\n",
    "    raise ValueError(\"Secant method did not converge within the maximum number of iterations.\")"
   ]
  },
  {
   "cell_type": "markdown",
   "metadata": {},
   "source": [
    "## Fixed point method"
   ]
  },
  {
   "cell_type": "code",
   "execution_count": 182,
   "metadata": {},
   "outputs": [],
   "source": [
    "def fixed_point(funct,x1,tol,iter=1000):\n",
    "    xi=x1\n",
    "    xj=funct(x1)\n",
    "    i=0\n",
    "    while np.abs(xj-xi)>=tol:\n",
    "        xi=xj\n",
    "        xj=funct(xi)\n",
    "        i+=1\n",
    "        if i==iter:\n",
    "            print(\"!!Convergence not achieved!! Please change the function!!\")\n",
    "            break\n",
    "    return(xi)"
   ]
  },
  {
   "cell_type": "markdown",
   "metadata": {},
   "source": [
    "# Numerical Integral"
   ]
  },
  {
   "cell_type": "code",
   "execution_count": 183,
   "metadata": {},
   "outputs": [],
   "source": [
    "def INT_MID(func,a,b,N=100000):\n",
    "    h=(b-a)/N\n",
    "    x_a=a\n",
    "    x_b=a+h\n",
    "    r=0\n",
    "    for i in range(N):\n",
    "        x=(x_a+x_b)/2\n",
    "        r+=(h*func(x))\n",
    "        x_a=x_a+h\n",
    "        x_b=x_b+h\n",
    "    return(r)"
   ]
  },
  {
   "cell_type": "code",
   "execution_count": 184,
   "metadata": {},
   "outputs": [],
   "source": [
    "def INT_TRAP(func,a,b,N=100000):\n",
    "    h=(b-a)/N\n",
    "    x_a=a\n",
    "    x_b=a+h\n",
    "    r=0\n",
    "    for i in range(N):\n",
    "        f_a=func(x_a)\n",
    "        f_b=func(x_b)\n",
    "        r+=h*(f_a+f_b)/2\n",
    "        x_a=x_a+h\n",
    "        x_b=x_b+h\n",
    "    return(r)"
   ]
  },
  {
   "cell_type": "code",
   "execution_count": 185,
   "metadata": {},
   "outputs": [],
   "source": [
    "def INT_SIMP(func,a,b,N=100000):\n",
    "    h=(b-a)/N\n",
    "    x_a=a\n",
    "    x_b=a+2*h\n",
    "    r=0\n",
    "    for i in range(int(N/2)):\n",
    "        x_c=(x_a+x_b)/2\n",
    "        f_a=func(x_a)\n",
    "        f_b=func(x_b)\n",
    "        f_c=func(x_c)\n",
    "        r+=h*(f_a+4*f_c+f_b)/3\n",
    "        x_a=x_a+2*h\n",
    "        x_b=x_b+2*h\n",
    "    return(r)"
   ]
  },
  {
   "cell_type": "markdown",
   "metadata": {},
   "source": [
    "# ODE Solver"
   ]
  },
  {
   "cell_type": "markdown",
   "metadata": {},
   "source": [
    "## Non-Symplectic"
   ]
  },
  {
   "cell_type": "code",
   "execution_count": 186,
   "metadata": {},
   "outputs": [],
   "source": [
    "def Forward_Euler(f,y_0,x_0,h,X_N=10):\n",
    "    N=int(X_N/h)\n",
    "    X=[x_0]\n",
    "    Y=[y_0]\n",
    "    x_n=x_0\n",
    "    y_n=y_0\n",
    "    for i in range(N):\n",
    "        y_n1=y_n+h*f(y_n,x_n)\n",
    "        X.append(x_n+h)\n",
    "        Y.append(y_n1)\n",
    "        y_n=y_n1\n",
    "        x_n=x_n+h\n",
    "    return(X,Y)"
   ]
  },
  {
   "cell_type": "code",
   "execution_count": 187,
   "metadata": {},
   "outputs": [],
   "source": [
    "def Backward_Euler(f,y_0,x_0,h,X_N=10):\n",
    "    N=int(X_N/h)\n",
    "    X=[x_0]\n",
    "    Y=[y_0]\n",
    "    x_n=x_0\n",
    "    y_n=y_0\n",
    "    for i in range(N):\n",
    "        def func(y_n1):\n",
    "            return(y_n+h*f(y_n1,x_n+h)-y_n1)\n",
    "        y_nR,XNR,YNR=NR(func,x_n,dx=0.001,tol=10**(-5))\n",
    "        y_n1=y_n+h*f(y_nR,x_n+h)\n",
    "        X.append(x_n+h)\n",
    "        Y.append(y_n1)\n",
    "        y_n=y_n1\n",
    "        x_n=x_n+h\n",
    "    return(X,Y)"
   ]
  },
  {
   "cell_type": "code",
   "execution_count": 188,
   "metadata": {},
   "outputs": [],
   "source": [
    "def Predictor_Corrector(f,y_0,x_0,h,X_N=10):\n",
    "    N=int(X_N/h)\n",
    "    X=[x_0]\n",
    "    Y=[y_0]\n",
    "    x_n=x_0\n",
    "    y_n=y_0\n",
    "    for i in range(N):\n",
    "        K1=h*f(y_n,x_n)\n",
    "        yP_n1=y_n+K1\n",
    "        K2=h*f(yP_n1,x_n+h)\n",
    "        yC_n1=y_n+(K1+K2)/2\n",
    "        X.append(x_n+h)\n",
    "        Y.append(yC_n1)\n",
    "        y_n=yC_n1\n",
    "        x_n=x_n+h\n",
    "    return(X,Y)"
   ]
  },
  {
   "cell_type": "code",
   "execution_count": 189,
   "metadata": {},
   "outputs": [],
   "source": [
    "def RK2(f,y_0,x_0,h,X_N=10):\n",
    "    N=int(X_N/h)\n",
    "    X=[x_0]\n",
    "    Y=[y_0]\n",
    "    x_n=x_0\n",
    "    y_n=y_0\n",
    "    for i in range(N):\n",
    "        k1=h*f(y_n,x_n)\n",
    "        k2=h*f(y_n+k1/2,x_n+h/2)\n",
    "        y_n1=y_n+k2\n",
    "        X.append(x_n+h)\n",
    "        Y.append(y_n1)\n",
    "        y_n=y_n1\n",
    "        x_n=x_n+h\n",
    "    return(X,Y)"
   ]
  },
  {
   "cell_type": "code",
   "execution_count": 190,
   "metadata": {},
   "outputs": [],
   "source": [
    "def RK4(f,y_0,x_0,h,X_N=10):\n",
    "    N=int(X_N/h)\n",
    "    X=[x_0]\n",
    "    Y=[y_0]\n",
    "    x_n=x_0\n",
    "    y_n=y_0\n",
    "    for i in range(N):\n",
    "        k1=h*f(y_n,x_n)\n",
    "        k2=h*f(y_n+k1/2,x_n+h/2)\n",
    "        k3=h*f(y_n+k2/2,x_n+h/2)\n",
    "        k4=h*f(y_n+k3,x_n+h)\n",
    "        y_n1=y_n+(k1+2*k2+2*k3+k4)/6\n",
    "        X.append(x_n+h)\n",
    "        Y.append(y_n1)\n",
    "        y_n=y_n1\n",
    "        x_n=x_n+h\n",
    "    return(X,Y)"
   ]
  },
  {
   "cell_type": "code",
   "execution_count": 191,
   "metadata": {},
   "outputs": [],
   "source": [
    "def RK42nd(F1,y0,u0,x0,a,b,h):\n",
    "    #N=int((b-a)/(2*h))\n",
    "    #l=isinstance(N,int)\n",
    "    if a<x0 and b>x0:\n",
    "        i=2\n",
    "        N1=int((x0-a)/(h))\n",
    "        N2=int((b-x0)/(h))\n",
    "        xpoints1 = [(x0-h*i) for i in range(N1+1)]\n",
    "        xpoints2 = [(x0+h*i) for i in range(N2+1)]\n",
    "        xpoints= xpoints1+xpoints2\n",
    "    elif x0<=a:\n",
    "        i=1\n",
    "        N1=int((b-x0)/(2*h))\n",
    "        xpoints=[(x0+h*i) for i in range(2*N1+1)]\n",
    "    elif x0>=b:\n",
    "        i=2\n",
    "        N2=int((x0-a)/(2*h))\n",
    "        xpoints = [(x0-h*i) for i in range(2*(N2+1))]\n",
    "    ypoints = []\n",
    "    upoints = []\n",
    "    #print(l)\n",
    "    #print(xpoints)\n",
    "    for x in xpoints:\n",
    "        if x==x0:\n",
    "            y=y0\n",
    "            u=u0\n",
    "            i-=1\n",
    "        ypoints.append(y)\n",
    "        upoints.append(u)\n",
    "        if i==1:\n",
    "            s=-1\n",
    "        elif i==0:\n",
    "            s=1\n",
    "\n",
    "        m1 = h*u\n",
    "        k1 = h*F1(y, u, x)  #(x, v, t)\n",
    "\n",
    "        m2 = h*(u +s* 0.5*k1)\n",
    "        k2 = h*F1(y+s*0.5*m1, u+s*0.5*k1, x+s*0.5*h)\n",
    "\n",
    "        m3 = h*(u +s* 0.5*k2)\n",
    "        k3 = h*F1(y+s*0.5*m2, u+s*0.5*k2, x+s*0.5*h)\n",
    "\n",
    "        m4 = h*(u +s* k3)\n",
    "        k4 = h*F1(y+s*m3, u+s*k3, x+s*h)\n",
    "\n",
    "        y =y+s* (m1 + 2*m2 + 2*m3 + m4)/6\n",
    "        u =u+s* (k1 + 2*k2 + 2*k3 + k4)/6\n",
    "    if a<x0 and b>x0:\n",
    "        xpointsN=xpoints[0:N1+1]\n",
    "        ypointsN=ypoints[0:N1+1]\n",
    "        xpointsN.reverse()\n",
    "        ypointsN.reverse()\n",
    "        for i in range(N1+1):\n",
    "            xpoints[i]=xpointsN[i]\n",
    "            ypoints[i]=ypointsN[i]\n",
    "    elif x0>=b:\n",
    "        xpoints.reverse()\n",
    "        ypoints.reverse()\n",
    "    return(xpoints,ypoints)"
   ]
  },
  {
   "cell_type": "code",
   "execution_count": 192,
   "metadata": {},
   "outputs": [],
   "source": [
    "def RK43CE(F1,F2,F3,y0,u0,z0,x0,a,b,h):\n",
    "    #l=isinstance(N,int)\n",
    "    if a<x0 and b>x0:\n",
    "        i=2\n",
    "        N1=int((x0-a)/(h))\n",
    "        N2=int((b-x0)/(h))\n",
    "        xpoints1 = [(x0-h*i) for i in range(N1+1)]\n",
    "        xpoints2 = [(x0+h*i) for i in range(N2+1)]\n",
    "        xpoints= xpoints1+xpoints2\n",
    "    elif x0<=a:\n",
    "        i=1\n",
    "        N1=int((b-x0)/(2*h))\n",
    "        xpoints=[(x0+h*i) for i in range(2*N1+1)]\n",
    "    elif x0>=b:\n",
    "        i=2\n",
    "        N2=int((x0-a)/(2*h))\n",
    "        xpoints = [(x0-h*i) for i in range(2*(N2+1))]\n",
    "    ypoints = []\n",
    "    upoints = []\n",
    "    zpoints = []\n",
    "    #print(l)\n",
    "    #print(xpoints)\n",
    "    for x in xpoints:\n",
    "        if x==x0:\n",
    "            y=y0\n",
    "            u=u0\n",
    "            z=z0\n",
    "            i-=1\n",
    "        ypoints.append(y)\n",
    "        upoints.append(u)\n",
    "        zpoints.append(z)\n",
    "        if i==1:\n",
    "            s=-1\n",
    "        elif i==0:\n",
    "            s=1\n",
    "\n",
    "        m1 = h*F1(y,u,z,x)\n",
    "        k1 = h*F2(y,u,z,x)  #(x, v, t)\n",
    "        l1 = h*F3(y,u,z,x)\n",
    "        \n",
    "\n",
    "        m2 = h*F1(y+s*0.5*m1, u+s*0.5*k1,z+s*0.5*l1, x+s*0.5*h)\n",
    "        k2 = h*F2(y+s*0.5*m1, u+s*0.5*k1,z+s*0.5*l1, x+s*0.5*h)\n",
    "        l2 = h*F3(y+s*0.5*m1, u+s*0.5*k1,z+s*0.5*l1, x+s*0.5*h)\n",
    "\n",
    "        m3 = h*F1(y+s*0.5*m2, u+s*0.5*k2,z+s*0.5*l2, x+s*0.5*h)\n",
    "        k3 = h*F2(y+s*0.5*m2, u+s*0.5*k2,z+s*0.5*l2, x+s*0.5*h)\n",
    "        l3 = h*F3(y+s*0.5*m2, u+s*0.5*k2,z+s*0.5*l2, x+s*0.5*h)\n",
    "\n",
    "        m4 = h*F1(y+s*m3, u+s*k3,z+s*l3,x+s*h)\n",
    "        k4 = h*F2(y+s*m3, u+s*k3,z+s*l3,x+s*h)\n",
    "        l4 = h*F3(y+s*m3, u+s*k3,z+s*l3,x+s*h)\n",
    "\n",
    "        y =y+s* (m1 + 2*m2 + 2*m3 + m4)/6\n",
    "        u =u+s* (k1 + 2*k2 + 2*k3 + k4)/6\n",
    "        z =z+s* (l1 + 2*l2 + 2*l3 + l4)/6\n",
    "    if a<x0 and b>x0:\n",
    "        xpointsN=xpoints[0:N1+1]\n",
    "        ypointsN=ypoints[0:N1+1]\n",
    "        zpointsN=zpoints[0:N1+1]\n",
    "        upointsN=upoints[0:N1+1]\n",
    "        xpointsN.reverse()\n",
    "        ypointsN.reverse()\n",
    "        zpointsN.reverse()\n",
    "        upointsN.reverse()\n",
    "        for i in range(N1+1):\n",
    "            xpoints[i]=xpointsN[i]\n",
    "            ypoints[i]=ypointsN[i]\n",
    "            zpoints[i]=zpointsN[i]\n",
    "            upoints[i]=upointsN[i]\n",
    "    elif x0>=b:\n",
    "        xpoints.reverse()\n",
    "        ypoints.reverse()\n",
    "        zpoints.reverse()\n",
    "        upoints.reverse()\n",
    "    return(xpoints,upoints,ypoints,zpoints)"
   ]
  },
  {
   "cell_type": "code",
   "execution_count": 193,
   "metadata": {},
   "outputs": [],
   "source": [
    "def Shooting_RK4(f,y1,x1,y2,x2,a,b,h,tol,c1=-4,c2=5):\n",
    "    D=1\n",
    "    i=0\n",
    "    while D>tol:\n",
    "        i+=1\n",
    "        X1,Y1=RK42nd(f,y1,c1,x1,a,b,h)\n",
    "        X2,Y2=RK42nd(f,y1,c2,x1,a,b,h)\n",
    "        i=X1.index(x2)\n",
    "        c3=c1+(c2-c1)*(y2-Y1[i])/(Y2[i]-Y1[i])\n",
    "        X3,Y3=RK42nd(f,y1,c3,x1,a,b,h)\n",
    "        if y2<Y3[i]:\n",
    "            c1=c3\n",
    "        else:\n",
    "            c2=c3\n",
    "        D=abs(Y3[i]-y2)\n",
    "    #print(i)\n",
    "    return(X3,Y3)"
   ]
  },
  {
   "cell_type": "markdown",
   "metadata": {},
   "source": [
    "## Finite Element Method"
   ]
  },
  {
   "cell_type": "code",
   "execution_count": 194,
   "metadata": {},
   "outputs": [],
   "source": [
    "def finite_element_method(funct,a,b,alpha,beta,n):\n",
    "    h=(b-a)/n\n",
    "    X=np.linspace(a,b,num=n+1)\n",
    "    XR=X[1:-1]\n",
    "    Mat=np.diag(np.full(n-1,2))+np.diag(np.full(n-2,-1),1)+np.diag(np.full(n-2,-1),-1)\n",
    "    #print(Mat)\n",
    "    #print(func(X))*h**2\n",
    "    F=np.array([-1*funct(XR)*h**2])\n",
    "    #print(F)\n",
    "    F[0][0]=F[0][0]+alpha\n",
    "    F[0][-1]=F[0][-1]+beta\n",
    "    #print(F[0][-1])\n",
    "    #print(F)\n",
    "    F=Transpose(F)\n",
    "    #print(F)\n",
    "    #print(InverseMatrix(Mat.tolist(),6))\n",
    "    Y=MATMULT(InverseMatrix(Mat.tolist(),6),F)\n",
    "    Y=Transpose(Y)[0]\n",
    "    #print(Y)\n",
    "    XR=[a]+XR.tolist()+[b]\n",
    "    Y=[alpha]+Y+[beta]\n",
    "    return(XR,Y)"
   ]
  },
  {
   "cell_type": "markdown",
   "metadata": {},
   "source": [
    "## Symplectic Integrals"
   ]
  },
  {
   "cell_type": "code",
   "execution_count": 195,
   "metadata": {},
   "outputs": [],
   "source": [
    "def semi_implicit_Euler(funct1,funct2,x0,y0,dt,n,t0=0):\n",
    "    X=[]\n",
    "    Y=[]\n",
    "    x=x0\n",
    "    y=y0\n",
    "    T=np.arange(t0,t0+n*dt,dt)\n",
    "    for i in range(n):\n",
    "        X.append(x)\n",
    "        Y.append(y)\n",
    "        y+=funct2(t0+i*dt,x)*dt\n",
    "        x+=funct1(t0+i*dt,y)*dt\n",
    "    return(T,X,Y)"
   ]
  },
  {
   "cell_type": "code",
   "execution_count": 196,
   "metadata": {},
   "outputs": [],
   "source": [
    "def verlet(A,x0,v0,dt,n,t0=0):\n",
    "    X=[x0]\n",
    "    T=np.linspace(t0,t0+dt*n,num=n)\n",
    "    X.append(x0+v0*dt+0.5*A(x0)*dt**2)\n",
    "    for i in range(n-2):\n",
    "        X.append(2*X[-1]-X[-2]+A(X[-1])*dt**2)\n",
    "    return(T,X)"
   ]
  },
  {
   "cell_type": "code",
   "execution_count": 197,
   "metadata": {},
   "outputs": [],
   "source": [
    "def velocity_verlet(A,x0,v0,dt,n,t0=0): #A is a function, x0,v0 are initial values, dt is time step, n is number of step.\n",
    "    X=[x0]\n",
    "    V=[v0]\n",
    "    for i in range(n):\n",
    "        V.append(V[-1]+0.5*A(X[-1])*dt)\n",
    "        X.append(X[-1]+V[-1]*dt)\n",
    "        V.append(V[-2]+0.5*dt*(A(X[-1])+A(X[-2])))\n",
    "    return(X,V)\n",
    "\n"
   ]
  },
  {
   "cell_type": "code",
   "execution_count": 198,
   "metadata": {},
   "outputs": [],
   "source": [
    "def leapfrog(F,x0,p0,dt,tau,t0=0):\n",
    "    X=[x0]\n",
    "    P=[p0]\n",
    "    n=int((tau-t0)/dt)\n",
    "    Tx=np.linspace(t0,tau,num=n)\n",
    "    Tp=Tx+0.5*dt\n",
    "    P.append(P[-1]+0.5*F(t0)*dt)\n",
    "    for i in range(1,n-1):\n",
    "        X.append(X[-1]+P[-1]*dt)\n",
    "        P.append(P[-1]+F(t0+i*dt)*dt)\n",
    "    X.append(X[-1]+P[-1]*dt)\n",
    "    pf=P[-1]+F(tau-0.5*dt)*0.5*dt\n",
    "    return(Tx,Tp,X,P,pf)"
   ]
  },
  {
   "cell_type": "markdown",
   "metadata": {},
   "source": [
    "# PDE solver"
   ]
  },
  {
   "cell_type": "markdown",
   "metadata": {},
   "source": [
    "## Explicit"
   ]
  },
  {
   "cell_type": "code",
   "execution_count": 199,
   "metadata": {},
   "outputs": [],
   "source": [
    "def Explicit(funct,a,b,alpha,nx,nt,at=0):\n",
    "    X=np.linspace(a,b,num=nx)\n",
    "    dt=alpha*((b-a)/nx)**2\n",
    "    T=nt*dt\n",
    "    Y=np.arange(at,T,dt)\n",
    "    U_0=funct(X)\n",
    "    #print(U_0)\n",
    "    Z=[]\n",
    "    U_0=Transpose([U_0])\n",
    "    #print(U_0)\n",
    "    B=np.diag(np.full(nx,1-2*alpha))+np.diag(np.full(nx-1,alpha),1)+np.diag(np.full(nx-1,alpha),-1)\n",
    "    for i in range(nt):\n",
    "        U_0=MATMULT(B.tolist(),U_0)\n",
    "        Z.append(np.array(U_0).flatten())\n",
    "    #U_0=Transpose(U_0)[0]\n",
    "    #print(U_0)\n",
    "    Z=np.array(Z)\n",
    "    print(Z.shape)\n",
    "    (X,Y)=np.meshgrid(X,Y)\n",
    "    return(X,Y,Z)\n"
   ]
  },
  {
   "cell_type": "code",
   "execution_count": 200,
   "metadata": {},
   "outputs": [],
   "source": [
    "def contourplot(X,Y,Z):\n",
    "    fig1, ax2 = plt.subplots(layout='constrained')\n",
    "    CS = ax2.contourf(X, Y, Z, 100, cmap=plt.cm.bone)\n",
    "\n",
    "    CS2 = ax2.contour(CS, levels=CS.levels[::10], colors='r')\n",
    "\n",
    "    ax2.set_title('Solution of heat equation')\n",
    "    ax2.set_xlabel('x-axis')\n",
    "    ax2.set_ylabel('t-axis')\n",
    "\n",
    "    # Make a colorbar for the ContourSet returned by the contourf call.\n",
    "    cbar = fig1.colorbar(CS)\n",
    "    cbar.ax.set_ylabel('Heat')\n",
    "    # Add the contour line levels to the colorbar\n",
    "    #cbar.add_lines(CS2)"
   ]
  },
  {
   "cell_type": "markdown",
   "metadata": {},
   "source": [
    "## Implicit"
   ]
  },
  {
   "cell_type": "code",
   "execution_count": 201,
   "metadata": {},
   "outputs": [],
   "source": [
    "def Implicit(funct,a,b,alpha,nx,nt,at=0):\n",
    "    X=np.linspace(a,b,num=nx)\n",
    "    dt=alpha*((b-a)/nx)**2\n",
    "    T=nt*dt\n",
    "    Y=np.arange(at,T,dt)\n",
    "    U_0=funct(X)\n",
    "    #print(U_0)\n",
    "    Z=[]\n",
    "    U_0=Transpose([U_0])\n",
    "    #print(U_0)\n",
    "    B=np.diag(np.full(nx,1+2*alpha))-np.diag(np.full(nx-1,alpha),1)-np.diag(np.full(nx-1,alpha),-1)\n",
    "    C=Cholinv(B.tolist())\n",
    "    for i in range(nt):\n",
    "        U_0=MATMULT(C,U_0)\n",
    "        Z.append(np.array(U_0).flatten())\n",
    "    #U_0=Transpose(U_0)[0]\n",
    "    #print(U_0)\n",
    "    Z=np.flip(np.array(Z))\n",
    "    #print(Z.shape)\n",
    "    (X,Y)=np.meshgrid(X,Y)\n",
    "    return(X,Y,Z)\n"
   ]
  },
  {
   "cell_type": "markdown",
   "metadata": {},
   "source": [
    "## Crank Nicholson"
   ]
  },
  {
   "cell_type": "code",
   "execution_count": 202,
   "metadata": {},
   "outputs": [],
   "source": [
    "def crank_nicholson(funct,a,b,alpha,nx,nt):\n",
    "    x=np.linspace(a,b,num=nx)\n",
    "    U_0=funct(x)\n",
    "    B=np.diag(np.full(nx,2))-np.diag(np.ones(nx-1),1)-np.diag(np.ones(nx-1),-1)\n",
    "    I=np.diag(np.full(nx,1))\n",
    "    M=np.matmul(np.linalg.inv(2*I+alpha*B),(2*I-alpha*B))\n",
    "    S=np.linalg.matrix_power(M, nt)\n",
    "    return(np.matmul(S,U_0),x)"
   ]
  },
  {
   "cell_type": "code",
   "execution_count": 203,
   "metadata": {},
   "outputs": [],
   "source": [
    "def cn_data(funct,a,b,alpha,nx,at,pt):\n",
    "    X=np.linspace(a,b,num=nx)\n",
    "    dt=alpha*((b-a)/nx)**2\n",
    "    T=pt*dt\n",
    "    Y=np.arange(at,T,dt)\n",
    "    (X,Y)=np.meshgrid(X,Y)\n",
    "    Z=[]\n",
    "    for j in np.arange(0,pt):\n",
    "        z,x=crank_nicholson(funct,a,b,alpha,nx,j)\n",
    "        Z.append(z)\n",
    "    return(X,Y,Z)"
   ]
  },
  {
   "cell_type": "code",
   "execution_count": 204,
   "metadata": {},
   "outputs": [],
   "source": [
    "def crank_nicholsonn(funct,a,b,alpha,nx,nt):\n",
    "    x=np.linspace(a,b,num=nx)\n",
    "    U_0=funct(x)\n",
    "    U_0=Transpose([U_0])\n",
    "    B=np.diag(np.full(nx,2))-np.diag(np.ones(nx-1),1)-np.diag(np.ones(nx-1),-1)\n",
    "    I=np.diag(np.full(nx,1))\n",
    "    M=MATMULT(Cholinv(2*I+alpha*B),(2*I-alpha*B))         #currently we use the readily available matrix inversion algorithm from numpy\n",
    "    S=np.linalg.matrix_power(M, nt)\n",
    "    return(Transpose(MATMULT(S,U_0))[0],x)\n",
    "def cn_data_new(funct,a,b,alpha,nx,at,pt):\n",
    "    X=np.linspace(a,b,num=nx)\n",
    "    dt=(alpha/4)*((b-a)/nx)**2                                    #4 comes from the differential equation\n",
    "    T=pt*dt\n",
    "    Y=np.arange(at,T,dt)\n",
    "    (X,Y)=np.meshgrid(X,Y)\n",
    "    Z=[]\n",
    "    for j in np.arange(pt,0,-1):\n",
    "        z,x=crank_nicholsonn(funct,a,b,alpha,nx,j)\n",
    "        Z.append(z)\n",
    "    return(X,Y,Z)"
   ]
  },
  {
   "cell_type": "markdown",
   "metadata": {},
   "source": [
    "## Poisson Equation solver"
   ]
  },
  {
   "cell_type": "code",
   "execution_count": 205,
   "metadata": {},
   "outputs": [],
   "source": [
    "def poisonsolver(xa,xb,ya,yb,n,k=1,plot=True):\n",
    "    x0=np.linspace(xa,xb,num=n)\n",
    "    y0=np.linspace(ya,yb,num=n)\n",
    "    h=(yb-ya)/(n-1)\n",
    "    W=np.zeros((n,n))\n",
    "    alpha=k*((xb-xa)/(yb-ya))**2\n",
    "    W[0]=funcbottom(x0)\n",
    "    W[n-1]=functop(x0)\n",
    "    for i in range(n):\n",
    "        W[i][0]=funcleft(y0[i])\n",
    "        W[i][n-1]=funcright(y0[i])\n",
    "    n2=n-2\n",
    "    R=np.zeros((n2,n2))\n",
    "    for i in range(n2):\n",
    "        for j in range(n2):\n",
    "            R[i][j]=-alpha*funcrho(x0[i+1],y0[j+1])*h**2\n",
    "    R=np.transpose(R)\n",
    "    N2=n2**2\n",
    "    B=np.zeros((n2,n2))\n",
    "    B[0]=W[0][1:-1]\n",
    "    B[n2-1]=W[n-1][1:-1]\n",
    "    for i in range(n2):\n",
    "        B[i][0]+=alpha*W[i+1][0]\n",
    "        B[i][n2-1]+=alpha*W[i+1][n-1]\n",
    "    A=np.diag(np.full(N2,2+2*alpha))-alpha*np.diag(np.ones(N2-1),1)-alpha*np.diag(np.ones(N2-1),-1)-np.diag(np.ones(N2-n2),n2)-np.diag(np.ones(N2-n2),-n2)\n",
    "    for i in range(1,n2):\n",
    "        A[n2*i-1][n2*i]=0\n",
    "        A[n2*i][n2*i-1]=0\n",
    "    Ainv=np.array(Cholinv(A,6))\n",
    "    rho=B-R\n",
    "    u=np.dot(Ainv,rho.flatten())\n",
    "    matrix = u.reshape((n2,n2))\n",
    "    for i in range(n2):\n",
    "        for j in range(n2):\n",
    "            W[i+1][j+1]=matrix[i][j]\n",
    "    if plot==True:\n",
    "        fig, ax = plt.subplots(subplot_kw={\"projection\": \"3d\"})\n",
    "        X,Y=np.meshgrid(x0,y0)\n",
    "        surf = ax.plot_surface(X, Y, W, cmap=plt.cm.viridis,\n",
    "                       linewidth=0, antialiased=True)\n",
    "        ax.set_ylabel('y')\n",
    "        ax.set_xlabel('x')\n",
    "        plt.show()\n",
    "    return(W)"
   ]
  },
  {
   "cell_type": "code",
   "execution_count": 206,
   "metadata": {},
   "outputs": [],
   "source": [
    "def functop(x):\n",
    "    return(0)\n",
    "def funcbottom(x):\n",
    "    return(0)\n",
    "def funcleft(y):\n",
    "    return(1)\n",
    "def funcright(y):\n",
    "    return(1)"
   ]
  },
  {
   "cell_type": "code",
   "execution_count": 207,
   "metadata": {},
   "outputs": [],
   "source": [
    "def funcrho(x,y):\n",
    "    return(0)"
   ]
  },
  {
   "cell_type": "code",
   "execution_count": 208,
   "metadata": {},
   "outputs": [],
   "source": [
    "def wavesolver(xa,xb,ya,yb,n,k=1,plot=True):\n",
    "    x0=np.linspace(xa,xb,num=n)\n",
    "    y0=np.linspace(ya,yb,num=n)\n",
    "    h=(yb-ya)/(n-1)\n",
    "    W=np.zeros((n,n))\n",
    "    alpha=k*((xb-xa)/(yb-ya))**2\n",
    "    W[0]=funcbottom(x0)\n",
    "    W[n-1]=functop(x0)\n",
    "    for i in range(n):\n",
    "        W[i][0]=funcleft(y0[i])\n",
    "        W[i][n-1]=funcright(y0[i])\n",
    "    n2=n-2\n",
    "    R=np.zeros((n2,n2))\n",
    "    for i in range(n2):\n",
    "        for j in range(n2):\n",
    "            R[i][j]=-alpha*funcrho(x0[i+1],y0[j+1])*h**2\n",
    "    R=np.transpose(R)\n",
    "    N2=n2**2\n",
    "    B=np.zeros((n2,n2))\n",
    "    B[0]=W[0][1:-1]\n",
    "    B[n2-1]=W[n-1][1:-1]\n",
    "    for i in range(n2):\n",
    "        B[i][0]+=alpha*W[i+1][0]\n",
    "        B[i][n2-1]+=alpha*W[i+1][n-1]\n",
    "    A=np.diag(np.full(N2,2+2*alpha))-alpha*np.diag(np.ones(N2-1),1)-alpha*np.diag(np.ones(N2-1),-1)-np.diag(np.ones(N2-n2),n2)-np.diag(np.ones(N2-n2),-n2)\n",
    "    for i in range(1,n2):\n",
    "        A[n2*i-1][n2*i]=0\n",
    "        A[n2*i][n2*i-1]=0\n",
    "    Ainv=np.array(InverseMatrix(A.tolist(),6))\n",
    "    rho=B-R\n",
    "    u=np.dot(Ainv,rho.flatten())\n",
    "    matrix = u.reshape((n2,n2))\n",
    "    for i in range(n2):\n",
    "        for j in range(n2):\n",
    "            W[i+1][j+1]=matrix[i][j]\n",
    "    if plot==True:\n",
    "        fig, ax = plt.subplots(subplot_kw={\"projection\": \"3d\"})\n",
    "        X,Y=np.meshgrid(x0,y0)\n",
    "        surf = ax.plot_surface(X, Y, W, cmap=plt.cm.viridis,\n",
    "                       linewidth=0, antialiased=True)\n",
    "        ax.set_ylabel('y')\n",
    "        ax.set_xlabel('x')\n",
    "        plt.show()\n",
    "    return(W)"
   ]
  },
  {
   "cell_type": "markdown",
   "metadata": {},
   "source": [
    "# Plotting"
   ]
  },
  {
   "cell_type": "code",
   "execution_count": 209,
   "metadata": {},
   "outputs": [],
   "source": [
    "def contourplot(x,y,z):\n",
    "    fig1, ax2 = plt.subplots(layout='constrained')\n",
    "    CS = ax2.contourf(x, y, z, 100, cmap=plt.cm.bone)\n",
    "\n",
    "    CS2 = ax2.contour(CS, levels=CS.levels[::10], colors='r')\n",
    "\n",
    "    ax2.set_title('Solution of heat equation')\n",
    "    ax2.set_xlabel('x-axis')\n",
    "    ax2.set_ylabel('t-axis')\n",
    "\n",
    "    # Make a colorbar for the ContourSet returned by the contourf call.\n",
    "    cbar = fig1.colorbar(CS)\n",
    "    cbar.ax.set_ylabel('Heat')\n",
    "    # Add the contour line levels to the colorbar\n",
    "    cbar.add_lines(CS2)"
   ]
  },
  {
   "cell_type": "markdown",
   "metadata": {},
   "source": [
    "# Matrix Algebra"
   ]
  },
  {
   "cell_type": "markdown",
   "metadata": {},
   "source": [
    "## Non iterative methods"
   ]
  },
  {
   "cell_type": "code",
   "execution_count": 210,
   "metadata": {},
   "outputs": [],
   "source": [
    "def MATMULT(a,b):                     #function for matrix multiplication \n",
    "    M=[]\n",
    "    if len(b)==len(a[0]):              #check if the input matrices are matrix multiplicable or not.\n",
    "        for m in range(len(a)):\n",
    "            M.append([])\n",
    "            for n in range(len(b[0])):\n",
    "                M[m].append(0)\n",
    "        for i in range(len(a)):\n",
    "            for j in range(len(b[0])):\n",
    "                for k in range(len(b)):\n",
    "                    M[i][j] += a[i][k] * b[k][j]\n",
    "        return(M)\n",
    "    else:\n",
    "        print(\"Inputs are dimentionally incorrect.\")\n",
    "        return"
   ]
  },
  {
   "cell_type": "code",
   "execution_count": 211,
   "metadata": {},
   "outputs": [],
   "source": [
    "def SwapRows(a,n,m):          #function for swapping rows\n",
    "    a[n],a[m]=a[m],a[n]\n",
    "    return a\n",
    "#SwapRows(B,1,2)"
   ]
  },
  {
   "cell_type": "code",
   "execution_count": 212,
   "metadata": {},
   "outputs": [],
   "source": [
    "def RoundMatrix(M,r):\n",
    "    for i in range(len(M)):\n",
    "        for j in range(len(M[0])):\n",
    "            M[i][j]=Round(M[i][j],r)\n",
    "    return M"
   ]
  },
  {
   "cell_type": "code",
   "execution_count": 213,
   "metadata": {},
   "outputs": [],
   "source": [
    "def PartialPivot(Ab,m,nrows):\n",
    "    pivot = Ab[m][m]    #finding The pivot\n",
    "    if (Ab[m][m] != 0):\n",
    "        return Ab    # return if partial pivoting is not required\n",
    "    else:\n",
    "        x=[]\n",
    "        for r in range(m+1,nrows):\n",
    "            x.append(Ab[r][m])\n",
    "        for r in range(m+1,nrows):\n",
    "            # check for maximum non-zero pivot and swap rows with it\n",
    "            if Ab[r][m]==max(x):\n",
    "                pivot = Ab[r][m]\n",
    "                Ab=SwapRows(Ab,m,r)\n",
    "                return(Ab)\n",
    "            else:\n",
    "                r+=1\n",
    "    if (pivot==0):    # no unique solution case\n",
    "        return None\n"
   ]
  },
  {
   "cell_type": "code",
   "execution_count": 214,
   "metadata": {},
   "outputs": [],
   "source": [
    "def GaussJordan(Ab,nrows,ncols):\n",
    "    det=1\n",
    "    r=0\n",
    "    for r in range(0,nrows):\n",
    "        Ab = PartialPivot(Ab,r,nrows) # does partial pivoting\n",
    "        \n",
    "        if Ab==None:\n",
    "            return Ab                # no solution case\n",
    "        else:\n",
    "            fact=Ab[r][r]             #store and multiply diagonal elements\n",
    "            det=det*fact           # calculate the determinant\n",
    "            for c in range(r,ncols):\n",
    "                Ab[r][c]*=1/fact# Changes the diagonal elements to unity, and do same operation in row\n",
    "            for r1 in range(0,nrows):\n",
    "                if (r1==r or Ab[r1][r]==0):\n",
    "                    r1+=1                # does not change if it is already done\n",
    "                else:\n",
    "                    factor = Ab[r1][r]\n",
    "                    for c in range(r,ncols):\n",
    "                        Ab[r1][c]-= factor * Ab[r][c]# Changes the off-diagonal elements to zero\n",
    "    return Ab, det\n",
    "def RoundMatrix(M,r):\n",
    "    for i in range(len(M)):\n",
    "        for j in range(len(M[0])):\n",
    "            M[i][j]=Round(M[i][j],r)\n",
    "    return M\n"
   ]
  },
  {
   "cell_type": "code",
   "execution_count": 215,
   "metadata": {},
   "outputs": [],
   "source": [
    "def EqnSolver(A,B,nrows,r=2):\n",
    "    ncols=len(A[0])+len(B[0])\n",
    "    Ab=copy.deepcopy(A)\n",
    "    for i in range(len(Ab)):\n",
    "        for j in range(len(B[0])):\n",
    "            Ab[i].append(B[i][j])   #function for solving equations\n",
    "    GJ, d=GaussJordan(Ab,nrows,ncols)    #doing Gauss-Jordan elimination\n",
    "    if GJ!=None:\n",
    "        M=RoundMatrix(GJ,r)\n",
    "        print(\"Solutions are : \")\n",
    "        for i in range(nrows):\n",
    "            print(M[i][nrows])      #printing solution\n",
    "    else:\n",
    "        print(\"No unique solution\")  #printing if no unique solution\n",
    "\n",
    "#A2=[[0,2,-3],[1,0,1],[1,-1,0]]\n",
    "#B2=[[-1],[0],[3]]\n",
    "#EqnSolver(A2,B2,3)"
   ]
  },
  {
   "cell_type": "code",
   "execution_count": 216,
   "metadata": {},
   "outputs": [],
   "source": [
    "def GaussJordan_solver(A,B,r=2):\n",
    "    nrows=len(A[0])\n",
    "    ncols=len(A[0])+len(B[0])\n",
    "    Ab=copy.deepcopy(A)\n",
    "    sol=[]\n",
    "    for i in range(len(Ab)):\n",
    "        for j in range(len(B[0])):\n",
    "            Ab[i].append(B[i][j])   #function for solving equations\n",
    "    GJ, d=GaussJordan(Ab,nrows,ncols)    #doing Gauss-Jordan elimination\n",
    "    if GJ!=None:\n",
    "        M=RoundMatrix(GJ,r)\n",
    "        #print(\"Solutions are : \")\n",
    "        for i in range(nrows):\n",
    "            #print(M[i][nrows])      #printing solution\n",
    "            sol.append([M[i][nrows]])\n",
    "    else:\n",
    "        print(\"No unique solution\") \n",
    "    return(sol)"
   ]
  },
  {
   "cell_type": "code",
   "execution_count": 217,
   "metadata": {},
   "outputs": [],
   "source": [
    "def InverseMatrix(P,l=2):             #function for inverse\n",
    "    A = copy.deepcopy(P)            #copying P in A without equality\n",
    "    for i in range(len(A)):\n",
    "        for j in range(len(A)):\n",
    "            A[i].append(0)\n",
    "        A[i][i+len(A)]=1            #building augmented matrix\n",
    "    r=len(A)\n",
    "    c=len(A[0])\n",
    "    if len(P)!=len(P[0]):            #checking if the input matrix is square.\n",
    "        return(\"This is not a square matrix.\")\n",
    "    else:\n",
    "        GJ, d=GaussJordan(A,r,c)         #doing Gauss-Jordan elimination\n",
    "        M=[[0 for j in range(r)] for i in range(r)] #making final matrix\n",
    "        if d!=0:\n",
    "            #print(\"The matrix is invertible.\\nThe inverse matrix is:\")\n",
    "            for i in range(r):\n",
    "                for j in range(r,c):\n",
    "                    M[i][j-r]=GJ[i][j]       #putting Gauss-Jordan result in final matrix\n",
    "            return(RoundMatrix(M,l))\n",
    "        else:\n",
    "            return(\"The matrix is not invertible.\")\n",
    "#A3=[[0,2,1],[4,0,1],[-1,2,0]]\n",
    "#Inv=InverseMatrix(A3)\n",
    "#Display(Inv)\n",
    "\n"
   ]
  },
  {
   "cell_type": "code",
   "execution_count": 218,
   "metadata": {},
   "outputs": [],
   "source": [
    "def DoolittleluDecomposition(mat,r=2):\n",
    "    n=len(mat)\n",
    "    w=[]\n",
    "    for i in range(n-1):\n",
    "        if mat[i][i]==0:\n",
    "            k=i+1\n",
    "            for j in range(i,n-1):\n",
    "                if mat[i][k]==0:\n",
    "                    k=k+1\n",
    "                if mat[i][k]!=0:\n",
    "                    w.append([i,k])\n",
    "                    SwapRows(mat,i,k)\n",
    "    for i in range(n):             # Decomposing matrix into Upper and Lower triangular matrix\n",
    "        for k in range(i, n):       # formatting Upper Triangular matrix\n",
    "            sum = 0\n",
    "            for j in range(i):\n",
    "                sum += (mat[i][j] * mat[j][k])# Summation of L(i, j) * U(j, k)\n",
    "            mat[i][k] = mat[i][k] - sum          # Evaluating U(i, k)\n",
    "        for k in range(i, n):       # formatting Lower Triangular matrix\n",
    "            if (i != k):\n",
    "                sum = 0\n",
    "                for j in range(i):\n",
    "                    sum += (mat[k][j] * mat[j][i]) # Summation of L(k, j) * U(j, i)\n",
    "                mat[k][i] =(mat[k][i] - sum) / mat[i][i] # Evaluating L(k, i)\n",
    "    return(RoundMatrix(mat,r),w)"
   ]
  },
  {
   "cell_type": "code",
   "execution_count": 219,
   "metadata": {},
   "outputs": [],
   "source": [
    "def DEqnSolver(A,B,r=2):   #equation solver using Doolittle method\n",
    "    n=len(A)       \n",
    "    A,W= DoolittleluDecomposition(A,6)\n",
    "    for i in range(len(W)):\n",
    "        SwapRows(B,W[i][0],W[i][1])\n",
    "    for i in range(n):              #solving Y for L.Y=B\n",
    "        Sumy=0\n",
    "        for j in range(i):\n",
    "            Sumy+= (A[i][j]*B[j][0])\n",
    "        B[i][0]=(B[i][0]-Sumy)\n",
    "    #print(B)\n",
    "    for i in range(n-1,-1,-1):      #solving X for U.X=Y\n",
    "        Temp=0\n",
    "        #print(Temp)\n",
    "        for j in range(i+1,n):\n",
    "            Temp+=(A[i][j]*B[j][0])\n",
    "        B[i][0]=(B[i][0]-Temp)/A[i][i]\n",
    "    return(RoundMatrix(B,r))"
   ]
  },
  {
   "cell_type": "code",
   "execution_count": 220,
   "metadata": {},
   "outputs": [],
   "source": [
    "def CroutluDecomposition(mat,r=2):\n",
    "    n=len(mat)\n",
    "    w=[]\n",
    "    for i in range(n-1):\n",
    "        if mat[i][i]==0:\n",
    "            k=i+1\n",
    "            for j in range(i,n-1):\n",
    "                if mat[i][k]==0:\n",
    "                    k=k+1\n",
    "                if mat[i][k]!=0:\n",
    "                    w.append([i,k])\n",
    "                    SwapRows(mat,i,k)\n",
    "    for i in range(n):          # Decomposing matrix into Upper and Lower triangular matrix\n",
    "        for k in range(i, n):    #formatting Lower Triangular matrix\n",
    "            sum = 0\n",
    "            for j in range(i):\n",
    "                sum += (mat[k][j] * mat[j][i]) # Summation of L(i, j) * U(j, k)\n",
    "            mat[k][i] = mat[k][i] - sum       # Evaluating L(k, i)\n",
    "        for k in range(i, n):                # formatting Upper Triangular matrix\n",
    "            if (i != k):\n",
    "                sum = 0\n",
    "                for j in range(i):\n",
    "                    sum += (mat[i][j] * mat[j][k]) # Summation of L(k, j) * U(j, i)\n",
    "                mat[i][k] =(mat[i][k] - sum) / mat[i][i]# Evaluating U(i, k)\n",
    "    return(RoundMatrix(mat,r),w)"
   ]
  },
  {
   "cell_type": "code",
   "execution_count": 221,
   "metadata": {},
   "outputs": [],
   "source": [
    "def CEqnSolver(A,B,r=2):    #equation solver using Crout method\n",
    "    n=len(A)\n",
    "    A,W = CroutluDecomposition(A, r)\n",
    "    for i in range(n):      #solving Y for L.Y=B\n",
    "        Sumy=0\n",
    "        for j in range(i):\n",
    "            Sumy+= (A[i][j]*B[j][0])\n",
    "        B[i][0]=(B[i][0]-Sumy)/A[i][i]\n",
    "    for i in range(n-1,-1,-1):           #solving X for U.X=Y\n",
    "        Temp=B[i][0]\n",
    "        for j in range(i+1,n):\n",
    "            Temp-=(A[i][j]*B[j][0])\n",
    "        B[i][0]=Temp\n",
    "    return(RoundMatrix(B,r))"
   ]
  },
  {
   "cell_type": "code",
   "execution_count": 222,
   "metadata": {},
   "outputs": [],
   "source": [
    "def DetLU(A,r=6):                         #calculate determinant\n",
    "    S=copy.deepcopy(A)                    #temporarily storing A\n",
    "    n=len(A)\n",
    "    S,W= DoolittleluDecomposition(S,6)\n",
    "    w=len(W)\n",
    "    det=1\n",
    "    for i in range(n):\n",
    "        det=det*S[i][i]\n",
    "    det=((-1)**(w))*det                            \n",
    "    return(Round(det,r),W)\n",
    "def GetDetLU(A,r=2):\n",
    "    d,W=DetLU(A,r)\n",
    "    return(d)"
   ]
  },
  {
   "cell_type": "code",
   "execution_count": 223,
   "metadata": {},
   "outputs": [],
   "source": [
    "def LUInverse(A,r=2): #inverse with LU decomposition\n",
    "    n=len(A)\n",
    "    I=[[[0] for i in range(n)]for j in range(n)]\n",
    "    #print(I)\n",
    "    Inv=[[0 for i in range(n)]for j in range(n)]\n",
    "    d,W=DetLU(A,r)\n",
    "    #print(W)\n",
    "    if d==0:                      #cofirming if inverse exists\n",
    "        print(\"The matrix is not invertible.\")\n",
    "    else:\n",
    "        for i in range(n):      #making columns of Identity matrix and empty inverse matrix\n",
    "            I[i][i]=[1]\n",
    "        #print(I[1])\n",
    "        for i in range(n): #columnwise doolittle equation solver[You can use Crout too]\n",
    "            N= copy.deepcopy(A)\n",
    "            g=DEqnSolver(N,I[i],6)\n",
    "            for j in range(n):\n",
    "                Inv[j][i]=g[j][0]\n",
    "        for i in range(n):\n",
    "            for j in range(len(W)):\n",
    "                Inv[i][W[len(W)-j-1][0]],Inv[i][W[len(W)-j-1][1]]=Inv[i][W[len(W)-j-1][1]],Inv[i][W[len(W)-j-1][0]]#inputing into Inverse matrix(here I used -1 because, the partialpivot ran one step more)\n",
    "        return(RoundMatrix(Inv,r))"
   ]
  },
  {
   "cell_type": "code",
   "execution_count": 224,
   "metadata": {},
   "outputs": [],
   "source": [
    "def positiveDefinite(mat):      #function for checking positive definite\n",
    "    l=0\n",
    "    n=len(mat)\n",
    "    for i in range(n):\n",
    "        for j in range(n):\n",
    "            if mat[i][j]==mat[j][i]:\n",
    "                l+=1\n",
    "    if l==n**2:\n",
    "        return(True)\n",
    "    else:\n",
    "        return(False)\n",
    "\n",
    "def CholeskyDecomposition(mat,r=6): #Cholesky decomposition\n",
    "    n=len(mat)  \n",
    "    if positiveDefinite(mat)==False:     #checking positive definite\n",
    "        print(\"The matrix is not positive definite.\")\n",
    "    else:\n",
    "        for i in range(n):\n",
    "            for j in range(i+1):\n",
    "                Sum=0\n",
    "                if j==i:\n",
    "                    for k in range(j):\n",
    "                        Sum+=(mat[j][k])**2\n",
    "                    mat[j][j]=(mat[j][j]-Sum)**(0.5)  #formatting lower(j,j)\n",
    "                else:\n",
    "                    for k in range(j):\n",
    "                        Sum += (mat[i][k] *mat[j][k])\n",
    "                    if(mat[j][j] > 0):\n",
    "                        mat[i][j] =(mat[i][j] - Sum)/mat[j][j]  #formatting lower(i,j)\n",
    "                        mat[j][i]=mat[i][j]\n",
    "        return(RoundMatrix(mat,r))"
   ]
  },
  {
   "cell_type": "code",
   "execution_count": 225,
   "metadata": {},
   "outputs": [],
   "source": [
    "def CholEqnSolver(A,B,r=2):#equation solver using Cholesky Decomposition\n",
    "    n=len(A)\n",
    "    A= CholeskyDecomposition(A,r)\n",
    "    for i in range(n):            #solving Y for C.Y=B\n",
    "        Sumy=0\n",
    "        for j in range(i):\n",
    "            Sumy+= (A[i][j]*B[j][0])\n",
    "        B[i][0]=(B[i][0]-Sumy)/A[i][i]\n",
    "    for i in range(n-1,-1,-1):     #solving X for T(C).X=Y\n",
    "        Temp=B[i][0]\n",
    "        for j in range(i+1,n):\n",
    "            Temp-=(A[i][j]*B[j][0])\n",
    "        B[i][0]=Temp/A[i][i]\n",
    "    return(RoundMatrix(B,r))"
   ]
  },
  {
   "cell_type": "code",
   "execution_count": 226,
   "metadata": {},
   "outputs": [],
   "source": [
    "def Cholinv(Mat,r=2):\n",
    "    n=len(Mat)\n",
    "    Inv=[]\n",
    "    CD=CholeskyDecomposition(Mat,6)\n",
    "    for j in range(n):\n",
    "        B=[[(h==j)*1] for h in range(n)]\n",
    "        for i in range(n):            #solving Y for C.Y=B\n",
    "            Sumy=0\n",
    "            for j in range(i):\n",
    "                Sumy+= (CD[i][j]*B[j][0])\n",
    "            B[i][0]=(B[i][0]-Sumy)/CD[i][i]\n",
    "        for i in range(n-1,-1,-1):     #solving X for T(C).X=Y\n",
    "            Temp=B[i][0]\n",
    "            for j in range(i+1,n):\n",
    "                Temp-=(CD[i][j]*B[j][0])\n",
    "            B[i][0]=Temp/CD[i][i]\n",
    "        Inv.append(Transpose(B)[0])\n",
    "    return(RoundMatrix(Transpose(Inv),r))\n",
    "        \n",
    "\n",
    "    "
   ]
  },
  {
   "cell_type": "code",
   "execution_count": 227,
   "metadata": {},
   "outputs": [],
   "source": [
    "def Transpose(a):                      # a function for creating transpose of a matrix or vector\n",
    "    l=[]\n",
    "    for i in range(len(a[0])):\n",
    "        l.append([])\n",
    "        for j in range(len(a)):\n",
    "            l[i].append(0)\n",
    "    for m in range(len(a)):\n",
    "        for n in range(len(a[0])):\n",
    "            l[n][m]=a[m][n]\n",
    "    return(l)"
   ]
  },
  {
   "cell_type": "markdown",
   "metadata": {},
   "source": [
    "## Iterative methods"
   ]
  },
  {
   "cell_type": "code",
   "execution_count": 228,
   "metadata": {},
   "outputs": [],
   "source": [
    "def L2norm(A,B):\n",
    "    C=A-B\n",
    "    L2=0\n",
    "    for i in range(len(C)):\n",
    "        L2+=C[i]**2\n",
    "    return(L2**0.5)\n"
   ]
  },
  {
   "cell_type": "markdown",
   "metadata": {},
   "source": [
    "### Jacobi"
   ]
  },
  {
   "cell_type": "code",
   "execution_count": 229,
   "metadata": {},
   "outputs": [],
   "source": [
    "def jacobi(Mat,B,iter=1000,prec=0.0001):\n",
    "    n=len(B)\n",
    "    X_1=np.random.random(n)\n",
    "    X_2=np.zeros(n)\n",
    "    count=0\n",
    "    while L2norm(X_2,X_1)>prec:\n",
    "        X_1=np.copy(X_2)\n",
    "        for i in range(n):\n",
    "            p=B[i]\n",
    "            for j in range(n):\n",
    "                if i!=j:\n",
    "                    p-=Mat[i][j]*X_1[j]\n",
    "            X_2[i]=p/Mat[i][i]\n",
    "        count+=1\n",
    "        #print(count)\n",
    "        if count>iter:\n",
    "            print('Iteration limit reached!!')\n",
    "            return(None)\n",
    "            break\n",
    "        #print(X_1)\n",
    "        #print(X_2)\n",
    "    print(count)\n",
    "    return(X_2)\n"
   ]
  },
  {
   "cell_type": "markdown",
   "metadata": {},
   "source": [
    "### Gauss Seidel"
   ]
  },
  {
   "cell_type": "code",
   "execution_count": 230,
   "metadata": {},
   "outputs": [],
   "source": [
    "def Gauss_Seidel(Mat,B,iter=1000,prec=0.0001):\n",
    "    n=len(B)\n",
    "    X_1=np.random.random(n)\n",
    "    C=1\n",
    "    while C>prec:\n",
    "        C=0\n",
    "        for i in range(n):\n",
    "            p=B[i]\n",
    "            for j in range(0,i):\n",
    "                p-=Mat[i][j]*X_1[j]\n",
    "            for j in range(i+1,n):\n",
    "                p-=Mat[i][j]*X_1[j]\n",
    "            #print('i='+str(i))\n",
    "            #print(p)\n",
    "            q=p/Mat[i][i]\n",
    "            C+=(q-X_1[i])**2\n",
    "            X_1[i]=q\n",
    "    return(X_1)\n",
    "    "
   ]
  },
  {
   "cell_type": "markdown",
   "metadata": {},
   "source": [
    "### Conjugate Gradiant"
   ]
  },
  {
   "cell_type": "code",
   "execution_count": 231,
   "metadata": {},
   "outputs": [],
   "source": [
    "def norm(r):\n",
    "    R=0\n",
    "    for i in r:\n",
    "        R+=i**2\n",
    "    return(R)\n",
    "def conjugate_gradiant(Matrix,b,tol=0.0001,r=2):\n",
    "    n=len(b)\n",
    "    x=np.zeros(n)\n",
    "    r=b-np.matmul(Matrix,x)\n",
    "    d=r\n",
    "    i=1\n",
    "    while i<=n:\n",
    "        #print(i)\n",
    "        ri=np.matmul(np.transpose(r),r)\n",
    "        #print(ri)\n",
    "        alpha=ri/np.matmul(d,np.matmul(Matrix,d))\n",
    "        #print(alpha)\n",
    "        x+=alpha*d\n",
    "        #print(x)\n",
    "        r-=alpha*np.matmul(Matrix,d)\n",
    "        if norm(r)<tol:\n",
    "            break\n",
    "        else:\n",
    "            beta=np.matmul(np.transpose(r),r)/ri\n",
    "            d=r+beta*d\n",
    "            i+=1\n",
    "    return(x)"
   ]
  },
  {
   "cell_type": "markdown",
   "metadata": {},
   "source": [
    "#### Conjugate Gradiant Inverse"
   ]
  },
  {
   "cell_type": "code",
   "execution_count": 232,
   "metadata": {},
   "outputs": [],
   "source": [
    "def cginverse(Matrix):\n",
    "    L=[]\n",
    "    n=len(Matrix)\n",
    "    for i in range(n):\n",
    "        u=np.zeros(n)\n",
    "        u[i]=1\n",
    "        L.append(conjugate_gradiant(Matrix,u))\n",
    "    L=np.array(L)\n",
    "    return(L.transpose())"
   ]
  },
  {
   "cell_type": "markdown",
   "metadata": {},
   "source": [
    "#### Conjugate gradiant for a special function, implemented without storing the matrix"
   ]
  },
  {
   "cell_type": "code",
   "execution_count": 233,
   "metadata": {},
   "outputs": [],
   "source": [
    "def specialmult(X,m):\n",
    "    l=len(X)\n",
    "    Y=np.zeros(l)\n",
    "    for i in range(l):\n",
    "        if i ==l-1:\n",
    "            Y[i]=0.5*(X[0]+X[i-1]-2*X[i])+m**2*X[i]\n",
    "        else:\n",
    "            Y[i]=0.5*(X[i+1]+X[i-1]-2*X[i])+m**2*X[i] \n",
    "    return(Y)\n",
    "\n",
    "def special_conjugate_gradiant(b,m,tol=0.0001):\n",
    "    n=len(b)\n",
    "    x=np.zeros(n)\n",
    "    r=b-specialmult(x,m)\n",
    "    d=r\n",
    "    i=1\n",
    "    R=[]\n",
    "    while i<=n:\n",
    "        #print(i)\n",
    "        ri=np.matmul(np.transpose(r),r)\n",
    "        #print(ri)\n",
    "        alpha=ri/np.matmul(d,specialmult(d,m))\n",
    "        #print(alpha)\n",
    "        x+=alpha*d\n",
    "        #print(x)\n",
    "        r-=alpha*specialmult(d,m)\n",
    "        R.append(norm(r))\n",
    "        if norm(r)<tol:\n",
    "            break\n",
    "        else:\n",
    "            beta=np.matmul(np.transpose(r),r)/ri\n",
    "            d=r+beta*d\n",
    "            i+=1\n",
    "    return(x,R)"
   ]
  },
  {
   "cell_type": "code",
   "execution_count": 234,
   "metadata": {},
   "outputs": [],
   "source": [
    "def scginverse(m,n,tol=0.0001):\n",
    "    L=[]\n",
    "    for i in range(n):\n",
    "        u=np.zeros(n)\n",
    "        u[i]=1\n",
    "        l,Res=special_conjugate_gradiant(u,m,tol)\n",
    "        L.append(l)\n",
    "    #print(Res)\n",
    "    plt.plot(Res,'.')\n",
    "    plt.xlabel(\"Iteration number\")\n",
    "    plt.ylabel(\"Residue\")\n",
    "    plt.ylim(-0.2,5)\n",
    "    plt.show()\n",
    "    L=np.array(L)\n",
    "    return(L.transpose())"
   ]
  },
  {
   "cell_type": "markdown",
   "metadata": {},
   "source": [
    "# Eigen Decomposition"
   ]
  },
  {
   "cell_type": "markdown",
   "metadata": {},
   "source": [
    "## Power method(1st one takes tolarence, where 2nd one takes a iteration number.)"
   ]
  },
  {
   "cell_type": "code",
   "execution_count": 235,
   "metadata": {},
   "outputs": [],
   "source": [
    "def eigenvalue_power_method_tol(matrix,tol):\n",
    "    n=len(matrix)\n",
    "    v=np.ones((n,1))\n",
    "    param=2\n",
    "    i=0\n",
    "    while np.abs(param)>tol:\n",
    "        num=MATMULT(matrix,v)\n",
    "        a=MATMULT(Transpose(MATMULT(matrix,num)),num)[0][0]\n",
    "        b=MATMULT(Transpose(num),num)[0][0]\n",
    "        if i!=0:\n",
    "            param=a/b-eig\n",
    "        eig=a/b\n",
    "        v=num\n",
    "        i+=1\n",
    "    return(eig)\n",
    "\n",
    "def eigenvalue_power_method_deg(matrix,k):\n",
    "    n=len(matrix)\n",
    "    v=np.ones((n,1))\n",
    "    for i in range(k):\n",
    "        num=MATMULT(matrix,v)\n",
    "        a=MATMULT(Transpose(MATMULT(matrix,num)),num)[0][0]\n",
    "        b=MATMULT(Transpose(num),num)[0][0]\n",
    "        eig=a/b\n",
    "        v=num\n",
    "    return(eig)\n"
   ]
  },
  {
   "cell_type": "markdown",
   "metadata": {},
   "source": [
    "## QR Method of eigenvalue decomposition "
   ]
  },
  {
   "cell_type": "markdown",
   "metadata": {},
   "source": [
    "### Gram-Schmidt "
   ]
  },
  {
   "cell_type": "code",
   "execution_count": 236,
   "metadata": {},
   "outputs": [],
   "source": [
    "def normlen(r):\n",
    "    R=0\n",
    "    for i in r:\n",
    "        R+=i**2\n",
    "    return(R**0.5)\n",
    "\n",
    "def gram_smith(matrix):\n",
    "    n=len(matrix)\n",
    "    U=np.zeros((n,n))\n",
    "    E=np.zeros((n,n))\n",
    "    for i in range(n):\n",
    "        U[i]=np.transpose(matrix)[i]\n",
    "        for j in range(i):\n",
    "            #print(i,j)\n",
    "            U[i]=U[i]-np.dot(U[i],E[j])*E[j]\n",
    "        E[i]=U[i]/normlen(U[i])\n",
    "    return(U,E)"
   ]
  },
  {
   "cell_type": "code",
   "execution_count": 237,
   "metadata": {},
   "outputs": [],
   "source": [
    "def QR_factorization(matrix):\n",
    "    n=len(matrix)\n",
    "    U,E=gram_smith(matrix)\n",
    "    Q=np.transpose(E)\n",
    "    R=np.zeros((n,n))\n",
    "    for i in range(n):\n",
    "        R[i,i]=np.dot(Q[:,i],matrix[:,i])\n",
    "        for j in range(i):\n",
    "            R[j,i]=np.dot(Q[:,j],matrix[:,i])\n",
    "    return(Q,R)\n"
   ]
  },
  {
   "cell_type": "markdown",
   "metadata": {},
   "source": [
    "### Householder reflection"
   ]
  },
  {
   "cell_type": "code",
   "execution_count": 238,
   "metadata": {},
   "outputs": [],
   "source": [
    "def qr_householder(A):\n",
    "    m, n = A.shape\n",
    "    R = A.copy()\n",
    "    Q = np.identity(m)\n",
    "    for i in range(n-1):\n",
    "        alpha=normlen(R[i:,i])\n",
    "        avec= np.zeros_like(R[i:,[i]])\n",
    "        avec[0]= alpha\n",
    "        u=R[i:,[i]]-avec \n",
    "        v=u / normlen(u)\n",
    "        Qn = np.identity(m -i)-(2 * np.dot(v, v.T))\n",
    "        Qn = np.block([[np.eye(i), np.zeros((i, m - i))],\n",
    "                       [np.zeros((m -i, i)), Qn]])\n",
    "        R=np.dot(Qn, R)\n",
    "        Q = np.dot(Q, Qn.T)\n",
    "    return(Q,R)"
   ]
  },
  {
   "cell_type": "markdown",
   "metadata": {},
   "source": [
    "### Givens rotation"
   ]
  },
  {
   "cell_type": "code",
   "execution_count": 239,
   "metadata": {},
   "outputs": [],
   "source": [
    "def givensrotation(a, b):\n",
    "    hypot = np.sqrt(a**2 + b**2)\n",
    "    cos = a / hypot\n",
    "    sin = -b / hypot\n",
    "    return cos, sin\n",
    "\n",
    "\n",
    "def qr_givens(A):\n",
    "    m, n = A.shape\n",
    "    R = A.copy()\n",
    "    Q = np.identity(m)\n",
    "    for i in range(0, n - 1):\n",
    "        for j in range(i + 1, m):\n",
    "            cos, sin = givensrotation(R[i, i], R[j, i])\n",
    "            R[i], R[j] = (R[i] * cos) + (R[j] * (-sin)), (R[i] * sin) + (R[j] * cos)\n",
    "            Q[:, i], Q[:, j] = (Q[:, i] * cos) + (Q[:, j] * (-sin)), (Q[:, i] * sin) + (Q[:, j] * cos)\n",
    "    return Q, R"
   ]
  },
  {
   "cell_type": "code",
   "execution_count": 240,
   "metadata": {},
   "outputs": [],
   "source": [
    "def diag_weigh(matrix):\n",
    "    #n=len(matrix)\n",
    "    diag=np.sum(np.abs(np.diag(matrix)))\n",
    "    matsum=np.sum(np.abs(matrix))\n",
    "    ratio=diag/matsum\n",
    "    return(ratio)"
   ]
  },
  {
   "cell_type": "code",
   "execution_count": 241,
   "metadata": {},
   "outputs": [],
   "source": [
    "def eig_QR(matrix,k,method='Householder'):\n",
    "    if method=='Gram-Schmidt':\n",
    "        Q,R=QR_factorization(matrix)\n",
    "    elif method=='Givens':\n",
    "        Q,R=qr_givens(matrix)\n",
    "    else:\n",
    "        Q,R=qr_householder(matrix)\n",
    "    A=matrix\n",
    "    for i in range(k):\n",
    "        A=np.matmul(np.matmul(np.transpose(Q),A),Q)\n",
    "        #print(i)\n",
    "        #print(diag_weigh(A))\n",
    "    return(A)"
   ]
  },
  {
   "cell_type": "code",
   "execution_count": 242,
   "metadata": {},
   "outputs": [],
   "source": [
    "def eig_QR_tol(matrix,tol=0.95,maxiter=10000,method='Householder'):\n",
    "    if method=='Gram-Schmidt':\n",
    "        Q,R=QR_factorization(matrix)\n",
    "    elif method=='Givens':\n",
    "        Q,R=qr_givens(matrix)\n",
    "    else:\n",
    "        Q,R=qr_householder(matrix)\n",
    "    A=matrix\n",
    "    i=0\n",
    "    weigh=[]\n",
    "    while True:\n",
    "        A=np.matmul(np.matmul(np.transpose(Q),A),Q)\n",
    "        i+=1\n",
    "        weigh.append(diag_weigh(A))\n",
    "        if diag_weigh(A)>tol:\n",
    "            break\n",
    "        elif i>maxiter:\n",
    "            n=weigh.index(max(weigh))\n",
    "            return(eig_QR(matrix,n+1,method))\n",
    "    return(A)"
   ]
  },
  {
   "cell_type": "code",
   "execution_count": 243,
   "metadata": {},
   "outputs": [],
   "source": [
    "def get_eig_QR(matrix,tol=0.95,maxiter=10000,method='Householder'):\n",
    "    Eigmat=eig_QR_tol(matrix,tol,maxiter,method)\n",
    "    return([Eigmat[i][i] for i in range(len(Eigmat))])"
   ]
  },
  {
   "cell_type": "markdown",
   "metadata": {},
   "source": [
    "# Fitting"
   ]
  },
  {
   "cell_type": "markdown",
   "metadata": {},
   "source": [
    "## Linear Fit"
   ]
  },
  {
   "cell_type": "code",
   "execution_count": 244,
   "metadata": {},
   "outputs": [],
   "source": [
    "def Lin_fit(X,Y):\n",
    "    N=len(X)\n",
    "    Sx=0\n",
    "    Sy=0\n",
    "    Sxx=0\n",
    "    Sxy=0\n",
    "    for i in range(N):\n",
    "        Sx+=X[i]\n",
    "        Sy+=Y[i]\n",
    "        Sxx+=(X[i])**2\n",
    "        Sxy+=X[i]*Y[i]\n",
    "    #m=((Sy/N)*Sxx-(Sx/N)*Sxy)/(Sxx-N*(Sx/N)**2)\n",
    "    m=(N*Sxy-Sx*Sy)/(N*Sxx-(Sx)**2)\n",
    "    c=Sy/N-m*Sx/N\n",
    "    YN=[(m*x+c) for x in X]\n",
    "    return(X,YN)"
   ]
  },
  {
   "cell_type": "markdown",
   "metadata": {},
   "source": [
    "## Polynomial Fit"
   ]
  },
  {
   "cell_type": "code",
   "execution_count": 245,
   "metadata": {},
   "outputs": [],
   "source": [
    "def makepolfunction(X):            #make polinomial function out of list of coefficients\n",
    "    def newfunc(x):\n",
    "        func=0\n",
    "        for i in range(len(X)):\n",
    "            func=func+X[i]*x**(len(X)-1-i) \n",
    "        return(func)\n",
    "    return(newfunc)\n",
    "\n",
    "def matfit(A,B,l,r=2):\n",
    "    M=[[0 for i in range(l)] for j in range(l)]\n",
    "    N=[[0] for i in range(l)]\n",
    "    #print(N[2][0])\n",
    "    for i in range(len(M)):\n",
    "        for k in range(len(A)):\n",
    "            N[i][0]+=B[k]*A[k]**i\n",
    "            for j in range(len(M[0])):\n",
    "                M[i][j]+=A[k]**(i+j)            \n",
    "    #print(M,N)\n",
    "    condno=np.linalg.cond(M)\n",
    "    An=DEqnSolver(M,N,r)\n",
    "    An=Transpose(An)\n",
    "    #print(An) #in decreasing order\n",
    "    return(An[0],condno)\n",
    "\n",
    "def PolFit(A,B,l,r=2):\n",
    "    t,c=matfit(A,B,l,r)\n",
    "    t.reverse()\n",
    "    func=makepolfunction(t)\n",
    "    AN=sorted(A)\n",
    "    #print(A)\n",
    "    YN=[func(i) for i in AN]\n",
    "    return(AN,YN)\n"
   ]
  },
  {
   "cell_type": "markdown",
   "metadata": {},
   "source": [
    "## Polynomial fit with custom functions"
   ]
  },
  {
   "cell_type": "markdown",
   "metadata": {},
   "source": [
    "Change phi0,1,2,3 as per problem, rest remain same"
   ]
  },
  {
   "cell_type": "code",
   "execution_count": 246,
   "metadata": {},
   "outputs": [],
   "source": [
    "def phi0(x):\n",
    "    return(1)\n",
    "def phi1(x):\n",
    "    return(2*x-1)\n",
    "def phi2(x):\n",
    "    return(8*x**2-8*x+1)\n",
    "def phi3(x):\n",
    "    return(32*x**3-48*x**2+18*x-1)\n",
    "\n",
    "def phi(i,x):\n",
    "    if i==0:\n",
    "        return(phi0(x))\n",
    "    elif i==1:\n",
    "        return(phi1(x))\n",
    "    elif i==2:\n",
    "        return(phi2(x))\n",
    "    elif i==3:\n",
    "        return(phi3(x))\n"
   ]
  },
  {
   "cell_type": "markdown",
   "metadata": {},
   "source": [
    "matfit/matfitfun provides the fitting values and condition no "
   ]
  },
  {
   "cell_type": "code",
   "execution_count": 247,
   "metadata": {},
   "outputs": [],
   "source": [
    "def matfitfun(A,B,l,fun,r=2):\n",
    "    M=[[0 for i in range(l)] for j in range(l)]\n",
    "    N=[[0] for i in range(l)]\n",
    "    #print(N[2][0])\n",
    "    for i in range(len(M)):\n",
    "        for k in range(len(A)):\n",
    "            N[i][0]+=B[k]*fun(i,A[k])\n",
    "            for j in range(len(M[0])):\n",
    "                M[i][j]+=fun(i,A[k])*fun(j,A[k])            \n",
    "    #print(M,N)\n",
    "    condno=np.linalg.cond(M)\n",
    "    An=DEqnSolver(M,N,r)\n",
    "    An=Transpose(An)\n",
    "    #print(An) #in decreasing order\n",
    "    return(An[0],condno)\n",
    "\n",
    "def PolFitfun(A,B,l,fun,r=2):\n",
    "    t,c=matfitfun(A,B,l,fun,r)\n",
    "    func=lambda x: (t[0]*phi0(x)+t[1]*phi1(x)+t[2]*phi2(x)+t[3]*phi3(x))\n",
    "    AN=sorted(A)\n",
    "    #print(A)\n",
    "    YN=[func(i) for i in AN]\n",
    "    return(AN,YN)"
   ]
  },
  {
   "cell_type": "markdown",
   "metadata": {},
   "source": [
    "sample plotting"
   ]
  },
  {
   "cell_type": "code",
   "execution_count": 248,
   "metadata": {},
   "outputs": [
    {
     "data": {
      "image/png": "[encoded data removed]",
      "text/plain": [
       "<Figure size 640x480 with 1 Axes>"
      ]
     },
     "metadata": {},
     "output_type": "display_data"
    }
   ],
   "source": [
    "data = pd.read_csv('assign3fit.txt', delimiter= '\\t',  index_col=False)\n",
    "A=data[\"# x\"].tolist()\n",
    "B=data[\"  y\"].tolist()\n",
    "X,Y=PolFit(A,B,4)\n",
    "X1,Y1=PolFitfun(A,B,4,phi)\n",
    "#print(X)\n",
    "plt.plot(X,Y,\"-.\")\n",
    "plt.scatter(A,B)\n",
    "plt.xlabel(\"x\")\n",
    "plt.ylabel(\"y\")\n",
    "plt.grid()\n",
    "plt.show()"
   ]
  },
  {
   "cell_type": "markdown",
   "metadata": {},
   "source": [
    "# Statistics"
   ]
  },
  {
   "cell_type": "code",
   "execution_count": 249,
   "metadata": {},
   "outputs": [],
   "source": [
    "def mean(X):\n",
    "    return(sum(X)/len(X))\n",
    "def stddiv(X):\n",
    "    L=[(x-mean(X))**2 for x in X]\n",
    "    return((sum(L)/(len(X)-1))**0.5)"
   ]
  },
  {
   "cell_type": "markdown",
   "metadata": {},
   "source": [
    "## Normal Distribution"
   ]
  },
  {
   "cell_type": "code",
   "execution_count": 250,
   "metadata": {},
   "outputs": [],
   "source": [
    "def normal_distribution(x, mean, std_dev):\n",
    "    return (1 / (std_dev * np.sqrt(2 * np.pi))) * np.exp(-((x - mean) ** 2) / (2 * std_dev ** 2))"
   ]
  },
  {
   "cell_type": "code",
   "execution_count": 251,
   "metadata": {},
   "outputs": [],
   "source": [
    "def normaldist(x,k,total,sigma=1):\n",
    "    num=np.linspace(0,x-1,x)\n",
    "    #print(num)\n",
    "    std_dev=1\n",
    "    normal_values = normal_distribution(num, k, std_dev)\n",
    "    normalized_values = normal_values / np.sum(normal_values) * total\n",
    "    return np.round(normalized_values)"
   ]
  },
  {
   "cell_type": "markdown",
   "metadata": {},
   "source": [
    "## F test"
   ]
  },
  {
   "cell_type": "code",
   "execution_count": 252,
   "metadata": {},
   "outputs": [],
   "source": [
    "def F_test(A,B):\n",
    "    s1=stddiv(A)\n",
    "    s2=stddiv(B)\n",
    "    return(max(s1,s2)/min(s1,s2))"
   ]
  },
  {
   "cell_type": "markdown",
   "metadata": {},
   "source": [
    "## T test"
   ]
  },
  {
   "cell_type": "code",
   "execution_count": 253,
   "metadata": {},
   "outputs": [],
   "source": [
    "def T_test(A,B):\n",
    "    m1=mean(A)\n",
    "    m2=mean(B)\n",
    "    s1=stddiv(A)\n",
    "    s2=stddiv(B)\n",
    "    t=abs(m1-m2)/(s1**2+s2**2)**0.5\n",
    "    return(t)"
   ]
  },
  {
   "cell_type": "code",
   "execution_count": 254,
   "metadata": {},
   "outputs": [],
   "source": [
    "def dof_t_test(A,B):\n",
    "    s1=stddiv(A)\n",
    "    s2=stddiv(B)\n",
    "    N1=len(A)\n",
    "    N2=len(B)\n",
    "    neu=((s1**2/N1+s2**2/N2)**2)/(s1**4/((N1-1)*N1**2)+s2**4/((N2-1)*N2**2))\n",
    "    return(Round(neu))"
   ]
  },
  {
   "cell_type": "markdown",
   "metadata": {},
   "source": [
    "# Pseudo random number generator"
   ]
  },
  {
   "cell_type": "code",
   "execution_count": 255,
   "metadata": {},
   "outputs": [],
   "source": [
    "def random_genQ1(a,m,x0=1):\n",
    "    R=np.ones(m)\n",
    "    R[0]=x0\n",
    "    for i in range(1,m):\n",
    "        R[i]=a*R[i-1]%m\n",
    "    return(R/m)\n",
    "\n",
    "def random_gen(a,m,i,f,x0=1):\n",
    "    Ran=random_genQ1(a,m,x0)\n",
    "    return(i+(f-i)*Ran)"
   ]
  },
  {
   "cell_type": "markdown",
   "metadata": {},
   "source": [
    "## Random number generator test"
   ]
  },
  {
   "cell_type": "code",
   "execution_count": 256,
   "metadata": {},
   "outputs": [],
   "source": [
    "def Correlation_test(n,X):\n",
    "    N=len(X)\n",
    "    eps=0\n",
    "    for i in range(N):\n",
    "        if i<N-n:\n",
    "            eps+=(X[i]*X[i+n])\n",
    "        else:\n",
    "            eps+=X[i]*X[i-N+n]\n",
    "    eps=eps/N\n",
    "    eps-=(np.sum(X)/N)**2\n",
    "    return(eps)"
   ]
  },
  {
   "cell_type": "code",
   "execution_count": 257,
   "metadata": {},
   "outputs": [],
   "source": [
    "def Moments_test(k,X):\n",
    "    N=len(X)\n",
    "    mu=np.absolute(np.sum(X**k)/N-1/(k+1))\n",
    "    return(mu)"
   ]
  },
  {
   "cell_type": "markdown",
   "metadata": {},
   "source": [
    "## MC with custom random number generator"
   ]
  },
  {
   "cell_type": "code",
   "execution_count": 258,
   "metadata": {},
   "outputs": [],
   "source": [
    "def INT_MONT2(func,a,b,N=1000):\n",
    "    f=sum(func(random_gen(439,N,a,b)[:N]))\n",
    "    F=(b-a)*f/N\n",
    "    return(F)\n",
    "\n",
    "def INT_MONT_PLOT(func,a,b,i,f,step):\n",
    "    X=np.arange(i,f+1,step)\n",
    "    Y=[]\n",
    "    for i in X:\n",
    "        Y.append(INT_MONT2(func,a,b,i))\n",
    "    return(X,Y)"
   ]
  },
  {
   "cell_type": "markdown",
   "metadata": {},
   "source": [
    "## Inversion method\n",
    "\n",
    "Let q(y) be the distribution function and the range be $a<y<b$. First get $\\int_a^b q(y)dy$. Now, "
   ]
  },
  {
   "cell_type": "markdown",
   "metadata": {},
   "source": [
    "$x= \\int^y_a (q(y)/\\int_a^b q(y)dy)dy$. Invert the function and write y=f(x). "
   ]
  },
  {
   "cell_type": "markdown",
   "metadata": {},
   "source": [
    "## Accept-reject method\n",
    "base_func is the inverse of the base distribution of random number generated by inversion method.\n",
    "f and g are the intended distribution and sample distribution respectively."
   ]
  },
  {
   "cell_type": "markdown",
   "metadata": {},
   "source": [
    "c is the maximum of f(x)/g(x). "
   ]
  },
  {
   "cell_type": "code",
   "execution_count": 259,
   "metadata": {},
   "outputs": [],
   "source": [
    "def accept_reject_ran_gen(f,g,base_func,c,N):\n",
    "    X=base_func(random_gen(439,100*N,0,1))\n",
    "    U=random_gen(469,100*N,0,1)\n",
    "    Z=[]\n",
    "    i=0\n",
    "    while len(Z)<N:\n",
    "        if U[i]<=f(X[i])/(c*g(X[i])):\n",
    "            Z.append(X[i])\n",
    "        i+=1\n",
    "    return(np.array(Z))\n"
   ]
  },
  {
   "cell_type": "markdown",
   "metadata": {},
   "source": [
    "## Monte-Carlo Integration with custom distributions\n",
    "\n",
    "integrand is the function we want to integrate.\n",
    "funcsample is the sample distribution function.\n",
    "Invfunc is the inverse of the sample distribution function."
   ]
  },
  {
   "cell_type": "code",
   "execution_count": 260,
   "metadata": {},
   "outputs": [],
   "source": [
    "def INT_MONT_var(integrand,funcsample,Invfunc,N=1000):\n",
    "    t=Invfunc(random_gen(469,N,0,1))\n",
    "    plt.hist(t,20)\n",
    "    f=sum(integrand(t)/funcsample(t))\n",
    "    f2=sum((integrand(t)/funcsample(t))**2)\n",
    "    F=f/N\n",
    "    variance=f2/N-(f/N)**2\n",
    "    return(F,variance)"
   ]
  }
 ],
 "metadata": {
  "kernelspec": {
   "display_name": "Python 3",
   "language": "python",
   "name": "python3"
  },
  "language_info": {
   "codemirror_mode": {
    "name": "ipython",
    "version": 3
   },
   "file_extension": ".py",
   "mimetype": "text/x-python",
   "name": "python",
   "nbconvert_exporter": "python",
   "pygments_lexer": "ipython3",
   "version": "3.11.4"
  }
 },
 "nbformat": 4,
 "nbformat_minor": 2
}
