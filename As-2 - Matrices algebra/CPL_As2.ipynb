{
 "cells": [
  {
   "cell_type": "markdown",
   "metadata": {},
   "source": [
    "# Question 1"
   ]
  },
  {
   "cell_type": "code",
   "execution_count": 10,
   "metadata": {},
   "outputs": [
    {
     "name": "stdin",
     "output_type": "stream",
     "text": [
      "Enter no. of rows 2\n",
      "Enter no. of columns 3\n",
      "Enter element A[0][0] =  1\n",
      "Enter element A[0][1] =  2\n",
      "Enter element A[0][2] =  3\n",
      "Enter element A[1][0] =  4\n",
      "Enter element A[1][1] =  5\n",
      "Enter element A[1][2] =  6\n"
     ]
    },
    {
     "name": "stdout",
     "output_type": "stream",
     "text": [
      "[[1.0, 2.0, 3.0], [4.0, 5.0, 6.0]]\n",
      "\n",
      "The matrix is: \n",
      "1.0    2.0    3.0    \n",
      "\n",
      "4.0    5.0    6.0    \n",
      "\n",
      "\n"
     ]
    },
    {
     "name": "stdin",
     "output_type": "stream",
     "text": [
      "Enter no. of rows 3\n",
      "Enter no. of columns 2\n",
      "Enter element B[0][0] =  1\n",
      "Enter element B[0][1] =  2\n",
      "Enter element B[1][0] =  3\n",
      "Enter element B[1][1] =  4\n",
      "Enter element B[2][0] =  5\n",
      "Enter element B[2][1] =  6\n"
     ]
    },
    {
     "name": "stdout",
     "output_type": "stream",
     "text": [
      "\n",
      "The matrix is: \n",
      "1.0    2.0    \n",
      "\n",
      "3.0    4.0    \n",
      "\n",
      "5.0    6.0    \n",
      "\n",
      "\n"
     ]
    }
   ],
   "source": [
    "\n",
    "%run CPL_Library.ipynb # Running the entire library in one line because \n",
    "                        # importing does not work with JupyterLab\n",
    "\n",
    "# Function for user to enter two matrices\n",
    "\n",
    "row1=int(input(\"Enter no. of rows\"))\n",
    "column1=int(input(\"Enter no. of columns\"))\n",
    "# Input the matrix A\n",
    "A = [[float(input(\"Enter element A[\"+str(j)+\"][\"+str(i)+'] = ')) for i in range(column1)] for j in range(row1)]\n",
    "print(A)\n",
    "print_matrix(A,row1,column1)\n",
    "# Saving the data to CSV file\n",
    "np.savetxt(\"matrixA.csv\", A, delimiter = \",\")\n",
    "\n",
    "\n",
    "row2=int(input(\"Enter no. of rows\"))\n",
    "column2=int(input(\"Enter no. of columns\"))\n",
    "# Input the matrix B\n",
    "B = [[float(input(\"Enter element B[\"+str(j)+\"][\"+str(i)+'] = ')) for i in range(column2)] for j in range(row2)]\n",
    "print_matrix(B,row2,column2)\n",
    "# Saving the data to CSV file\n",
    "np.savetxt(\"matrixB.csv\", B, delimiter = \",\")\n"
   ]
  },
  {
   "cell_type": "code",
   "execution_count": 11,
   "metadata": {},
   "outputs": [
    {
     "name": "stdout",
     "output_type": "stream",
     "text": [
      "\n",
      "The matrix is: \n",
      "1    2    4    \n",
      "\n",
      "0    1    2    \n",
      "\n",
      "4    -2    3    \n",
      "\n",
      "\n",
      "\n",
      "The matrix is: \n",
      "3    0    1    \n",
      "\n",
      "-1    1    2    \n",
      "\n",
      "0    2    1    \n",
      "\n",
      "\n",
      "\n",
      "The matrix is: \n",
      "1    \n",
      "\n",
      "4    \n",
      "\n",
      "3    \n",
      "\n",
      "\n",
      "\n",
      "The matrix is: \n",
      "2    \n",
      "\n",
      "0    \n",
      "\n",
      "-1    \n",
      "\n",
      "\n"
     ]
    }
   ],
   "source": [
    "\n",
    "%run CPL_Library.ipynb # Running the entire library in one line because \n",
    "                        # importing does not work with JupyterLab\n",
    "\n",
    "# initializing array examples and saving it in CSV file\n",
    "\n",
    "A = [[1,2,4],[0,1,2],[4,-2,3]]\n",
    "print_matrix(A,3,3)\n",
    "np.savetxt(\"matrixA.csv\", A, delimiter = \",\")\n",
    "\n",
    "B = [[3,0,1],[-1,1,2],[0,2,1]]\n",
    "print_matrix(B,3,3)\n",
    "np.savetxt(\"matrixB.csv\", B, delimiter = \",\")\n",
    "\n",
    "# C and D are column vectors\n",
    "\n",
    "C = [[1],[4],[3]]\n",
    "print_matrix(C,3,1)\n",
    "np.savetxt(\"matrixC.csv\", C, delimiter = \",\")\n",
    "\n",
    "D = [[2],[0],[-1]]\n",
    "print_matrix(D,3,1)\n",
    "np.savetxt(\"matrixD.csv\", D, delimiter = \",\")\n"
   ]
  },
  {
   "cell_type": "code",
   "execution_count": 12,
   "metadata": {},
   "outputs": [
    {
     "name": "stdout",
     "output_type": "stream",
     "text": [
      "\n",
      "The matrix is: \n",
      "1.0    10.0    9.0    \n",
      "\n",
      "-1.0    5.0    4.0    \n",
      "\n",
      "14.0    4.0    3.0    \n",
      "\n",
      "\n",
      "\n",
      "The matrix is: \n",
      "2.0    \n",
      "\n",
      "\n",
      "\n",
      "The matrix is: \n",
      "13.0    0.0    21.0    \n",
      "\n",
      "\n",
      "\n",
      "The matrix is: \n",
      "6.0    \n",
      "\n",
      "-2.0    \n",
      "\n",
      "0.0    \n",
      "\n",
      "\n"
     ]
    }
   ],
   "source": [
    "\n",
    "%run CPL_Library.ipynb # Running the entire library in one line because \n",
    "                        # importing does not work with JupyterLab\n",
    "\n",
    "# Reading data from the CSV files\n",
    "A=np.genfromtxt('matrixA.csv',delimiter=',')\n",
    "B=np.genfromtxt('matrixB.csv',delimiter=',')\n",
    "C=np.genfromtxt('matrixC.csv',delimiter=',')\n",
    "D=np.genfromtxt('matrixD.csv',delimiter=',')\n",
    "\n",
    "# matrix C and D become one dimensional arrays which need to be\n",
    "# converted back to 2d for matrix multiplication\n",
    "# So we check their dimension and reshape the matrices\n",
    "# This could be done for A and B as well, but it is not required for the case\n",
    "if C.ndim==1:\n",
    "    C=np.reshape(C,(len(C),1))\n",
    "if D.ndim==1:\n",
    "    D=np.reshape(D,(len(D),1))\n",
    "\n",
    "row1=len(A)\n",
    "col1=len(A[0])\n",
    "row2=len(B)\n",
    "col2=len(B[0])\n",
    "row3=len(C)\n",
    "col3=len(C[0])\n",
    "row4=len(D)\n",
    "col4=len(D[0])\n",
    "\n",
    "# matrix multiplication\n",
    "# transposing C wherever required for compatibility\n",
    "\n",
    "AB,R1,C1=matrix_multiply(A, row1, col1, B, row2, col2)\n",
    "print_matrix(AB, R1, C1)\n",
    "np.savetxt(\"matrixAB.csv\", AB, delimiter = \",\")\n",
    "\n",
    "Ct,rt,ct=transpose_matrix(C, row3, col3)\n",
    "CD,R2,C2=matrix_multiply(Ct, rt, ct, D, row4, col4)\n",
    "print_matrix(CD, R2, C2)\n",
    "np.savetxt(\"matrixCD.csv\", CD, delimiter = \",\")\n",
    "\n",
    "Ct,rt,ct=transpose_matrix(C, row3, col3)\n",
    "CA,R3,C3=matrix_multiply(Ct, rt, ct, A, row1, col1)\n",
    "print_matrix(CA, R3, C3)\n",
    "np.savetxt(\"matrixCA.csv\", CA, delimiter = \",\")\n",
    "\n",
    "BD,R4,C4=matrix_multiply(B, row2, col2, D, row4, col4)\n",
    "print_matrix(BD, R4, C4)\n",
    "np.savetxt(\"matrixBD.csv\", BD, delimiter = \",\")\n"
   ]
  },
  {
   "cell_type": "markdown",
   "metadata": {},
   "source": [
    "# Question 2"
   ]
  },
  {
   "cell_type": "code",
   "execution_count": 13,
   "metadata": {},
   "outputs": [
    {
     "name": "stdout",
     "output_type": "stream",
     "text": [
      "The complex number is 3 + (2 i)\n",
      "The complex number is 1 + (-2 i)\n",
      "Sum of 3 + (2 i) and 1 + (-2 i) is = 4 + (0 i)\n",
      "Difference of 3 + (2 i) and 1 + (-2 i) is = 2 + (4 i)\n",
      "Product of 3 + (2 i) and 1 + (-2 i) is = 7 + (-4 i)\n",
      "Conjugate of 3 + (2 i) is = 3 + (-2 i)\n",
      "Modulus of 3 + (2 i) is = 3.605551275463989\n",
      "Division of 3 + (2 i) by 1 + (-2 i) gives = 1.3999999999999997 + (-0.7999999999999998 i)\n",
      "Phase angle of 3 + (2i) is = 33.690067525979785 degrees\n"
     ]
    }
   ],
   "source": [
    "\n",
    "%run CPL_Library.ipynb # Running the entire library in one line because \n",
    "                        # importing does not work with JupyterLab\n",
    "\n",
    "a=3\n",
    "b=2\n",
    "print(\"The complex number is \"+str(a)+\" + (\"+str(b)+\" i)\")\n",
    "c=1\n",
    "d=-2\n",
    "print(\"The complex number is \"+str(c)+\" + (\"+str(d)+\" i)\")\n",
    "\n",
    "mc=myComplex(a,b,c,d) # calling the class\n",
    "\n",
    "p,q=mc.sum_complex(a,b,c,d)\n",
    "print(\"Sum of \"+str(a)+\" + (\"+str(b)+\" i) and \"+str(c)+\n",
    "      \" + (\"+str(d)+\" i) is = \"+str(p)+\" + (\"+str(q)+\" i)\")\n",
    "\n",
    "e,f=mc.difference_complex(a,b,c,d)\n",
    "print(\"Difference of \"+str(a)+\" + (\"+str(b)+\" i) and \"+str(c)+\n",
    "      \" + (\"+str(d)+\" i) is = \"+str(e)+\" + (\"+str(f)+\" i)\")\n",
    "\n",
    "m,n=mc.product_complex(a,b,c,d)\n",
    "print(\"Product of \"+str(a)+\" + (\"+str(b)+\" i) and \"+str(c)+\n",
    "      \" + (\"+str(d)+\" i) is = \"+str(m)+\" + (\"+str(n)+\" i)\")\n",
    "\n",
    "w,x=mc.conjugate_complex(a,b)\n",
    "print(\"Conjugate of \"+str(a)+\" + (\"+str(b)+\" i) is = \"+str(w)+\" + (\"+str(x)+\" i)\")\n",
    "\n",
    "y=mc.modulus_complex(a,b)\n",
    "print(\"Modulus of \"+str(a)+\" + (\"+str(b)+\" i) is = \"+str(y))\n",
    "\n",
    "r,s=mc.divide_complex(a,b,c,d)\n",
    "if r!=None and s!=None:\n",
    "    print(\"Division of \"+str(a)+\" + (\"+str(b)+\" i) by \"+str(c)+\n",
    "          \" + (\"+str(d)+\" i) gives = \"+str(r)+\" + (\"+str(s)+\" i)\")\n",
    "\n",
    "y=mc.phase_complex(a,b)\n",
    "print(\"Phase angle of \"+str(a)+\" + (\"+str(b)+\"i) is = \"+str(y)+\" degrees\")\n"
   ]
  },
  {
   "cell_type": "markdown",
   "metadata": {},
   "source": [
    "# Question 3"
   ]
  },
  {
   "cell_type": "code",
   "execution_count": 14,
   "metadata": {},
   "outputs": [
    {
     "name": "stdout",
     "output_type": "stream",
     "text": [
      "Number of points          Average distance\n",
      "      2             -     0.5\n",
      "      3             -     0.8888888888888888\n",
      "      4             -     1.25\n",
      "      5             -     1.6\n",
      "      6             -     1.9444444444444444\n",
      "      7             -     2.2857142857142856\n",
      "      8             -     2.625\n",
      "      9             -     2.962962962962963\n",
      "      10             -     3.3\n"
     ]
    },
    {
     "data": {
      "image/png": "[encoded data removed]",
      "text/plain": [
       "<Figure size 648x432 with 1 Axes>"
      ]
     },
     "metadata": {
      "needs_background": "light"
     },
     "output_type": "display_data"
    }
   ],
   "source": [
    "\n",
    "%run CPL_Library.ipynb # Running the entire library in one line because \n",
    "                        # importing does not work with JupyterLab\n",
    "\n",
    "import matplotlib.pyplot as plt\n",
    "plt.figure(figsize=(9,6))\n",
    "\n",
    "n=10 # number of observations plotted\n",
    "index=[]\n",
    "avg_dist=[]\n",
    "for k in range(2,n+1):\n",
    "    index.append(k)\n",
    "    avg_dist.append(calculate_avg_dist(k)) # function to calculate average distance\n",
    "\n",
    "print(\"Number of points          Average distance\") # prints number of points vs avg distance\n",
    "for i in range(len(index)):\n",
    "    print(\"      \"+str(index[i])+\"             -     \"+str(avg_dist[i]))\n",
    "\n",
    "# to label data points\n",
    "for x,y in zip(index,avg_dist):\n",
    "    label = \"{:.2f}\".format(y)\n",
    "    plt.annotate(label, # this is the text\n",
    "                 (x,y), # these are the coordinates to position the label\n",
    "                 textcoords=\"offset points\", # how to position the text\n",
    "                 xytext=(0,10), # distance from text to points (x,y)\n",
    "                 ha='center') # horizontal alignment can be left, right or center\n",
    "\n",
    "# plots number of points vs avg distance\n",
    "plt.plot(index, avg_dist,'r-o')\n",
    "plt.grid(color='b', ls = '-.', lw = 0.5)\n",
    "plt.xlabel('No. of points')\n",
    "plt.ylabel('Average distance')\n",
    "plt.title('Average distance vs No. of points curve')\n",
    "plt.xlim(1,n+1)\n",
    "plt.ylim(0,avg_dist[-1]+1)\n",
    "plt.show()\n"
   ]
  },
  {
   "cell_type": "markdown",
   "metadata": {},
   "source": [
    "# Question 4"
   ]
  },
  {
   "cell_type": "code",
   "execution_count": 15,
   "metadata": {},
   "outputs": [
    {
     "name": "stdout",
     "output_type": "stream",
     "text": [
      "Please enter guess in small letters, the module is case sensitive.\n",
      "\n",
      "Hint: capital of the country Germany\n",
      "\n",
      "\n",
      "\n",
      "['_', '_', '_', '_', '_', '_']\n",
      "\n",
      "Chances left : 3\n",
      "\n"
     ]
    },
    {
     "name": "stdin",
     "output_type": "stream",
     "text": [
      "Enter your guess :  b\n"
     ]
    },
    {
     "name": "stdout",
     "output_type": "stream",
     "text": [
      "['b', '_', '_', '_', '_', '_']\n",
      "\n",
      "Chances left : 3\n",
      "\n"
     ]
    },
    {
     "name": "stdin",
     "output_type": "stream",
     "text": [
      "Enter your guess :  e\n"
     ]
    },
    {
     "name": "stdout",
     "output_type": "stream",
     "text": [
      "['b', 'e', '_', '_', '_', '_']\n",
      "\n",
      "Chances left : 3\n",
      "\n"
     ]
    },
    {
     "name": "stdin",
     "output_type": "stream",
     "text": [
      "Enter your guess :  r\n"
     ]
    },
    {
     "name": "stdout",
     "output_type": "stream",
     "text": [
      "['b', 'e', 'r', '_', '_', '_']\n",
      "\n",
      "Chances left : 3\n",
      "\n"
     ]
    },
    {
     "name": "stdin",
     "output_type": "stream",
     "text": [
      "Enter your guess :  l\n"
     ]
    },
    {
     "name": "stdout",
     "output_type": "stream",
     "text": [
      "['b', 'e', 'r', 'l', '_', '_']\n",
      "\n",
      "Chances left : 3\n",
      "\n"
     ]
    },
    {
     "name": "stdin",
     "output_type": "stream",
     "text": [
      "Enter your guess :  i\n"
     ]
    },
    {
     "name": "stdout",
     "output_type": "stream",
     "text": [
      "['b', 'e', 'r', 'l', 'i', '_']\n",
      "\n",
      "Chances left : 3\n",
      "\n"
     ]
    },
    {
     "name": "stdin",
     "output_type": "stream",
     "text": [
      "Enter your guess :  n\n"
     ]
    },
    {
     "name": "stdout",
     "output_type": "stream",
     "text": [
      "['b', 'e', 'r', 'l', 'i', 'n']\n",
      "\n",
      "Congratulations, you WON the game.\n",
      "😀 😀 😀 😀 😀\n"
     ]
    }
   ],
   "source": [
    "\n",
    "%run CPL_Library.ipynb # Running the entire library in one line because \n",
    "                        # importing does not work with JupyterLab\n",
    "\n",
    "print(\"Please enter guess in small letters, the module is case sensitive.\\n\")\n",
    "country, capital=generate_word()\n",
    "print(\"Hint: capital of the country \"+country)\n",
    "print(\"\\n\\n\")\n",
    "word=capital\n",
    "word2=list(word) # converting into list makes it easier to handle\n",
    "\n",
    "chance=[]\n",
    "for i in range(len(word2)): # initializing\n",
    "    chance.append('_')\n",
    "print(chance)\n",
    "\n",
    "ch_left=math.ceil(len(word2)*0.4)\n",
    "flag=0 # variable to declare win\n",
    "\n",
    "i=0\n",
    "while ch_left>0:\n",
    "    count=0 # variable to decide number of chances left\n",
    "    print(\"\\nChances left : \"+str(ch_left))\n",
    "    print()\n",
    "    guess=input(\"Enter your guess : \")\n",
    "\n",
    "    for j in range(len(word2)):\n",
    "        if chance[j]=='_': # loop runs only for blank spaces left\n",
    "            if word2[j]==guess:\n",
    "                chance[j]=guess\n",
    "                count=1\n",
    "                flag+=1\n",
    "            else:\n",
    "                chance[j]=\"_\"\n",
    "    print(chance)\n",
    "    if count==0:\n",
    "        ch_left-=1\n",
    "    \n",
    "    # checking the losing condition first so that the value of \n",
    "    # ch_left is not altered by the winning condition ch_left=0\n",
    "    if ch_left==0: # losing condition\n",
    "        print(\"\\nYou LOST the game.\")\n",
    "        print(\"_________\") # Hangman picture\n",
    "        print(\"|       |\")\n",
    "        print(\"|      _O_\")\n",
    "        print(\"|       |\")\n",
    "        print(\"|      /\\\\\")\n",
    "        print(\"|____________\")\n",
    "        print(\"|____________|\")\n",
    "\n",
    "    if flag==len(chance): # winning condition\n",
    "        print(\"\\nCongratulations, you WON the game.\")\n",
    "        print(\"\\U0001f600 \\U0001f600 \\U0001f600 \\U0001f600 \\U0001f600\") # happy emoji\n",
    "        ch_left=0\n",
    "    i+=1\n"
   ]
  },
  {
   "cell_type": "code",
   "execution_count": null,
   "metadata": {},
   "outputs": [],
   "source": []
  }
 ],
 "metadata": {
  "kernelspec": {
   "display_name": "Python 3",
   "language": "python",
   "name": "python3"
  },
  "language_info": {
   "codemirror_mode": {
    "name": "ipython",
    "version": 3
   },
   "file_extension": ".py",
   "mimetype": "text/x-python",
   "name": "python",
   "nbconvert_exporter": "python",
   "pygments_lexer": "ipython3",
   "version": "3.7.6"
  }
 },
 "nbformat": 4,
 "nbformat_minor": 4
}
