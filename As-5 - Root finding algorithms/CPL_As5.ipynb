{
 "cells": [
  {
   "cell_type": "code",
   "execution_count": 1,
   "metadata": {},
   "outputs": [],
   "source": [
    "%run CPL_Library.ipynb # Running the entire library in one line because \n",
    "                        # importing does not work with JupyterLab\n"
   ]
  },
  {
   "cell_type": "markdown",
   "metadata": {},
   "source": [
    "# Question 1"
   ]
  },
  {
   "cell_type": "code",
   "execution_count": 2,
   "metadata": {},
   "outputs": [
    {
     "name": "stdout",
     "output_type": "stream",
     "text": [
      "\n",
      "BISECTION METHOD\n",
      "Root does not lie in the given range (1.6,2.4)\n",
      "We change the interval to (1.6,2.8)\n",
      "Root of the given function in the interval (1.6,2.8) is 2.6231403321027753\n",
      "\n",
      "REGULA FALSI METHOD\n",
      "Root does not lie in the given range (1.6,2.4)\n",
      "We change the interval to (1.6,2.8)\n",
      "Root of the given function in the interval (1.6,2.8) is 2.6231403354374474\n"
     ]
    }
   ],
   "source": [
    "def f1(x):\n",
    "    return math.log(x/2)-math.sin(5*x/2)\n",
    "\n",
    "eps=10**-8\n",
    "\n",
    "p=1.6\n",
    "q=2.4\n",
    "a,b=bracketing(p,q,f1)\n",
    "\n",
    "print(\"\\nBISECTION METHOD\")\n",
    "root=bisection(a,b,f1)\n",
    "if p==a and q==b:\n",
    "    print(\"Root of the given function in the interval (\" + str(p) + \",\" + str(q) + \") = \"+str(root))\n",
    "else:\n",
    "    print(\"Root does not lie in the given range (\" + str(p) + \",\" + str(q)+\")\")\n",
    "    print(\"We change the interval to (\" + str(a) + \",\" + str(b)+\")\")\n",
    "    print(\"Root of the given function in the interval (\" + str(a) + \",\" + str(b) + \") is \"+str(root))\n",
    "\n",
    "print(\"\\nREGULA FALSI METHOD\")\n",
    "root=regula_falsi(a,b,f1)\n",
    "if p==a and q==b:\n",
    "    print(\"Root of the given function in the interval (\" + str(p) + \",\" + str(q) + \") = \"+str(root))\n",
    "else:\n",
    "    print(\"Root does not lie in the given range (\" + str(p) + \",\" + str(q)+\")\")\n",
    "    print(\"We change the interval to (\" + str(a) + \",\" + str(b)+\")\")\n",
    "    print(\"Root of the given function in the interval (\" + str(a) + \",\" + str(b) + \") is \"+str(root))\n"
   ]
  },
  {
   "cell_type": "code",
   "execution_count": 3,
   "metadata": {},
   "outputs": [
    {
     "name": "stdout",
     "output_type": "stream",
     "text": [
      "\n",
      "BISECTION METHOD\n",
      "No. of iterations    f(x)                 Root convergence    \n",
      "1.0                  0.2563228            2.5                 \n",
      "2.0                  -0.0537849           2.65                \n",
      "3.0                  0.0989994            2.575               \n",
      "4.0                  0.0216321            2.6125              \n",
      "5.0                  -0.0163703           2.63125             \n",
      "6.0                  0.0025636            2.621875            \n",
      "7.0                  -0.0069209           2.6265625           \n",
      "8.0                  -0.002183            2.6242188           \n",
      "9.0                  0.0001893            2.6230469           \n",
      "10.0                 -0.0009971           2.6236328           \n",
      "11.0                 -0.000404            2.6233398           \n",
      "12.0                 -0.0001074           2.6231934           \n",
      "13.0                 4.09e-05             2.6231201           \n",
      "14.0                 -3.32e-05            2.6231567           \n",
      "15.0                 3.9e-06              2.6231384           \n",
      "16.0                 -1.47e-05            2.6231476           \n",
      "17.0                 -5.4e-06             2.623143            \n",
      "18.0                 -8e-07               2.6231407           \n",
      "19.0                 1.5e-06              2.6231396           \n",
      "20.0                 4e-07                2.6231401           \n",
      "21.0                 -2e-07               2.6231404           \n",
      "22.0                 1e-07                2.6231403           \n",
      "23.0                 -0.0                 2.6231404           \n",
      "24.0                 0.0                  2.6231403           \n",
      "25.0                 -0.0                 2.6231403           \n",
      "26.0                 0.0                  2.6231403           \n",
      "\n",
      "\n",
      "REGULA FALSI METHOD\n",
      "No. of iterations    f(x)                 Root convergence    \n",
      "1.0                  0.5587359            2.3497199           \n",
      "2.0                  -0.0256251           2.6358588           \n",
      "3.0                  -0.0003458           2.6233111           \n",
      "4.0                  -3.1e-06             2.6231419           \n",
      "5.0                  -0.0                 2.6231403           \n",
      "6.0                  -0.0                 2.6231403           \n",
      "7.0                  -0.0                 2.6231403           \n"
     ]
    },
    {
     "data": {
      "image/png": "[encoded data removed]",
      "text/plain": [
       "<Figure size 864x432 with 1 Axes>"
      ]
     },
     "metadata": {
      "needs_background": "light"
     },
     "output_type": "display_data"
    }
   ],
   "source": [
    "\n",
    "plt.figure(figsize=(12,6))\n",
    "\n",
    "p=1.6\n",
    "q=2.4\n",
    "\n",
    "a,b=bracketing(p,q,f1)\n",
    "x_bis, y_bis, z_bis = bisection_for_plotting(a,b,f1)\n",
    "x_rf, y_rf, z_rf = regula_falsi_for_plotting(a,b,f1)\n",
    "\n",
    "print(\"\\nBISECTION METHOD\")\n",
    "print (\"{:<20} {:<20} {:<20}\".format('No. of iterations', 'f(x)', 'Root convergence'))\n",
    "for i in range(len(x_bis)):\n",
    "    print (\"{:<20} {:<20} {:<20}\".format(ROUND(x_bis[i],7), ROUND(y_bis[i],7), ROUND(z_bis[i],7)))\n",
    "\n",
    "print(\"\\n\\nREGULA FALSI METHOD\")\n",
    "print (\"{:<20} {:<20} {:<20}\".format('No. of iterations', 'f(x)', 'Root convergence'))\n",
    "for i in range(len(x_rf)):\n",
    "    print (\"{:<20} {:<20} {:<20}\".format(ROUND(x_rf[i],7), ROUND(y_rf[i],7), ROUND(z_rf[i],7)))\n",
    "\n",
    "plt.plot(x_bis, y_bis, 'r-o', label='Bisection')\n",
    "plt.plot(x_rf, y_rf, 'g-o', label='Regula Falsi')\n",
    "\n",
    "plt.grid(color='b', ls = '-.', lw = 0.5)\n",
    "plt.xlabel('No. of iterations')\n",
    "plt.ylabel('f(x)')\n",
    "plt.title('f(x) vs No. of iterations curve')\n",
    "plt.legend()\n",
    "plt.show()\n"
   ]
  },
  {
   "cell_type": "markdown",
   "metadata": {},
   "source": [
    "# Question 2"
   ]
  },
  {
   "cell_type": "code",
   "execution_count": 4,
   "metadata": {},
   "outputs": [
    {
     "name": "stdout",
     "output_type": "stream",
     "text": [
      "\n",
      "BISECTION METHOD\n",
      "Root does not lie in the given range (1.6,2.4)\n",
      "We change the interval to (-1.649999999999999,2.4)\n",
      "Root of the given function in the interval (-1.649999999999999,2.4) is -0.7390851384960108\n",
      "\n",
      "REGULA FALSI METHOD\n",
      "Root does not lie in the given range (1.6,2.4)\n",
      "We change the interval to (-1.649999999999999,2.4)\n",
      "Root of the given function in the interval (-1.649999999999999,2.4) is -0.7390851330483599\n",
      "\n",
      "NEWTON RAPHSON METHOD\n",
      "Nearest root of the given function for the given value of x = 1 is = -0.7390851332151607\n"
     ]
    }
   ],
   "source": [
    "def f2(x):\n",
    "    return -1*math.cos(x)-x\n",
    "\n",
    "eps=10**-8\n",
    "\n",
    "p=1.6\n",
    "q=2.4\n",
    "a,b=bracketing(p,q,f2)\n",
    "\n",
    "print(\"\\nBISECTION METHOD\")\n",
    "root=bisection(a,b,f2)\n",
    "if p==a and q==b:\n",
    "    print(\"Root of the given function in the interval (\" + str(p) + \",\" + str(q) + \") = \"+str(root))\n",
    "else:\n",
    "    print(\"Root does not lie in the given range (\" + str(p) + \",\" + str(q)+\")\")\n",
    "    print(\"We change the interval to (\" + str(a) + \",\" + str(b)+\")\")\n",
    "    print(\"Root of the given function in the interval (\" + str(a) + \",\" + str(b) + \") is \"+str(root))\n",
    "\n",
    "print(\"\\nREGULA FALSI METHOD\")\n",
    "root=regula_falsi(a,b,f2)\n",
    "if p==a and q==b:\n",
    "    print(\"Root of the given function in the interval (\" + str(p) + \",\" + str(q) + \") = \"+str(root))\n",
    "else:\n",
    "    print(\"Root does not lie in the given range (\" + str(p) + \",\" + str(q)+\")\")\n",
    "    print(\"We change the interval to (\" + str(a) + \",\" + str(b)+\")\")\n",
    "    print(\"Root of the given function in the interval (\" + str(a) + \",\" + str(b) + \") is \"+str(root))\n",
    "\n",
    "print(\"\\nNEWTON RAPHSON METHOD\")\n",
    "x=1\n",
    "root=newton_raphson(x,f2)\n",
    "print(\"Nearest root of the given function for the given value of x = \" + str(x) + \" is = \"+str(root))\n"
   ]
  },
  {
   "cell_type": "code",
   "execution_count": 5,
   "metadata": {},
   "outputs": [
    {
     "data": {
      "image/png": "[encoded data removed]",
      "text/plain": [
       "<Figure size 648x432 with 1 Axes>"
      ]
     },
     "metadata": {
      "needs_background": "light"
     },
     "output_type": "display_data"
    },
    {
     "name": "stdout",
     "output_type": "stream",
     "text": [
      "\n",
      "BISECTION METHOD\n",
      "No. of iterations    f(x)                 Root convergence    \n",
      "1.0                  -0.1660862           -0.6375             \n",
      "2.0                  0.7295658            -1.14375            \n",
      "3.0                  0.2616988            -0.890625           \n",
      "4.0                  0.0420312            -0.7640625          \n",
      "5.0                  -0.0635574           -0.7007812          \n",
      "6.0                  -0.0111353           -0.7324219          \n",
      "7.0                  0.0153563            -0.7482422          \n",
      "8.0                  0.0020874            -0.740332           \n",
      "9.0                  -0.0045297           -0.736377           \n",
      "10.0                 -0.0012226           -0.7383545          \n",
      "11.0                 0.000432             -0.7393433          \n",
      "12.0                 -0.0003954           -0.7388489          \n",
      "13.0                 1.83e-05             -0.7390961          \n",
      "14.0                 -0.0001885           -0.7389725          \n",
      "15.0                 -8.51e-05            -0.7390343          \n",
      "16.0                 -3.34e-05            -0.7390652          \n",
      "17.0                 -7.6e-06             -0.7390806          \n",
      "18.0                 5.4e-06              -0.7390883          \n",
      "19.0                 -1.1e-06             -0.7390845          \n",
      "20.0                 2.1e-06              -0.7390864          \n",
      "21.0                 5e-07                -0.7390854          \n",
      "22.0                 -3e-07               -0.739085           \n",
      "23.0                 1e-07                -0.7390852          \n",
      "24.0                 -1e-07               -0.7390851          \n",
      "25.0                 0.0                  -0.7390851          \n",
      "26.0                 -0.0                 -0.7390851          \n",
      "27.0                 -0.0                 -0.7390851          \n",
      "28.0                 0.0                  -0.7390851          \n",
      "\n",
      "\n",
      "REGULA FALSI METHOD\n",
      "No. of iterations    f(x)                 Root convergence    \n",
      "1.0                  -1.3299444           0.4147119           \n",
      "2.0                  -0.4027049           -0.4829322          \n",
      "3.0                  -0.059259            -0.7033929          \n",
      "4.0                  -0.0072328           -0.7347593          \n",
      "5.0                  -0.0008591           -0.7385718          \n",
      "6.0                  -0.0001017           -0.7390244          \n",
      "7.0                  -1.2e-05             -0.7390779          \n",
      "8.0                  -1.4e-06             -0.7390843          \n",
      "9.0                  -2e-07               -0.739085           \n",
      "10.0                 -0.0                 -0.7390851          \n",
      "11.0                 -0.0                 -0.7390851          \n",
      "12.0                 -0.0                 -0.7390851          \n",
      "\n",
      "\n",
      "NEWTON RAPHSON METHOD\n",
      "No. of iterations    f(x)                 Root convergence    \n",
      "1.0                  0.0189231            -0.7503639          \n",
      "2.0                  4.65e-05             -0.7391129          \n",
      "3.0                  0.0                  -0.7390851          \n",
      "4.0                  0                    -0.7390851          \n"
     ]
    }
   ],
   "source": [
    "\n",
    "plt.figure(figsize=(9,6))\n",
    "\n",
    "p=1.6\n",
    "q=2.4\n",
    "guess=0\n",
    "a,b=bracketing(p,q,f2)\n",
    "\n",
    "x_bis, y_bis, z_bis = bisection_for_plotting(a,b,f2)\n",
    "x_rf, y_rf, z_rf = regula_falsi_for_plotting(a,b,f2)\n",
    "x_nr, y_nr, z_nr = newton_raphson_for_plotting(guess,f2)\n",
    "\n",
    "plt.plot(x_bis, y_bis, 'r-o', label='Bisection')\n",
    "plt.plot(x_rf, y_rf, 'g-o', label='Regula Falsi')\n",
    "plt.plot(x_nr, y_nr, 'c-o', label='Newton Raphson')\n",
    "\n",
    "plt.grid(color='b', ls = '-.', lw = 0.5)\n",
    "plt.xlabel('No. of iterations')\n",
    "plt.ylabel('f(x)')\n",
    "plt.title('f(x) vs No. of iterations curve')\n",
    "plt.legend()\n",
    "plt.show()\n",
    "\n",
    "\n",
    "print(\"\\nBISECTION METHOD\")\n",
    "print (\"{:<20} {:<20} {:<20}\".format('No. of iterations', 'f(x)', 'Root convergence'))\n",
    "for i in range(len(x_bis)):\n",
    "    print (\"{:<20} {:<20} {:<20}\".format(ROUND(x_bis[i],7), ROUND(y_bis[i],7), ROUND(z_bis[i],7)))\n",
    "\n",
    "print(\"\\n\\nREGULA FALSI METHOD\")\n",
    "print (\"{:<20} {:<20} {:<20}\".format('No. of iterations', 'f(x)', 'Root convergence'))\n",
    "for i in range(len(x_rf)):\n",
    "    print (\"{:<20} {:<20} {:<20}\".format(ROUND(x_rf[i],7), ROUND(y_rf[i],7), ROUND(z_rf[i],7)))\n",
    "\n",
    "print(\"\\n\\nNEWTON RAPHSON METHOD\")\n",
    "print (\"{:<20} {:<20} {:<20}\".format('No. of iterations', 'f(x)', 'Root convergence'))\n",
    "for i in range(len(x_nr)):\n",
    "    print (\"{:<20} {:<20} {:<20}\".format(ROUND(x_nr[i],7), ROUND(y_nr[i],7), ROUND(z_nr[i],7)))\n",
    "\n"
   ]
  },
  {
   "cell_type": "markdown",
   "metadata": {},
   "source": [
    "# Question 3"
   ]
  },
  {
   "cell_type": "code",
   "execution_count": 6,
   "metadata": {},
   "outputs": [
    {
     "name": "stdout",
     "output_type": "stream",
     "text": [
      "Solutions of the polynomial equation are:\n",
      "1.0\n",
      "2.0\n",
      "-1.0\n",
      "-2.0\n"
     ]
    }
   ],
   "source": [
    "coeff=[1,0,-5,0,4]              # not working for guess = 0 (given in this assignment)\n",
    "\n",
    "n=len(coeff)\n",
    "guess = 1.2\n",
    "\n",
    "print(\"Solutions of the polynomial equation are:\")\n",
    "root = polynomial_solution(coeff, guess)\n",
    "for i in range (len(root)):\n",
    "    print(root[i])\n"
   ]
  },
  {
   "cell_type": "code",
   "execution_count": 7,
   "metadata": {},
   "outputs": [],
   "source": [
    "\n",
    "#coeff=[1,0,1]                  # complex roots\n",
    "#coeff=[1,-3,1,3,0]             # two real and two complex roots\n",
    "#coeff=[1,0,-5,0,4]             # not working for guess = 0 (given in this assignment)\n",
    "#coeff=[1, -3, -7, 27, -18]     # not working for guess = 0\n",
    "#coeff=[1, -5, 5, 5, -6]\n",
    "#coeff=[1, -6, 11, -6,0]\n"
   ]
  },
  {
   "cell_type": "code",
   "execution_count": null,
   "metadata": {},
   "outputs": [],
   "source": []
  }
 ],
 "metadata": {
  "kernelspec": {
   "display_name": "Python 3",
   "language": "python",
   "name": "python3"
  },
  "language_info": {
   "codemirror_mode": {
    "name": "ipython",
    "version": 3
   },
   "file_extension": ".py",
   "mimetype": "text/x-python",
   "name": "python",
   "nbconvert_exporter": "python",
   "pygments_lexer": "ipython3",
   "version": "3.7.6"
  }
 },
 "nbformat": 4,
 "nbformat_minor": 4
}
