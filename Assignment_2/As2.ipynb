{
 "cells": [
  {
   "cell_type": "markdown",
   "metadata": {},
   "source": [
    "# Assignment 2\n",
    "\n",
    "### Chandan Kumar Sahu\n",
    "### Roll No. 1911055"
   ]
  },
  {
   "cell_type": "code",
   "execution_count": 1,
   "metadata": {},
   "outputs": [],
   "source": [
    "import math\n",
    "import matplotlib.pyplot as plt\n",
    "from Chandan_Library_As2 import *\n"
   ]
  },
  {
   "cell_type": "markdown",
   "metadata": {},
   "source": [
    "# Question 1\n",
    "### Solve the linear equations by Cholesky decomposition (check for symmetric matrix) and Gauss-Seidel to a precision of $10^{−6}$."
   ]
  },
  {
   "cell_type": "code",
   "execution_count": 2,
   "metadata": {},
   "outputs": [
    {
     "name": "stdout",
     "output_type": "stream",
     "text": [
      "The matrix is: \n",
      "4.0    -1.0   0.0    -1.0   0.0    0.0    2.0    \n",
      "-1.0   4.0    -1.0   0.0    -1.0   0.0    1.0    \n",
      "0.0    -1.0   4.0    0.0    0.0    -1.0   2.0    \n",
      "-1.0   0.0    0.0    4.0    -1.0   0.0    2.0    \n",
      "0.0    -1.0   0.0    -1.0   4.0    -1.0   1.0    \n",
      "0.0    0.0    -1.0   0.0    -1.0   4.0    2.0    \n",
      "\n",
      "The transformed Cholesky matrix is \n",
      "2.0    -0.5   0      -0.5   0      0      2.0    \n",
      "-0.5   1.94   -0.52  -0.13  -0.52  0      1.0    \n",
      "0      -0.52  1.93   -0.03  -0.14  -0.52  2.0    \n",
      "-0.5   -0.13  -0.03  1.93   -0.55  -0.01  2.0    \n",
      "0      -0.52  -0.14  -0.55  1.85   -0.58  1.0    \n",
      "0      0      -0.52  -0.01  -0.58  1.84   2.0    \n",
      "\n",
      "Solutions using Cholesky decomposition are : \n",
      "x1 = 1.0\n",
      "x2 = 1.0\n",
      "x3 = 1.0\n",
      "x4 = 1.0\n",
      "x5 = 1.0\n",
      "x6 = 1.0\n"
     ]
    }
   ],
   "source": [
    "# Solution of a set of linear equations using Cholesky decomposition\n",
    "\n",
    "print(\"The matrix is: \")\n",
    "matrix, ro, co = read_matrix('As2matrixA.txt')\n",
    "print_matrix(matrix)\n",
    "\n",
    "vector = [matrix[i][-1] for i in range(ro)]\n",
    "\n",
    "# partial pivoting to avoid division by zero at pivot place\n",
    "matrix, vector = partial_pivot_LU(matrix, vector, ro)\n",
    "matrix=LU_cho(matrix,ro)\n",
    "print(\"The transformed Cholesky matrix is \")\n",
    "round_matrix(matrix)\n",
    "print_matrix(matrix)\n",
    "\n",
    "x=for_back_subs_cho(matrix, ro, vector)\n",
    "\n",
    "print(\"Solutions using Cholesky decomposition are : \")\n",
    "for count in range(ro):\n",
    "    print('x'+str(count+1)+' = %.1f'%x[count])\n"
   ]
  },
  {
   "cell_type": "code",
   "execution_count": 3,
   "metadata": {},
   "outputs": [
    {
     "name": "stdout",
     "output_type": "stream",
     "text": [
      "The matrix is: \n",
      "4.0    -1.0   0.0    -1.0   0.0    0.0    2.0    \n",
      "-1.0   4.0    -1.0   0.0    -1.0   0.0    1.0    \n",
      "0.0    -1.0   4.0    0.0    0.0    -1.0   2.0    \n",
      "-1.0   0.0    0.0    4.0    -1.0   0.0    2.0    \n",
      "0.0    -1.0   0.0    -1.0   4.0    -1.0   1.0    \n",
      "0.0    0.0    -1.0   0.0    -1.0   4.0    2.0    \n",
      "\n",
      "Solution using Gauss-Seidel method are :\n",
      "x1 = 1.000000\n",
      "x2 = 1.000000\n",
      "x3 = 1.000000\n",
      "x4 = 1.000000\n",
      "x5 = 1.000000\n",
      "x6 = 1.000000\n"
     ]
    }
   ],
   "source": [
    "# Solution of a set of linear equations using Gauss Seidel method\n",
    "\n",
    "print(\"The matrix is: \")\n",
    "matrix, ro, co = read_matrix('As2matrixA.txt')\n",
    "print_matrix(matrix)\n",
    "\n",
    "vector_b = [matrix[i][-1] for i in range(ro)]\n",
    "\n",
    "# Solve the system of linear equations using jacobi function\n",
    "solution = gauss_seidel(matrix, vector_b, tol=1e-7)\n",
    "\n",
    "# Print the solution\n",
    "print(\"Solution using Gauss-Seidel method are :\")\n",
    "for count in range(len(vector_b)):\n",
    "    print('x'+str(count+1)+' = %.6f'%solution[count])\n",
    "\n"
   ]
  },
  {
   "cell_type": "markdown",
   "metadata": {},
   "source": [
    "# Question 2\n",
    "### Solve the linear equations by Gauss-Jordon and LU factorization."
   ]
  },
  {
   "cell_type": "code",
   "execution_count": 4,
   "metadata": {},
   "outputs": [
    {
     "name": "stdout",
     "output_type": "stream",
     "text": [
      "The matrix is: \n",
      "0.0    4.0    2.0    0.0    1.0    20.0   \n",
      "4.0    0.0    4.0    10.0   1.0    15.0   \n",
      "2.0    5.0    1.0    3.0    13.0   92.0   \n",
      "11.0   3.0    0.0    1.0    2.0    51.0   \n",
      "3.0    2.0    7.0    1.0    0.0    15.0   \n",
      "\n",
      "Solutions using Gauss-Jordan are : \n",
      "x1 = 2.6746\n",
      "x2 = 3.7119\n",
      "x3 = -0.0533\n",
      "x4 = -0.0744\n",
      "x5 = 5.2591\n"
     ]
    }
   ],
   "source": [
    "# Solution of a set of linear equations using Gauss-Jordan\n",
    "\n",
    "print(\"The matrix is: \")\n",
    "matrix, ro, co = read_matrix('As2matrixB.txt')\n",
    "print_matrix(matrix)\n",
    "\n",
    "GJ, d = gauss_jordan(matrix, ro, co)\n",
    "\n",
    "solution = [GJ[i][-1] for i in range(ro)]\n",
    "\n",
    "if GJ!=None:\n",
    "    print(\"Solutions using Gauss-Jordan are : \")\n",
    "    for count in range(ro):\n",
    "        print('x'+str(count+1)+' = %.4f'%solution[count])\n",
    "else:\n",
    "    print(\"No unique solution\")\n"
   ]
  },
  {
   "cell_type": "code",
   "execution_count": 5,
   "metadata": {},
   "outputs": [
    {
     "name": "stdout",
     "output_type": "stream",
     "text": [
      "The matrix is: \n",
      "0.0    4.0    2.0    0.0    1.0    20.0   \n",
      "4.0    0.0    4.0    10.0   1.0    15.0   \n",
      "2.0    5.0    1.0    3.0    13.0   92.0   \n",
      "11.0   3.0    0.0    1.0    2.0    51.0   \n",
      "3.0    2.0    7.0    1.0    0.0    15.0   \n",
      "\n",
      "The transformed LU matrix is \n",
      "11.0   3.0    0.0    1.0    2.0    \n",
      "0.0    4.0    2.0    0.0    1.0    \n",
      "0.181818181818181821.1136363636363638-1.22727272727272752.818181818181818311.522727272727273\n",
      "0.36363636363636365-0.2727272727272727-3.703703703703702420.0740740740740743.22222222222221\n",
      "0.27272727272727270.29545454545454547-5.2222222222222210.769372693726937426.079335793357927\n",
      "\n",
      "Solutions are : \n",
      "x[0] = 2.6746\n",
      "x[1] = 3.7119\n",
      "x[2] = -0.0533\n",
      "x[3] = -0.0744\n",
      "x[4] = 5.2591\n"
     ]
    }
   ],
   "source": [
    "# LU decomposition using Doolittle's condition L[i][i]=1\n",
    "\n",
    "print(\"The matrix is: \")\n",
    "matrix, ro, co = read_matrix('As2matrixB.txt')\n",
    "print_matrix(matrix)\n",
    "\n",
    "matrix, vector = deaugment_matrix(matrix)\n",
    "# print(\"The deaugmented matrix is: \")\n",
    "# print_matrix(matrix)\n",
    "\n",
    "# partial pivoting to avoid division by zero at pivot place\n",
    "matrix, vector = partial_pivot_LU(matrix, vector, ro)\n",
    "matrix = LU_doolittle(matrix,ro)\n",
    "print(\"The transformed LU matrix is \")\n",
    "print_matrix(matrix)\n",
    "\n",
    "x = [0 for i in range(ro)]\n",
    "\n",
    "x = for_back_subs_doolittle(matrix,ro,vector)\n",
    "\n",
    "print(\"Solutions are : \")\n",
    "for count in range(ro):\n",
    "    print(\"x[\"+str(count)+\"] = %.4f\"%x[count])\n"
   ]
  },
  {
   "cell_type": "code",
   "execution_count": 6,
   "metadata": {},
   "outputs": [
    {
     "name": "stdout",
     "output_type": "stream",
     "text": [
      "The matrix is: \n",
      "0.0    4.0    2.0    0.0    1.0    20.0   \n",
      "4.0    0.0    4.0    10.0   1.0    15.0   \n",
      "2.0    5.0    1.0    3.0    13.0   92.0   \n",
      "11.0   3.0    0.0    1.0    2.0    51.0   \n",
      "3.0    2.0    7.0    1.0    0.0    15.0   \n",
      "\n",
      "The transformed LU matrix is \n",
      "11.0   0.27272727272727270.0    0.090909090909090910.18181818181818182\n",
      "0.0    4.0    0.5    0.0    0.25   \n",
      "2.0    4.454545454545455-1.2272727272727275-2.296296296296296-9.388888888888888\n",
      "4.0    -1.09090909090909084.54545454545454520.074074074074072.153136531365314\n",
      "3.0    1.18181818181818196.40909090909090915.44444444444444126.079335793357927\n",
      "\n",
      "Solutions are : \n",
      "x[0] = 2.6746\n",
      "x[1] = 3.7119\n",
      "x[2] = -0.0533\n",
      "x[3] = -0.0744\n",
      "x[4] = 5.2591\n"
     ]
    }
   ],
   "source": [
    "# LU decomposition using Crout's condition U[i][i]=1\n",
    "\n",
    "print(\"The matrix is: \")\n",
    "matrix, ro, co = read_matrix('As2matrixB.txt')\n",
    "print_matrix(matrix)\n",
    "\n",
    "matrix, vector = deaugment_matrix(matrix)\n",
    "# print(\"The deaugmented matrix is: \")\n",
    "# print_matrix(matrix)\n",
    "\n",
    "# partial pivoting to avoid division by zero at pivot place\n",
    "matrix, vector = partial_pivot_LU(matrix, vector, ro)\n",
    "matrix=LU_crout(matrix,ro)\n",
    "print(\"The transformed LU matrix is \")\n",
    "print_matrix(matrix)\n",
    "\n",
    "x = [0 for i in range(ro)]\n",
    "\n",
    "x=for_back_subs_crout(matrix,ro,vector)\n",
    "\n",
    "print(\"Solutions are : \")\n",
    "for count in range(ro):\n",
    "    print(\"x[\"+str(count)+\"] = %.4f\"%x[count])\n"
   ]
  },
  {
   "cell_type": "markdown",
   "metadata": {},
   "source": [
    "# Question 3\n",
    "### Solve the following almost sparse system $\\mathbf{A x = b}$ using and Conjugate Gradient to find the inverse of the matrix $\\mathbf{A}$ to a precision of $10^{−4}$. Check the correctness of inverse.\n"
   ]
  },
  {
   "cell_type": "code",
   "execution_count": 7,
   "metadata": {},
   "outputs": [
    {
     "name": "stdout",
     "output_type": "stream",
     "text": [
      "The matrix is: \n",
      "2.0    -3.0   0.0    0.0    0.0    0.0    -1.6666666666666667\n",
      "-1.0   4.0    -1.0   0.0    -1.0   0.0    0.6666666666666666\n",
      "0.0    -1.0   4.0    0.0    0.0    -1.0   3.0    \n",
      "0.0    0.0    0.0    2.0    -3.0   0.0    -1.3333333333333333\n",
      "0.0    -1.0   0.0    -1.0   4.0    -1.0   -0.3333333333333333\n",
      "0.0    0.0    -1.0   0.0    -1.0   4.0    1.6666666666666667\n",
      "\n",
      "Solutions are : \n",
      "x[0] = -0.3333\n",
      "x[1] = 0.3333\n",
      "x[2] = 1.0000\n",
      "x[3] = -0.6667\n",
      "x[4] = -0.0000\n",
      "x[5] = 0.6667\n",
      "\n",
      "The orginally given vector was: \n",
      "-1.666667     0.666667     3.000000     -1.333333     -0.333333     1.666667     \n",
      "\n",
      "Our solution gives the output:\n",
      "-1.666666     0.666663     2.999996     -1.333335     -0.333332     1.666671     "
     ]
    }
   ],
   "source": [
    "# LU decomposition using Crout's condition U[i][i]=1\n",
    "\n",
    "print(\"The matrix is: \")\n",
    "matrix, ro, co = read_matrix('As2matrixC.txt')\n",
    "print_matrix(matrix)\n",
    "\n",
    "matrix, vector = deaugment_matrix(matrix)\n",
    "\n",
    "solution = Conjugate_Gradient(matrix, vector, tol=1e-8)[0]\n",
    "\n",
    "print(\"Solutions are : \")\n",
    "for count in range(len(solution)):\n",
    "    print(\"x[\"+str(count)+\"] = %.4f\"%solution[count])\n",
    "\n",
    "# Verification of the solution\n",
    "print(\"\\nThe orginally given vector was: \")\n",
    "for count in range(len(vector)):\n",
    "    print(\"%.6f    \"%vector[count], end=\" \")\n",
    "print(\"\\n\\nOur solution gives the output:\")\n",
    "Verif = multiply_matrix(matrix, solution)\n",
    "for count in range(len(Verif)):\n",
    "    print(\"%.6f    \"%Verif[count], end=\" \")\n"
   ]
  },
  {
   "cell_type": "markdown",
   "metadata": {},
   "source": [
    "# Question 4\n",
    "### Find the inverse of the following matrix using Conjugate Gradient by generating the matrix on fly i.e. without actually storing it. It is a two-dimensional 50 × 50 system with periodic boundary condition Plot the residue versus iteration steps. Use m = 0.2 and convergence criteria to be = $10^{−6}$. \n",
    "### $$ \\mathbf{A}=\\frac{1}{2}\\left(\\delta_{x+\\hat{\\mu}, y}+\\delta_{x-\\hat{\\mu}, y}-2 \\delta_{x, y}\\right)+m^2 \\delta_{x, y} $$\n"
   ]
  },
  {
   "cell_type": "code",
   "execution_count": 9,
   "metadata": {},
   "outputs": [
    {
     "name": "stderr",
     "output_type": "stream",
     "text": [
      "  0%|          | 0/225 [00:00<?, ?it/s]"
     ]
    },
    {
     "name": "stderr",
     "output_type": "stream",
     "text": [
      "100%|██████████| 225/225 [14:21<00:00,  3.83s/it]\n"
     ]
    },
    {
     "data": {
      "image/png": "[encoded data removed]",
      "text/plain": [
       "<Figure size 640x480 with 1 Axes>"
      ]
     },
     "metadata": {},
     "output_type": "display_data"
    }
   ],
   "source": [
    "def matrix_function(x, y, n):\n",
    "    i1 = x%n\n",
    "    i2 = y%n\n",
    "    j1 = x//n\n",
    "    j2 = y//n\n",
    "    if x == y:\n",
    "        return -0.96\n",
    "    if ((i1+1)%n,j1) == (i2,j2):\n",
    "        return 0.5\n",
    "    if (i1,(j1+1)%n) == (i2,j2):\n",
    "        return 0.5\n",
    "    if ((i1-1)%n,j1) == (i2,j2):\n",
    "        return 0.5\n",
    "    if (i1,(j1-1)%n) == (i2,j2):\n",
    "        return 0.5\n",
    "    return 0\n",
    "\n",
    "m=0.2\n",
    "n = 15\n",
    "tol = 1e-8\n",
    "\n",
    "I = get_identity(n**2)\n",
    "for j in tqdm(range(n**2)):\n",
    "    A1 = [I[i][j] for i in range(n**2)]\n",
    "    A1, iter, res = Conjugate_Gradient(matrix_function, A1)     # sending the function as argument instead of matrix\n",
    "    for count in range(n**2):\n",
    "        I[count][j] = A1[count]\n",
    "\n",
    "# Residue plot\n",
    "plt.plot(iter, res)\n",
    "plt.xlabel('Iterations')\n",
    "plt.ylabel('Residue')\n",
    "plt.legend()\n",
    "plt.show()\n"
   ]
  },
  {
   "cell_type": "code",
   "execution_count": null,
   "metadata": {},
   "outputs": [],
   "source": []
  }
 ],
 "metadata": {
  "kernelspec": {
   "display_name": "Python 3",
   "language": "python",
   "name": "python3"
  },
  "language_info": {
   "codemirror_mode": {
    "name": "ipython",
    "version": 3
   },
   "file_extension": ".py",
   "mimetype": "text/x-python",
   "name": "python",
   "nbconvert_exporter": "python",
   "pygments_lexer": "ipython3",
   "version": "3.10.12"
  }
 },
 "nbformat": 4,
 "nbformat_minor": 2
}
