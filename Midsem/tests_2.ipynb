{
 "cells": [
  {
   "cell_type": "code",
   "execution_count": 1,
   "metadata": {},
   "outputs": [],
   "source": [
    "from Chandan_Library_midsem import *\n"
   ]
  },
  {
   "cell_type": "markdown",
   "metadata": {},
   "source": [
    "# Matrices and Linear Algebra"
   ]
  },
  {
   "cell_type": "code",
   "execution_count": 2,
   "metadata": {},
   "outputs": [
    {
     "name": "stdout",
     "output_type": "stream",
     "text": [
      "0      1      2      3      \n",
      "1      2      3      4      \n",
      "2      3      4      5      \n",
      "\n",
      "0      -1     -2     -3     \n",
      "1      0      -1     -2     \n",
      "2      1      0      -1     \n",
      "\n",
      "0      2      4      6      \n",
      "2      4      6      8      \n",
      "4      6      8      10     \n",
      "\n",
      "0      0      0      0      \n",
      "2      2      2      2      \n",
      "4      4      4      4      \n",
      "\n",
      "0      3      6      9      \n",
      "1      4      7      10     \n",
      "2      5      8      11     \n",
      "\n",
      "0      1      2      \n",
      "1      2      3      \n",
      "2      3      4      \n",
      "3      4      5      \n",
      "\n",
      "1.0    10.0   9.0    \n",
      "-1.0   5.0    4.0    \n",
      "14.0   4.0    3.0    \n",
      "\n"
     ]
    }
   ],
   "source": [
    "A = [[i+j for j in range(4)] for i in range(3)]\n",
    "print_matrix(A)\n",
    "\n",
    "B = [[i-j for j in range(4)] for i in range(3)]\n",
    "print_matrix(B)\n",
    "\n",
    "C = multiply_scalar(A, 2)\n",
    "print_matrix(C)\n",
    "\n",
    "D = add_matrix(A, B)\n",
    "print_matrix(D)\n",
    "\n",
    "E = subtract_matrix(C, B)\n",
    "print_matrix(E)\n",
    "\n",
    "F = transpose_matrix(A)\n",
    "print_matrix(F)\n",
    "\n",
    "A=np.genfromtxt('As2matrixA.csv',delimiter=',')\n",
    "B=np.genfromtxt('As2matrixB.csv',delimiter=',')\n",
    "row1=len(A)\n",
    "col1=len(A[0])\n",
    "row2=len(B)\n",
    "col2=len(B[0])\n",
    "AB,R1,C1=multiply_matrix(A, row1, col1, B, row2, col2)\n",
    "print_matrix(AB)\n",
    "np.savetxt(\"matrixAB.csv\", AB, delimiter = \",\")\n",
    "\n"
   ]
  },
  {
   "cell_type": "code",
   "execution_count": 3,
   "metadata": {},
   "outputs": [
    {
     "name": "stdout",
     "output_type": "stream",
     "text": [
      "The augmented matrix is: \n",
      "0.0    2.0    -3.0   -1.0   \n",
      "1.0    0.0    1.0    0.0    \n",
      "1.0    -1.0   0.0    3.0    \n",
      "\n",
      "Solutions are : \n",
      "1.0\n",
      "-2.0\n",
      "-1.0\n"
     ]
    }
   ],
   "source": [
    "A=np.genfromtxt('As2matrixA.csv',delimiter=',')\n",
    "\n",
    "\n",
    "print(\"The augmented matrix is: \")\n",
    "B,ro,co=read_matrix('As3matrixB.txt')\n",
    "print_matrix(B)\n",
    "\n",
    "GJ, d=gauss_jordan(B,ro,co)\n",
    "if GJ!=None:\n",
    "    print(\"Solutions are : \")\n",
    "    for i in range(ro):\n",
    "        print(GJ[i][ro])\n",
    "else:\n",
    "    print(\"No unique solution\")\n"
   ]
  },
  {
   "cell_type": "code",
   "execution_count": 4,
   "metadata": {},
   "outputs": [
    {
     "name": "stdout",
     "output_type": "stream",
     "text": [
      "The augmented matrix is: \n",
      "0.0    2.0    1.0    1.0    0.0    0.0    \n",
      "4.0    0.0    1.0    0.0    1.0    0.0    \n",
      "-1.0   2.0    0.0    0.0    0.0    1.0    \n",
      "\n",
      "The inverse matrix is: \n",
      "-0.33  0.33   0.33   \n",
      "-0.17  0.17   0.67   \n",
      "1.33   -0.33  -1.33  \n",
      "\n",
      "Verification: after multiplying the matrix and its inverse, we get : \n",
      "1.0    0      0      \n",
      "0      1.0    0.0    \n",
      "0      0      1.0    \n",
      "\n"
     ]
    }
   ],
   "source": [
    "print(\"The augmented matrix is: \")\n",
    "C,ro,co=read_matrix('As3matrixC.txt')\n",
    "print_matrix(C)\n",
    "GJ, d=gauss_jordan(C,ro,co)\n",
    "C2,ro,co=read_matrix('As3matrixC.txt')\n",
    "if GJ!=None:\n",
    "    # Finding the inverse and printing in rounded form\n",
    "    # Also finding the matrix multiplication for verification and then rounding at the end\n",
    "    M=get_inv_GJ(C,ro)\n",
    "    MM,k,l=multiply_matrix(M,ro,ro,C2,ro,ro) # using only n x n matrix i.e. unaugmented matrix \n",
    "    M=round_matrix(M)\n",
    "    print(\"The inverse matrix is: \")\n",
    "    print_matrix(M)\n",
    "    print(\"Verification: after multiplying the matrix and its inverse, we get : \")\n",
    "    MM=round_matrix(MM)\n",
    "    print_matrix(MM)\n",
    "else:\n",
    "    print(\"No unique solution\")\n"
   ]
  },
  {
   "cell_type": "code",
   "execution_count": 5,
   "metadata": {},
   "outputs": [
    {
     "name": "stdout",
     "output_type": "stream",
     "text": [
      "The matrix is: \n",
      "1.0    0.0    1.0    2.0    \n",
      "0.0    1.0    -2.0   0.0    \n",
      "1.0    2.0    -1.0   0.0    \n",
      "2.0    1.0    3.0    -2.0   \n",
      "\n",
      "The transformed LU matrix is \n",
      "1.0    0.0    1.0    2.0    \n",
      "0.0    1.0    -2.0   0.0    \n",
      "1.0    2.0    2.0    -2.0   \n",
      "2.0    1.0    1.5    -3.0   \n",
      "\n",
      "Solutions are : \n",
      "x[0] = 1.0\n",
      "x[1] = -1.0\n",
      "x[2] = 1.0\n",
      "x[3] = 2.0\n"
     ]
    }
   ],
   "source": [
    "# LU decomposition using Doolittle's condition L[i][i]=1\n",
    "\n",
    "print(\"The matrix is: \")\n",
    "A1,ro,co = read_matrix('As4matrixA.txt')\n",
    "print_matrix(A1)\n",
    "\n",
    "vector=[6,-3,-2,0]\n",
    "\n",
    "# partial pivoting to avoid division by zero at pivot place\n",
    "A1, vector = partial_pivot_LU(A1, vector, ro)\n",
    "A1 = LU_doolittle(A1,ro)\n",
    "print(\"The transformed LU matrix is \")\n",
    "print_matrix(A1)\n",
    "\n",
    "x = [0 for i in range(ro)]\n",
    "\n",
    "x = for_back_subs_doolittle(A1,ro,vector)\n",
    "\n",
    "print(\"Solutions are : \")\n",
    "for i in range(ro):\n",
    "    print(\"x[\"+str(i)+\"] = \"+str(x[i]))\n"
   ]
  },
  {
   "cell_type": "code",
   "execution_count": 6,
   "metadata": {},
   "outputs": [
    {
     "name": "stdout",
     "output_type": "stream",
     "text": [
      "The matrix is: \n",
      "1.0    0.0    1.0    2.0    \n",
      "0.0    1.0    -2.0   0.0    \n",
      "1.0    2.0    -1.0   0.0    \n",
      "2.0    1.0    3.0    -2.0   \n",
      "\n",
      "The transformed LU matrix is \n",
      "1.0    0.0    1.0    2.0    \n",
      "0.0    1.0    -2.0   0.0    \n",
      "1.0    2.0    2.0    -1.0   \n",
      "2.0    1.0    3.0    -3.0   \n",
      "\n",
      "Solutions are : \n",
      "x[0] = 1.0\n",
      "x[1] = -1.0\n",
      "x[2] = 1.0\n",
      "x[3] = 2.0\n"
     ]
    }
   ],
   "source": [
    "# LU decomposition using Crout's condition U[i][i]=1\n",
    "\n",
    "print(\"The matrix is: \")\n",
    "A2,ro,co=read_matrix('As4matrixA.txt')\n",
    "print_matrix(A2)\n",
    "\n",
    "vector=[6,-3,-2,0]\n",
    "\n",
    "# partial pivoting to avoid division by zero at pivot place\n",
    "A1, vector = partial_pivot_LU(A1, vector, ro)\n",
    "A2=LU_crout(A2,ro)\n",
    "print(\"The transformed LU matrix is \")\n",
    "print_matrix(A2)\n",
    "\n",
    "x = [0 for i in range(ro)]\n",
    "\n",
    "x=for_back_subs_crout(A2,ro,vector)\n",
    "\n",
    "print(\"Solutions are : \")\n",
    "for i in range(ro):\n",
    "    print(\"x[\"+str(i)+\"] = \"+str(x[i]))\n"
   ]
  },
  {
   "cell_type": "code",
   "execution_count": 7,
   "metadata": {},
   "outputs": [
    {
     "name": "stdout",
     "output_type": "stream",
     "text": [
      "The initial matrix is : \n",
      "0.0    2.0    8.0    6.0    \n",
      "0.0    0.0    1.0    2.0    \n",
      "0.0    1.0    0.0    1.0    \n",
      "3.0    7.0    1.0    0.0    \n",
      "\n",
      "The inverse is:\n",
      "-0.25000000000000006    1.6666666666666672    -1.8333333333333333    0.3333333333333333    \n",
      "0.08333333333333337    -0.666666666666667    0.8333333333333333    0.0    \n",
      "0.16666666666666666    -0.33333333333333326    -0.3333333333333333    0.0    \n",
      "-0.08333333333333333    0.6666666666666666    0.16666666666666666    0.0    \n",
      "\n",
      "Verification : \n",
      "1.0    0      0      0      \n",
      "0      1.0    0      0      \n",
      "0.0    -0.0   1.0    0      \n",
      "0.0    -0.0   -0.0   1.0    \n",
      "\n"
     ]
    }
   ],
   "source": [
    "print(\"The initial matrix is : \")\n",
    "B,ro,co=read_matrix('As4matrixB.txt')\n",
    "print_matrix(B)\n",
    "\n",
    "C=copy.deepcopy(B) # deepcopy for unchanged matrix required for inverse \n",
    "\n",
    "identity=get_identity(ro)\n",
    "\n",
    "# Then partial pivoting is done for both matrix and vector.\n",
    "# Then the decomposition algorithm is applied.\n",
    "B, identity = partial_pivot_LU(B, identity, ro)\n",
    "B=LU_doolittle(B,ro)\n",
    "\n",
    "#print(\"The transformed LU matrix is \")\n",
    "#print_matrix(B,ro,ro)\n",
    "\n",
    "#Checking if inverse exists\n",
    "det=determinant_LU(B,ro)\n",
    "if det == 0:\n",
    "    print(\"Determinant = zero.\\nInverse doesn't exist.\")\n",
    "else:\n",
    "    print(\"The inverse is:\")\n",
    "\n",
    "    # Calculating and printing inverse\n",
    "    inverse= inverse_by_lu_decomposition(C, ro)\n",
    "    print_matrix_with_gap(inverse)\n",
    "    \n",
    "    # Verification: gives indentity matrix on multiplication with original matrix\n",
    "    print(\"Verification : \")\n",
    "    mm,r,c=multiply_matrix(C,ro,ro,inverse,ro,ro)\n",
    "    print_matrix(round_matrix(mm))\n"
   ]
  },
  {
   "cell_type": "code",
   "execution_count": 8,
   "metadata": {},
   "outputs": [
    {
     "name": "stdout",
     "output_type": "stream",
     "text": [
      "The matrix is: \n",
      "10.0   1.0    0.0    2.5    2.2    \n",
      "1.0    12.0   -0.3   1.1    2.85   \n",
      "0.0    -0.3   9.5    0.0    2.79   \n",
      "2.5    1.1    0.0    6.0    2.87   \n",
      "\n",
      "The transformed Cholesky matrix is \n",
      "3.16   0.32   0      0.79   2.2    \n",
      "0.32   3.45   -0.09  0.25   2.85   \n",
      "0      -0.09  3.08   0.01   2.79   \n",
      "0.79   0.25   0.01   2.31   2.87   \n",
      "\n",
      "Solutions are : \n",
      "0.100749\n",
      "0.199761\n",
      "0.300040\n",
      "0.397358\n"
     ]
    }
   ],
   "source": [
    "# Function for Cholesky decomposition\n",
    "\n",
    "print(\"The matrix is: \")\n",
    "C,ro,co=read_matrix('As4matrixC.txt')\n",
    "print_matrix(C)\n",
    "\n",
    "vector=[C[i][-1] for i in range(ro)]\n",
    "\n",
    "# partial pivoting to avoid division by zero at pivot place\n",
    "C, vector = partial_pivot_LU(C, vector, ro)\n",
    "C=LU_cho(C,ro)\n",
    "print(\"The transformed Cholesky matrix is \")\n",
    "round_matrix(C)\n",
    "print_matrix(C)\n",
    "\n",
    "x=for_back_subs_cho(C,ro,vector)\n",
    "\n",
    "print(\"Solutions are : \")\n",
    "for i in range(ro):\n",
    "    print('%.6f'%x[i])\n"
   ]
  },
  {
   "cell_type": "code",
   "execution_count": 9,
   "metadata": {},
   "outputs": [
    {
     "name": "stdout",
     "output_type": "stream",
     "text": [
      "The initial matrix is : \n",
      "4      -1     0      \n",
      "-1     4      -1     \n",
      "0      -1     3      \n",
      "\n",
      "Solution using Jacobi Method:\n",
      "5.243888\n",
      "5.975576\n",
      "8.658517\n"
     ]
    }
   ],
   "source": [
    "print(\"The initial matrix is : \")\n",
    "# Example matrix and vector\n",
    "matrix = [[4, -1, 0],\n",
    "        [-1, 4, -1],\n",
    "        [0, -1, 3]]\n",
    "print_matrix(matrix)\n",
    "\n",
    "vector_b = [15, 10, 20]\n",
    "\n",
    "# Solve the system of linear equations using jacobi function\n",
    "solution = jacobi(matrix, vector_b)\n",
    "\n",
    "# Print the solution\n",
    "print(\"Solution using Jacobi Method:\")\n",
    "for i in range(len(vector_b)):\n",
    "    print('%.6f'%solution[i])\n"
   ]
  },
  {
   "cell_type": "code",
   "execution_count": 10,
   "metadata": {},
   "outputs": [
    {
     "name": "stdout",
     "output_type": "stream",
     "text": [
      "The initial matrix is : \n",
      "4      -1     0      \n",
      "-1     4      -1     \n",
      "0      -1     3      \n",
      "\n",
      "Solution using Gauss-Seidel Method:\n",
      "5.243902\n",
      "5.975610\n",
      "8.658537\n"
     ]
    }
   ],
   "source": [
    "print(\"The initial matrix is : \")\n",
    "# Example matrix and vector\n",
    "matrix = [[4, -1, 0],\n",
    "        [-1, 4, -1],\n",
    "        [0, -1, 3]]\n",
    "print_matrix(matrix)\n",
    "\n",
    "vector_b = [15, 10, 20]\n",
    "\n",
    "# Solve the system of linear equations using jacobi function\n",
    "solution = gauss_seidel(matrix, vector_b)\n",
    "\n",
    "# Print the solution\n",
    "print(\"Solution using Gauss-Seidel Method:\")\n",
    "for i in range(len(vector_b)):\n",
    "    print('%.6f'%solution[i])\n",
    "\n"
   ]
  },
  {
   "cell_type": "code",
   "execution_count": null,
   "metadata": {},
   "outputs": [],
   "source": []
  }
 ],
 "metadata": {
  "kernelspec": {
   "display_name": "Python 3",
   "language": "python",
   "name": "python3"
  },
  "language_info": {
   "codemirror_mode": {
    "name": "ipython",
    "version": 3
   },
   "file_extension": ".py",
   "mimetype": "text/x-python",
   "name": "python",
   "nbconvert_exporter": "python",
   "pygments_lexer": "ipython3",
   "version": "3.10.12"
  }
 },
 "nbformat": 4,
 "nbformat_minor": 2
}
