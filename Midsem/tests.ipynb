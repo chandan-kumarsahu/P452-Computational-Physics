{
 "cells": [
  {
   "cell_type": "code",
   "execution_count": 1,
   "metadata": {},
   "outputs": [],
   "source": [
    "from Chandan_Library_midsem import *\n"
   ]
  },
  {
   "cell_type": "markdown",
   "metadata": {},
   "source": [
    "# Basic Functions"
   ]
  },
  {
   "cell_type": "code",
   "execution_count": 2,
   "metadata": {},
   "outputs": [
    {
     "name": "stdout",
     "output_type": "stream",
     "text": [
      "120\n",
      "0.49999999999999994\n",
      "0.006737946999086907\n",
      "5.67868\n",
      "5.999999963535174\n",
      "1.999999987845058\n"
     ]
    }
   ],
   "source": [
    "# Factorial of a number\n",
    "n = 5\n",
    "print(FACTORIAL(n))\n",
    "\n",
    "# Sine of a number\n",
    "n = math.pi/6\n",
    "print(SINE(n, 50))\n",
    "\n",
    "# Exponential of a number\n",
    "n = 5\n",
    "print(EXP(n, 50))\n",
    "\n",
    "# Round off a number\n",
    "n = 5.6786835279\n",
    "print(ROUND(n, 5))\n",
    "\n",
    "def f(x):\n",
    "    return x**2\n",
    "x = 3\n",
    "\n",
    "# Derivative of a function\n",
    "print(derivative(f, x))\n",
    "# Double derivative of a function\n",
    "print(double_derivative(f, x))"
   ]
  },
  {
   "cell_type": "markdown",
   "metadata": {},
   "source": [
    "# Root Finding"
   ]
  },
  {
   "cell_type": "code",
   "execution_count": 10,
   "metadata": {},
   "outputs": [
    {
     "name": "stdout",
     "output_type": "stream",
     "text": [
      "\n",
      "BISECTION METHOD\n",
      "Root does not lie in the given range (1.6,2.4)\n",
      "We change the interval to (-0.9417985355325205,2.4)\n",
      "Root of the given function in the interval (-0.9417985355325205,2.4) is -0.7390846225686694\n",
      "\n",
      "REGULA FALSI METHOD\n",
      "Root does not lie in the given range (1.6,2.4)\n",
      "We change the interval to (-0.9417985355325205,2.4)\n",
      "Root of the given function in the interval (-0.9417985355325205,2.4) is -0.7390851312265575\n",
      "\n",
      "NEWTON RAPHSON METHOD\n",
      "Nearest root of the given function for the given value of x = 2 is = -0.7390851332151607\n",
      "\n",
      "FIXED POINT METHOD\n",
      "Root of the given equation: 0.5671\n",
      "Number of iterations performed: 25\n",
      "Solutions of the polynomial equation are:\n",
      "1.0\n",
      "2.0\n",
      "-0.9999999999999999\n",
      "-2.0\n"
     ]
    }
   ],
   "source": [
    "def f1(x):\n",
    "    return -1*math.cos(x)-x\n",
    "\n",
    "eps=10**-8\n",
    "\n",
    "p=1.6\n",
    "q=2.4\n",
    "a,b=bracketing(f1, p, q)\n",
    "\n",
    "print(\"\\nBISECTION METHOD\")\n",
    "root=bisection(f1, a, b)\n",
    "if p==a and q==b:\n",
    "    print(\"Root of the given function in the interval (\" + str(p) + \",\" + str(q) + \") = \"+str(root))\n",
    "else:\n",
    "    print(\"Root does not lie in the given range (\" + str(p) + \",\" + str(q)+\")\")\n",
    "    print(\"We change the interval to (\" + str(a) + \",\" + str(b)+\")\")\n",
    "    print(\"Root of the given function in the interval (\" + str(a) + \",\" + str(b) + \") is \"+str(root))\n",
    "\n",
    "print(\"\\nREGULA FALSI METHOD\")\n",
    "root=regula_falsi(f1, a, b)\n",
    "if p==a and q==b:\n",
    "    print(\"Root of the given function in the interval (\" + str(p) + \",\" + str(q) + \") = \"+str(root))\n",
    "else:\n",
    "    print(\"Root does not lie in the given range (\" + str(p) + \",\" + str(q)+\")\")\n",
    "    print(\"We change the interval to (\" + str(a) + \",\" + str(b)+\")\")\n",
    "    print(\"Root of the given function in the interval (\" + str(a) + \",\" + str(b) + \") is \"+str(root))\n",
    "\n",
    "print(\"\\nNEWTON RAPHSON METHOD\")\n",
    "x=2\n",
    "root=newton_raphson(f1, x)\n",
    "print(\"Nearest root of the given function for the given value of x = \" + str(x) + \" is = \"+str(root))\n",
    "\n",
    "\n",
    "def g1(x):\n",
    "    return math.exp(-x)\n",
    "\n",
    "initial_guess = 1.0\n",
    "eps=1e-6\n",
    "root, Num_iter = fixed_point_method(g1, initial_guess, eps)\n",
    "\n",
    "print(\"\\nFIXED POINT METHOD\")\n",
    "print(f\"Root of the given equation: {ROUND(root, 4)}\")\n",
    "print(f\"Number of iterations performed: {Num_iter}\")\n",
    "\n",
    "\n",
    "coeff=[1,0,-5,0,4]              # not working for guess = 0 (given in this assignment)\n",
    "\n",
    "n=len(coeff)\n",
    "guess = 1.2\n",
    "\n",
    "print(\"\\nSOLUTION OF POLYNOMIAL EQUATION\")\n",
    "print(\"Solutions of the polynomial equation are:\")\n",
    "root = poly_solution(coeff, guess)\n",
    "for i in range (len(root)):\n",
    "    print(root[i])\n"
   ]
  },
  {
   "cell_type": "code",
   "execution_count": null,
   "metadata": {},
   "outputs": [],
   "source": []
  },
  {
   "cell_type": "code",
   "execution_count": null,
   "metadata": {},
   "outputs": [],
   "source": []
  }
 ],
 "metadata": {
  "kernelspec": {
   "display_name": "Python 3",
   "language": "python",
   "name": "python3"
  },
  "language_info": {
   "codemirror_mode": {
    "name": "ipython",
    "version": 3
   },
   "file_extension": ".py",
   "mimetype": "text/x-python",
   "name": "python",
   "nbconvert_exporter": "python",
   "pygments_lexer": "ipython3",
   "version": "3.10.12"
  }
 },
 "nbformat": 4,
 "nbformat_minor": 2
}
