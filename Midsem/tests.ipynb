{
 "cells": [
  {
   "cell_type": "code",
   "execution_count": 1,
   "metadata": {},
   "outputs": [],
   "source": [
    "from Chandan_Library_midsem import *\n"
   ]
  },
  {
   "cell_type": "markdown",
   "metadata": {},
   "source": [
    "# Basic Functions"
   ]
  },
  {
   "cell_type": "code",
   "execution_count": 6,
   "metadata": {},
   "outputs": [
    {
     "name": "stdout",
     "output_type": "stream",
     "text": [
      "120\n",
      "0.49999999999999994\n",
      "0.006737946999086907\n",
      "5.67868\n",
      "5.999999963535174\n",
      "1.999999987845058\n"
     ]
    }
   ],
   "source": [
    "# Factorial of a number\n",
    "n = 5\n",
    "print(FACTORIAL(n))\n",
    "\n",
    "# Sine of a number\n",
    "n = math.pi/6\n",
    "print(SINE(n, 50))\n",
    "\n",
    "# Exponential of a number\n",
    "n = 5\n",
    "print(EXP(n, 50))\n",
    "\n",
    "# Round off a number\n",
    "n = 5.6786835279\n",
    "print(ROUND(n, 5))\n",
    "\n",
    "def f(x):\n",
    "    return x**2\n",
    "x = 3\n",
    "\n",
    "# Derivative of a function\n",
    "print(derivative(f, x))\n",
    "# Double derivative of a function\n",
    "print(double_derivative(f, x))"
   ]
  },
  {
   "cell_type": "markdown",
   "metadata": {},
   "source": [
    "# Root Finding"
   ]
  },
  {
   "cell_type": "code",
   "execution_count": null,
   "metadata": {},
   "outputs": [],
   "source": []
  }
 ],
 "metadata": {
  "kernelspec": {
   "display_name": "Python 3",
   "language": "python",
   "name": "python3"
  },
  "language_info": {
   "codemirror_mode": {
    "name": "ipython",
    "version": 3
   },
   "file_extension": ".py",
   "mimetype": "text/x-python",
   "name": "python",
   "nbconvert_exporter": "python",
   "pygments_lexer": "ipython3",
   "version": "3.10.12"
  }
 },
 "nbformat": 4,
 "nbformat_minor": 2
}
