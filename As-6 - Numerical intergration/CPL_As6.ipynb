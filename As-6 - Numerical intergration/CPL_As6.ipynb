{
 "cells": [
  {
   "cell_type": "code",
   "execution_count": 1,
   "metadata": {},
   "outputs": [],
   "source": [
    "%run CPL_Library.ipynb # Running the entire library in one line because \n",
    "                        # importing does not work with JupyterLab\n"
   ]
  },
  {
   "cell_type": "markdown",
   "metadata": {},
   "source": [
    "## Numerical Integration \n",
    "#### 1. Mid-point method\n",
    "#### 2. Trapezoidal method \n",
    "#### 3. Simpson's method\n",
    "#### 4. Monte Carlo Integration"
   ]
  },
  {
   "cell_type": "markdown",
   "metadata": {},
   "source": [
    "# Question 1"
   ]
  },
  {
   "cell_type": "code",
   "execution_count": 6,
   "metadata": {},
   "outputs": [
    {
     "name": "stdout",
     "output_type": "stream",
     "text": [
      "No. of iterations         Mid-point                 trapezoidal               Simpson                  \n",
      "\n",
      "8                         3.6183138593298727        3.623956949398562         3.6203301434402904       \n",
      "16                        3.619709761707181         3.6211354043642174        3.6201948893527693       \n",
      "24                        3.619972785533525         3.620607687124767         3.620186449815972        \n",
      "\n",
      "Actual value              3.6201841052416963        3.6201844561676655        3.620184367459324        \n"
     ]
    }
   ],
   "source": [
    "def f1(x):\n",
    "    return math.sqrt(1+1/x)\n",
    "\n",
    "eps=10**-8\n",
    "a=1\n",
    "b=4\n",
    "\n",
    "MP=[]\n",
    "TR=[]\n",
    "SMP=[]\n",
    "\n",
    "N1=8\n",
    "\n",
    "MP.append(int_mid_point(f1, a, b, N1))\n",
    "TR.append(int_trapezoidal(f1, a, b, N1))\n",
    "SMP.append(int_simpson(f1, a, b, N1))\n",
    "\n",
    "N2=16\n",
    "\n",
    "MP.append(int_mid_point(f1, a, b, N2))\n",
    "TR.append(int_trapezoidal(f1, a, b, N2))\n",
    "SMP.append(int_simpson(f1, a, b, N2))\n",
    "\n",
    "N3=24\n",
    "\n",
    "MP.append(int_mid_point(f1, a, b, N3))\n",
    "TR.append(int_trapezoidal(f1, a, b, N3))\n",
    "SMP.append(int_simpson(f1, a, b, N3))\n",
    "\n",
    "# =========================================================================================\n",
    "# Calculating the actual value of integral\n",
    "\n",
    "# feed here maximum of second derivative of function for Mid-point\n",
    "fn_mp=0.619 # for f1\n",
    "# feed here maximum of second derivative of function for trapezoidal\n",
    "fn_t=0.619 # for f1\n",
    "# feed here maximum of fourth derivative of function for simpson\n",
    "fn_s=6.016 # for f1\n",
    "\n",
    "N_mp, N_t, N_s = calculate_N(fn_mp, fn_t, fn_s)\n",
    "\n",
    "MP.append(int_mid_point(f1, a, b, N_mp))\n",
    "TR.append(int_trapezoidal(f1, a, b, N_t))\n",
    "SMP.append(int_simpson(f1, a, b, N_s))\n",
    "# =========================================================================================\n",
    "\n",
    "print (\"{:<25} {:<25} {:<25} {:<25}\".format('No. of iterations', 'Mid-point', 'trapezoidal', 'Simpson'))\n",
    "print()\n",
    "print (\"{:<25} {:<25} {:<25} {:<25}\".format(N1, MP[0], TR[0], SMP[0]))\n",
    "print (\"{:<25} {:<25} {:<25} {:<25}\".format(N2, MP[1], TR[1], SMP[1]))\n",
    "print (\"{:<25} {:<25} {:<25} {:<25}\".format(N3, MP[2], TR[2], SMP[2]))\n",
    "print()\n",
    "print (\"{:<25} {:<25} {:<25} {:<25}\".format('Actual value', MP[3], TR[3], SMP[3]))\n"
   ]
  },
  {
   "cell_type": "markdown",
   "metadata": {},
   "source": [
    "# Question 2"
   ]
  },
  {
   "cell_type": "code",
   "execution_count": 3,
   "metadata": {},
   "outputs": [
    {
     "name": "stdout",
     "output_type": "stream",
     "text": [
      "For mid-point, N = 20 and integral = 0.643710311759088\n",
      "For trapezoidal, N = 28 and integral = 0.6438718899363646\n",
      "For simpson, N = 4 and integral = 0.6438016157592887\n"
     ]
    }
   ],
   "source": [
    "def f2(x):\n",
    "    return x*math.sqrt(1+x)\n",
    "\n",
    "eps=10**-4\n",
    "a=0\n",
    "b=1\n",
    "\n",
    "# feed here maximum of second derivative of function for Mid-point\n",
    "fn_mp=1 # for f2\n",
    "# feed here maximum of second derivative of function for trapezoidal\n",
    "fn_t=1 # for f2\n",
    "# feed here maximum of fourth derivative of function for simpson\n",
    "fn_s=1.5 # for f2\n",
    "\n",
    "N_mp, N_t, N_s = calculate_N(fn_mp, fn_t, fn_s, eps)\n",
    "\n",
    "MP=(int_mid_point(f2, a, b, N_mp))\n",
    "TR=(int_trapezoidal(f2, a, b, N_t))\n",
    "SMP=(int_simpson(f2, a, b, N_s))\n",
    "\n",
    "print(\"For mid-point, N = \" + str(N_mp) + \" and integral = \" + str(MP))\n",
    "print(\"For trapezoidal, N = \" + str(N_t) + \" and integral = \" + str(TR))\n",
    "print(\"For simpson, N = \" + str(N_s) + \" and integral = \" + str(SMP))\n"
   ]
  },
  {
   "cell_type": "markdown",
   "metadata": {},
   "source": [
    "# Question 3"
   ]
  },
  {
   "cell_type": "code",
   "execution_count": 4,
   "metadata": {},
   "outputs": [
    {
     "name": "stdout",
     "output_type": "stream",
     "text": [
      "It will take around 10-15 seconds\n",
      "The value of the integral in the last iteration is = 3.141565779302004\n"
     ]
    },
    {
     "data": {
      "image/png": "[encoded data removed]",
      "text/plain": [
       "<Figure size 864x432 with 1 Axes>"
      ]
     },
     "metadata": {
      "needs_background": "light"
     },
     "output_type": "display_data"
    }
   ],
   "source": [
    "def f3(x):\n",
    "    return 4/(1+x**2)\n",
    "\n",
    "print(\"It will take around 10-15 seconds\")\n",
    "plt.figure(figsize=(12,6))\n",
    "\n",
    "a=0\n",
    "b=1\n",
    "N=10\n",
    "\n",
    "NN=[]\n",
    "MC=[]\n",
    "NN.append(N)\n",
    "MC.append(int_monte_carlo(f3,pdf,a,b,N))\n",
    "\n",
    "\n",
    "x=[0,3000]\n",
    "y=[math.pi,math.pi]\n",
    "plt.plot(x,y,'k-', label='Actual value of PI')\n",
    "\n",
    "for N in range(100, 3001, 100):\n",
    "    NN.append(N)\n",
    "    MC.append(int_monte_carlo(f3,pdf,a,b,N))\n",
    "plt.plot(NN,MC,'r-o', label='Monte-carlo points')\n",
    "print(\"The value of the integral in the last iteration is = \" + str(MC[-1]))\n",
    "\n",
    "\n",
    "# One could also use N=10 and proceed with a step size of 10 as instructed\n",
    "# in question 3 but that will not give any significant improvement. Hence \n",
    "# I made the plot with step size=100 upto 5000 taking a total of 50 points\n",
    "# If one still wishes to use step-size = 10 and work for 100 points, then\n",
    "# the following code should be used\n",
    "'''\n",
    "x=[0,500]\n",
    "y=[math.pi,math.pi]\n",
    "plt.plot(x,y,'r-', label='Actual value of PI')\n",
    "\n",
    "for N in range(10, 501, 10):\n",
    "    NN.append(N)\n",
    "    MC.append(int_monte_carlo(f3,pdf,a,b,N))\n",
    "plt.plot(NN,MC,'b-o', label='Monte-carlo points')\n",
    "print(\"The value of the integral in the last iteration is = \" + str(MC[-1]))\n",
    "'''\n",
    "\n",
    "plt.grid(b=True, which='major', color='k', alpha=1, ls='-', lw=0.5)\n",
    "plt.minorticks_on()\n",
    "plt.grid(b=True, which='minor', color='g', alpha=0.2, ls='-', lw=0.5)\n",
    "plt.ylim(3.12,3.16)\n",
    "plt.legend()\n",
    "plt.show()\n"
   ]
  },
  {
   "cell_type": "markdown",
   "metadata": {},
   "source": [
    "# Question 4"
   ]
  },
  {
   "cell_type": "code",
   "execution_count": 9,
   "metadata": {},
   "outputs": [
    {
     "name": "stdout",
     "output_type": "stream",
     "text": [
      "linear mass density = T = x^2\n",
      "Centre of mass = integral(xT) dx / integral(T) dx\n",
      "\n",
      "Using mid-point, the centre of mass = 1.5000003756849742\n",
      "\n",
      "Using trapezoidal, the centre of mass = 1.4999996243736406\n",
      "\n",
      "Using simpson, the centre of mass = 1.5\n"
     ]
    }
   ],
   "source": [
    "print(\"linear mass density = T = x^2\")\n",
    "print(\"Centre of mass = integral(xT) dx / integral(T) dx\")\n",
    "\n",
    "def f4(x):\n",
    "    return x**3\n",
    "\n",
    "def f5(x):\n",
    "    return x**2\n",
    "\n",
    "eps=10**-6\n",
    "a=0\n",
    "b=2\n",
    "\n",
    "# feed here maximum of second derivative of function for Mid-point\n",
    "f4_mp=12 # for f4\n",
    "# feed here maximum of second derivative of function for trapezoidal\n",
    "f4_t=12 # for f4\n",
    "# feed here maximum of fourth derivative of function for simpson\n",
    "f4_s=0 # for f4\n",
    "\n",
    "N_mp, N_t, N_s = calculate_N(f4_mp, f4_t, f4_s, eps)\n",
    "\n",
    "MP1=(int_mid_point(f4, a, b, N_mp))\n",
    "TR1=(int_trapezoidal(f4, a, b, N_t))\n",
    "SMP1=(int_simpson(f4, a, b, N_s))\n",
    "\n",
    "# feed here maximum of second derivative of function for Mid-point\n",
    "f5_mp=2 # for f5\n",
    "# feed here maximum of second derivative of function for trapezoidal\n",
    "f5_t=2 # for f5\n",
    "# feed here maximum of fourth derivative of function for simpson\n",
    "f5_s=0 # for f5\n",
    "\n",
    "N_mp, N_t, N_s = calculate_N(f5_mp, f5_t, f5_s, eps)\n",
    "\n",
    "MP2=(int_mid_point(f5, a, b, N_mp))\n",
    "TR2=(int_trapezoidal(f5, a, b, N_t))\n",
    "SMP2=(int_simpson(f5, a, b, N_s))\n",
    "\n",
    "print(\"\\nUsing mid-point, the centre of mass = \" + str(MP1/MP2))\n",
    "print(\"\\nUsing trapezoidal, the centre of mass = \" + str(TR1/TR2))\n",
    "print(\"\\nUsing simpson, the centre of mass = \" + str(SMP1/SMP2))\n"
   ]
  },
  {
   "cell_type": "code",
   "execution_count": null,
   "metadata": {},
   "outputs": [],
   "source": []
  }
 ],
 "metadata": {
  "kernelspec": {
   "display_name": "Python 3",
   "language": "python",
   "name": "python3"
  },
  "language_info": {
   "codemirror_mode": {
    "name": "ipython",
    "version": 3
   },
   "file_extension": ".py",
   "mimetype": "text/x-python",
   "name": "python",
   "nbconvert_exporter": "python",
   "pygments_lexer": "ipython3",
   "version": "3.7.6"
  }
 },
 "nbformat": 4,
 "nbformat_minor": 4
}
