{
 "cells": [
  {
   "cell_type": "code",
   "execution_count": 1,
   "metadata": {},
   "outputs": [],
   "source": [
    "\n",
    "%run CPL_Library.ipynb  # Running the entire library in one line because \n",
    "                        # importing does not work with JupyterLab\n"
   ]
  },
  {
   "cell_type": "markdown",
   "metadata": {},
   "source": [
    "# Question 1"
   ]
  },
  {
   "cell_type": "code",
   "execution_count": 2,
   "metadata": {},
   "outputs": [
    {
     "name": "stdout",
     "output_type": "stream",
     "text": [
      "The augmented matrix is: \n",
      "\n",
      "1    1    1    1    13    \n",
      "\n",
      "2    3    0    -1    -1    \n",
      "\n",
      "-3    4    1    2    10    \n",
      "\n",
      "1    2    -1    1    1    \n",
      "\n",
      "\n",
      "Solutions are : \n",
      "2.0 2\n",
      "-0.0 2\n",
      "6.0 2\n",
      "5.0 2\n"
     ]
    }
   ],
   "source": [
    "print(\"The augmented matrix is: \")\n",
    "A,ro,co=read_matrix('As3matrixA.txt')\n",
    "print_matrix(A,ro,co)\n",
    "GJ, d=gauss_jordan(A,ro,co)\n",
    "if GJ!=None:\n",
    "    print(\"Solutions are : \")\n",
    "    for i in range(ro):\n",
    "        print(ROUND(GJ[i][ro]),2)\n",
    "else:\n",
    "    print(\"No unique solution\")\n"
   ]
  },
  {
   "cell_type": "markdown",
   "metadata": {},
   "source": [
    "# Question 2"
   ]
  },
  {
   "cell_type": "code",
   "execution_count": 3,
   "metadata": {},
   "outputs": [
    {
     "name": "stdout",
     "output_type": "stream",
     "text": [
      "The augmented matrix is: \n",
      "\n",
      "0    2    -3    -1    \n",
      "\n",
      "1    0    1    0    \n",
      "\n",
      "1    -1    0    3    \n",
      "\n",
      "\n",
      "Solutions are : \n",
      "1.0\n",
      "-2.0\n",
      "-1.0\n"
     ]
    }
   ],
   "source": [
    "print(\"The augmented matrix is: \")\n",
    "B,ro,co=read_matrix('As3matrixB.txt')\n",
    "print_matrix(B,ro,co)\n",
    "GJ, d=gauss_jordan(B,ro,co)\n",
    "if GJ!=None:\n",
    "    print(\"Solutions are : \")\n",
    "    for i in range(ro):\n",
    "        print(GJ[i][ro])\n",
    "else:\n",
    "    print(\"No unique solution\")\n"
   ]
  },
  {
   "cell_type": "markdown",
   "metadata": {},
   "source": [
    "# Question 3"
   ]
  },
  {
   "cell_type": "code",
   "execution_count": 4,
   "metadata": {},
   "outputs": [
    {
     "name": "stdout",
     "output_type": "stream",
     "text": [
      "The augmented matrix is: \n",
      "\n",
      "0    2    1    1    0    0    \n",
      "\n",
      "4    0    1    0    1    0    \n",
      "\n",
      "-1    2    0    0    0    1    \n",
      "\n",
      "\n",
      "The inverse matrix is: \n",
      "\n",
      "-0.33    0.33    0.33    \n",
      "\n",
      "-0.17    0.17    0.67    \n",
      "\n",
      "1.33    -0.33    -1.33    \n",
      "\n",
      "\n",
      "Verification: after multiplying the matrix and its inverse, we get : \n",
      "\n",
      "1.0    0    0    \n",
      "\n",
      "0    1.0    0.0    \n",
      "\n",
      "0    0    1.0    \n",
      "\n",
      "\n"
     ]
    }
   ],
   "source": [
    "print(\"The augmented matrix is: \")\n",
    "C,ro,co=read_matrix('As3matrixC.txt')\n",
    "print_matrix(C,ro,co)\n",
    "GJ, d=gauss_jordan(C,ro,co)\n",
    "C2,ro,co=read_matrix('As3matrixC.txt')\n",
    "if GJ!=None:\n",
    "    # Finding the inverse and printing in rounded form\n",
    "    # Also finding the matrix multiplication for verification and then rounding at the end\n",
    "    M=get_inv(C,ro)\n",
    "    MM,k,l=matrix_multiply(M,ro,ro,C2,ro,ro) # using only n x n matrix i.e. unaugmented matrix \n",
    "    M=round_matrix(M)\n",
    "    print(\"The inverse matrix is: \")\n",
    "    print_matrix(M,ro,ro)\n",
    "    print(\"Verification: after multiplying the matrix and its inverse, we get : \")\n",
    "    MM=round_matrix(MM)\n",
    "    print_matrix(MM,ro,ro)\n",
    "else:\n",
    "    print(\"No unique solution\")\n"
   ]
  },
  {
   "cell_type": "markdown",
   "metadata": {},
   "source": [
    "# Question 4"
   ]
  },
  {
   "cell_type": "code",
   "execution_count": 5,
   "metadata": {},
   "outputs": [
    {
     "name": "stdout",
     "output_type": "stream",
     "text": [
      "The augmented matrix is: \n",
      "\n",
      "1    4    2    3    1    0    0    0    \n",
      "\n",
      "0    1    4    4    0    1    0    0    \n",
      "\n",
      "-1    0    1    0    0    0    1    0    \n",
      "\n",
      "2    0    4    1    0    0    0    1    \n",
      "\n",
      "\n",
      "Determinant = 65.0\n"
     ]
    }
   ],
   "source": [
    "print(\"The augmented matrix is: \")\n",
    "D,ro,co=read_matrix('As3matrixD.txt')\n",
    "print_matrix(D,ro,co)\n",
    "GJ, d=gauss_jordan(D,ro,co)\n",
    "if GJ!=None:\n",
    "    print(\"Determinant = \"+str(d))\n",
    "else:\n",
    "    print(\"No unique solution\")\n"
   ]
  },
  {
   "cell_type": "code",
   "execution_count": null,
   "metadata": {},
   "outputs": [],
   "source": []
  }
 ],
 "metadata": {
  "kernelspec": {
   "display_name": "Python 3",
   "language": "python",
   "name": "python3"
  },
  "language_info": {
   "codemirror_mode": {
    "name": "ipython",
    "version": 3
   },
   "file_extension": ".py",
   "mimetype": "text/x-python",
   "name": "python",
   "nbconvert_exporter": "python",
   "pygments_lexer": "ipython3",
   "version": "3.7.6"
  }
 },
 "nbformat": 4,
 "nbformat_minor": 4
}
